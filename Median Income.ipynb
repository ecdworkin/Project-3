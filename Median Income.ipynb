{
 "cells": [
  {
   "cell_type": "code",
   "execution_count": 12,
   "id": "bb4f69b1",
   "metadata": {},
   "outputs": [],
   "source": [
    "import pandas as pd\n",
    "import plotly.express as px\n",
    "\n",
    "# Load the CSV data\n",
    "latest_file_path = 'Las Vegas Median Income - Zip Code.csv'\n",
    "latest_data = pd.read_csv(latest_file_path)\n",
    "\n"
   ]
  },
  {
   "cell_type": "code",
   "execution_count": 13,
   "id": "5ca2f8e9",
   "metadata": {},
   "outputs": [
    {
     "data": {
      "application/vnd.plotly.v1+json": {
       "config": {
        "plotlyServerURL": "https://plot.ly"
       },
       "data": [
        {
         "hovertemplate": "Zip Code=89002<br>Year=%{x}<br>Median Income (USD)=%{y}<extra></extra>",
         "legendgroup": "89002",
         "line": {
          "color": "#636efa",
          "dash": "solid"
         },
         "marker": {
          "symbol": "circle"
         },
         "mode": "markers+lines",
         "name": "89002",
         "orientation": "v",
         "showlegend": true,
         "type": "scatter",
         "x": [
          "2018",
          "2019",
          "2020",
          "2021",
          "2022"
         ],
         "xaxis": "x",
         "y": [
          79966,
          82778,
          83700,
          88425,
          95346
         ],
         "yaxis": "y"
        },
        {
         "hovertemplate": "Zip Code=89011<br>Year=%{x}<br>Median Income (USD)=%{y}<extra></extra>",
         "legendgroup": "89011",
         "line": {
          "color": "#EF553B",
          "dash": "solid"
         },
         "marker": {
          "symbol": "circle"
         },
         "mode": "markers+lines",
         "name": "89011",
         "orientation": "v",
         "showlegend": true,
         "type": "scatter",
         "x": [
          "2018",
          "2019",
          "2020",
          "2021",
          "2022"
         ],
         "xaxis": "x",
         "y": [
          64981,
          70129,
          77100,
          81736,
          85009
         ],
         "yaxis": "y"
        },
        {
         "hovertemplate": "Zip Code=89012<br>Year=%{x}<br>Median Income (USD)=%{y}<extra></extra>",
         "legendgroup": "89012",
         "line": {
          "color": "#00cc96",
          "dash": "solid"
         },
         "marker": {
          "symbol": "circle"
         },
         "mode": "markers+lines",
         "name": "89012",
         "orientation": "v",
         "showlegend": true,
         "type": "scatter",
         "x": [
          "2018",
          "2019",
          "2020",
          "2021",
          "2022"
         ],
         "xaxis": "x",
         "y": [
          74170,
          81992,
          79727,
          81896,
          89177
         ],
         "yaxis": "y"
        },
        {
         "hovertemplate": "Zip Code=89014<br>Year=%{x}<br>Median Income (USD)=%{y}<extra></extra>",
         "legendgroup": "89014",
         "line": {
          "color": "#ab63fa",
          "dash": "solid"
         },
         "marker": {
          "symbol": "circle"
         },
         "mode": "markers+lines",
         "name": "89014",
         "orientation": "v",
         "showlegend": true,
         "type": "scatter",
         "x": [
          "2018",
          "2019",
          "2020",
          "2021",
          "2022"
         ],
         "xaxis": "x",
         "y": [
          58369,
          61194,
          61752,
          65719,
          69848
         ],
         "yaxis": "y"
        },
        {
         "hovertemplate": "Zip Code=89015<br>Year=%{x}<br>Median Income (USD)=%{y}<extra></extra>",
         "legendgroup": "89015",
         "line": {
          "color": "#FFA15A",
          "dash": "solid"
         },
         "marker": {
          "symbol": "circle"
         },
         "mode": "markers+lines",
         "name": "89015",
         "orientation": "v",
         "showlegend": true,
         "type": "scatter",
         "x": [
          "2018",
          "2019",
          "2020",
          "2021",
          "2022"
         ],
         "xaxis": "x",
         "y": [
          55164,
          56569,
          57049,
          60301,
          66195
         ],
         "yaxis": "y"
        },
        {
         "hovertemplate": "Zip Code=89030<br>Year=%{x}<br>Median Income (USD)=%{y}<extra></extra>",
         "legendgroup": "89030",
         "line": {
          "color": "#19d3f3",
          "dash": "solid"
         },
         "marker": {
          "symbol": "circle"
         },
         "mode": "markers+lines",
         "name": "89030",
         "orientation": "v",
         "showlegend": true,
         "type": "scatter",
         "x": [
          "2018",
          "2019",
          "2020",
          "2021",
          "2022"
         ],
         "xaxis": "x",
         "y": [
          35028,
          36275,
          36993,
          41049,
          42794
         ],
         "yaxis": "y"
        },
        {
         "hovertemplate": "Zip Code=89032<br>Year=%{x}<br>Median Income (USD)=%{y}<extra></extra>",
         "legendgroup": "89032",
         "line": {
          "color": "#FF6692",
          "dash": "solid"
         },
         "marker": {
          "symbol": "circle"
         },
         "mode": "markers+lines",
         "name": "89032",
         "orientation": "v",
         "showlegend": true,
         "type": "scatter",
         "x": [
          "2018",
          "2019",
          "2020",
          "2021",
          "2022"
         ],
         "xaxis": "x",
         "y": [
          59427,
          60294,
          60995,
          64659,
          71262
         ],
         "yaxis": "y"
        },
        {
         "hovertemplate": "Zip Code=89044<br>Year=%{x}<br>Median Income (USD)=%{y}<extra></extra>",
         "legendgroup": "89044",
         "line": {
          "color": "#B6E880",
          "dash": "solid"
         },
         "marker": {
          "symbol": "circle"
         },
         "mode": "markers+lines",
         "name": "89044",
         "orientation": "v",
         "showlegend": true,
         "type": "scatter",
         "x": [
          "2018",
          "2019",
          "2020",
          "2021",
          "2022"
         ],
         "xaxis": "x",
         "y": [
          82144,
          89012,
          97917,
          99987,
          107255
         ],
         "yaxis": "y"
        },
        {
         "hovertemplate": "Zip Code=89052<br>Year=%{x}<br>Median Income (USD)=%{y}<extra></extra>",
         "legendgroup": "89052",
         "line": {
          "color": "#FF97FF",
          "dash": "solid"
         },
         "marker": {
          "symbol": "circle"
         },
         "mode": "markers+lines",
         "name": "89052",
         "orientation": "v",
         "showlegend": true,
         "type": "scatter",
         "x": [
          "2018",
          "2019",
          "2020",
          "2021",
          "2022"
         ],
         "xaxis": "x",
         "y": [
          80984,
          85021,
          86589,
          90064,
          96944
         ],
         "yaxis": "y"
        },
        {
         "hovertemplate": "Zip Code=89074<br>Year=%{x}<br>Median Income (USD)=%{y}<extra></extra>",
         "legendgroup": "89074",
         "line": {
          "color": "#FECB52",
          "dash": "solid"
         },
         "marker": {
          "symbol": "circle"
         },
         "mode": "markers+lines",
         "name": "89074",
         "orientation": "v",
         "showlegend": true,
         "type": "scatter",
         "x": [
          "2018",
          "2019",
          "2020",
          "2021",
          "2022"
         ],
         "xaxis": "x",
         "y": [
          71805,
          76422,
          77935,
          81799,
          86015
         ],
         "yaxis": "y"
        },
        {
         "hovertemplate": "Zip Code=89081<br>Year=%{x}<br>Median Income (USD)=%{y}<extra></extra>",
         "legendgroup": "89081",
         "line": {
          "color": "#636efa",
          "dash": "solid"
         },
         "marker": {
          "symbol": "circle"
         },
         "mode": "markers+lines",
         "name": "89081",
         "orientation": "v",
         "showlegend": true,
         "type": "scatter",
         "x": [
          "2018",
          "2019",
          "2020",
          "2021",
          "2022"
         ],
         "xaxis": "x",
         "y": [
          65322,
          68787,
          71206,
          74297,
          87378
         ],
         "yaxis": "y"
        },
        {
         "hovertemplate": "Zip Code=89084<br>Year=%{x}<br>Median Income (USD)=%{y}<extra></extra>",
         "legendgroup": "89084",
         "line": {
          "color": "#EF553B",
          "dash": "solid"
         },
         "marker": {
          "symbol": "circle"
         },
         "mode": "markers+lines",
         "name": "89084",
         "orientation": "v",
         "showlegend": true,
         "type": "scatter",
         "x": [
          "2018",
          "2019",
          "2020",
          "2021",
          "2022"
         ],
         "xaxis": "x",
         "y": [
          75571,
          80921,
          79766,
          86311,
          93575
         ],
         "yaxis": "y"
        },
        {
         "hovertemplate": "Zip Code=89085<br>Year=%{x}<br>Median Income (USD)=%{y}<extra></extra>",
         "legendgroup": "89085",
         "line": {
          "color": "#00cc96",
          "dash": "solid"
         },
         "marker": {
          "symbol": "circle"
         },
         "mode": "markers+lines",
         "name": "89085",
         "orientation": "v",
         "showlegend": true,
         "type": "scatter",
         "x": [
          "2018",
          "2019",
          "2020",
          "2021",
          "2022"
         ],
         "xaxis": "x",
         "y": [
          121609,
          120194,
          98713,
          110863,
          111577
         ],
         "yaxis": "y"
        },
        {
         "hovertemplate": "Zip Code=89086<br>Year=%{x}<br>Median Income (USD)=%{y}<extra></extra>",
         "legendgroup": "89086",
         "line": {
          "color": "#ab63fa",
          "dash": "solid"
         },
         "marker": {
          "symbol": "circle"
         },
         "mode": "markers+lines",
         "name": "89086",
         "orientation": "v",
         "showlegend": true,
         "type": "scatter",
         "x": [
          "2018",
          "2019",
          "2020",
          "2021",
          "2022"
         ],
         "xaxis": "x",
         "y": [
          58577,
          61741,
          49046,
          52103,
          56927
         ],
         "yaxis": "y"
        },
        {
         "hovertemplate": "Zip Code=89102<br>Year=%{x}<br>Median Income (USD)=%{y}<extra></extra>",
         "legendgroup": "89102",
         "line": {
          "color": "#FFA15A",
          "dash": "solid"
         },
         "marker": {
          "symbol": "circle"
         },
         "mode": "markers+lines",
         "name": "89102",
         "orientation": "v",
         "showlegend": true,
         "type": "scatter",
         "x": [
          "2018",
          "2019",
          "2020",
          "2021",
          "2022"
         ],
         "xaxis": "x",
         "y": [
          35627,
          36729,
          38122,
          40565,
          45724
         ],
         "yaxis": "y"
        },
        {
         "hovertemplate": "Zip Code=89103<br>Year=%{x}<br>Median Income (USD)=%{y}<extra></extra>",
         "legendgroup": "89103",
         "line": {
          "color": "#19d3f3",
          "dash": "solid"
         },
         "marker": {
          "symbol": "circle"
         },
         "mode": "markers+lines",
         "name": "89103",
         "orientation": "v",
         "showlegend": true,
         "type": "scatter",
         "x": [
          "2018",
          "2019",
          "2020",
          "2021",
          "2022"
         ],
         "xaxis": "x",
         "y": [
          40261,
          42537,
          42833,
          43401,
          46139
         ],
         "yaxis": "y"
        },
        {
         "hovertemplate": "Zip Code=89104<br>Year=%{x}<br>Median Income (USD)=%{y}<extra></extra>",
         "legendgroup": "89104",
         "line": {
          "color": "#FF6692",
          "dash": "solid"
         },
         "marker": {
          "symbol": "circle"
         },
         "mode": "markers+lines",
         "name": "89104",
         "orientation": "v",
         "showlegend": true,
         "type": "scatter",
         "x": [
          "2018",
          "2019",
          "2020",
          "2021",
          "2022"
         ],
         "xaxis": "x",
         "y": [
          35484,
          36448,
          38939,
          42583,
          48355
         ],
         "yaxis": "y"
        },
        {
         "hovertemplate": "Zip Code=89107<br>Year=%{x}<br>Median Income (USD)=%{y}<extra></extra>",
         "legendgroup": "89107",
         "line": {
          "color": "#B6E880",
          "dash": "solid"
         },
         "marker": {
          "symbol": "circle"
         },
         "mode": "markers+lines",
         "name": "89107",
         "orientation": "v",
         "showlegend": true,
         "type": "scatter",
         "x": [
          "2018",
          "2019",
          "2020",
          "2021",
          "2022"
         ],
         "xaxis": "x",
         "y": [
          40605,
          44234,
          42728,
          43569,
          50876
         ],
         "yaxis": "y"
        },
        {
         "hovertemplate": "Zip Code=89108<br>Year=%{x}<br>Median Income (USD)=%{y}<extra></extra>",
         "legendgroup": "89108",
         "line": {
          "color": "#FF97FF",
          "dash": "solid"
         },
         "marker": {
          "symbol": "circle"
         },
         "mode": "markers+lines",
         "name": "89108",
         "orientation": "v",
         "showlegend": true,
         "type": "scatter",
         "x": [
          "2018",
          "2019",
          "2020",
          "2021",
          "2022"
         ],
         "xaxis": "x",
         "y": [
          46759,
          46165,
          49351,
          51161,
          55935
         ],
         "yaxis": "y"
        },
        {
         "hovertemplate": "Zip Code=89109<br>Year=%{x}<br>Median Income (USD)=%{y}<extra></extra>",
         "legendgroup": "89109",
         "line": {
          "color": "#FECB52",
          "dash": "solid"
         },
         "marker": {
          "symbol": "circle"
         },
         "mode": "markers+lines",
         "name": "89109",
         "orientation": "v",
         "showlegend": true,
         "type": "scatter",
         "x": [
          "2018",
          "2019",
          "2020",
          "2021",
          "2022"
         ],
         "xaxis": "x",
         "y": [
          43206,
          42837,
          44890,
          39680,
          49818
         ],
         "yaxis": "y"
        },
        {
         "hovertemplate": "Zip Code=89113<br>Year=%{x}<br>Median Income (USD)=%{y}<extra></extra>",
         "legendgroup": "89113",
         "line": {
          "color": "#636efa",
          "dash": "solid"
         },
         "marker": {
          "symbol": "circle"
         },
         "mode": "markers+lines",
         "name": "89113",
         "orientation": "v",
         "showlegend": true,
         "type": "scatter",
         "x": [
          "2018",
          "2019",
          "2020",
          "2021",
          "2022"
         ],
         "xaxis": "x",
         "y": [
          72212,
          72479,
          76961,
          78636,
          85504
         ],
         "yaxis": "y"
        },
        {
         "hovertemplate": "Zip Code=89115<br>Year=%{x}<br>Median Income (USD)=%{y}<extra></extra>",
         "legendgroup": "89115",
         "line": {
          "color": "#EF553B",
          "dash": "solid"
         },
         "marker": {
          "symbol": "circle"
         },
         "mode": "markers+lines",
         "name": "89115",
         "orientation": "v",
         "showlegend": true,
         "type": "scatter",
         "x": [
          "2018",
          "2019",
          "2020",
          "2021",
          "2022"
         ],
         "xaxis": "x",
         "y": [
          36050,
          39412,
          41268,
          43114,
          47189
         ],
         "yaxis": "y"
        },
        {
         "hovertemplate": "Zip Code=89117<br>Year=%{x}<br>Median Income (USD)=%{y}<extra></extra>",
         "legendgroup": "89117",
         "line": {
          "color": "#00cc96",
          "dash": "solid"
         },
         "marker": {
          "symbol": "circle"
         },
         "mode": "markers+lines",
         "name": "89117",
         "orientation": "v",
         "showlegend": true,
         "type": "scatter",
         "x": [
          "2018",
          "2019",
          "2020",
          "2021",
          "2022"
         ],
         "xaxis": "x",
         "y": [
          57954,
          58608,
          60637,
          62059,
          68206
         ],
         "yaxis": "y"
        },
        {
         "hovertemplate": "Zip Code=89118<br>Year=%{x}<br>Median Income (USD)=%{y}<extra></extra>",
         "legendgroup": "89118",
         "line": {
          "color": "#ab63fa",
          "dash": "solid"
         },
         "marker": {
          "symbol": "circle"
         },
         "mode": "markers+lines",
         "name": "89118",
         "orientation": "v",
         "showlegend": true,
         "type": "scatter",
         "x": [
          "2018",
          "2019",
          "2020",
          "2021",
          "2022"
         ],
         "xaxis": "x",
         "y": [
          55444,
          57859,
          59911,
          64779,
          65929
         ],
         "yaxis": "y"
        },
        {
         "hovertemplate": "Zip Code=89119<br>Year=%{x}<br>Median Income (USD)=%{y}<extra></extra>",
         "legendgroup": "89119",
         "line": {
          "color": "#FFA15A",
          "dash": "solid"
         },
         "marker": {
          "symbol": "circle"
         },
         "mode": "markers+lines",
         "name": "89119",
         "orientation": "v",
         "showlegend": true,
         "type": "scatter",
         "x": [
          "2018",
          "2019",
          "2020",
          "2021",
          "2022"
         ],
         "xaxis": "x",
         "y": [
          34312,
          35705,
          38659,
          41298,
          44939
         ],
         "yaxis": "y"
        },
        {
         "hovertemplate": "Zip Code=89120<br>Year=%{x}<br>Median Income (USD)=%{y}<extra></extra>",
         "legendgroup": "89120",
         "line": {
          "color": "#19d3f3",
          "dash": "solid"
         },
         "marker": {
          "symbol": "circle"
         },
         "mode": "markers+lines",
         "name": "89120",
         "orientation": "v",
         "showlegend": true,
         "type": "scatter",
         "x": [
          "2018",
          "2019",
          "2020",
          "2021",
          "2022"
         ],
         "xaxis": "x",
         "y": [
          49267,
          51347,
          57365,
          58675,
          68934
         ],
         "yaxis": "y"
        },
        {
         "hovertemplate": "Zip Code=89121<br>Year=%{x}<br>Median Income (USD)=%{y}<extra></extra>",
         "legendgroup": "89121",
         "line": {
          "color": "#FF6692",
          "dash": "solid"
         },
         "marker": {
          "symbol": "circle"
         },
         "mode": "markers+lines",
         "name": "89121",
         "orientation": "v",
         "showlegend": true,
         "type": "scatter",
         "x": [
          "2018",
          "2019",
          "2020",
          "2021",
          "2022"
         ],
         "xaxis": "x",
         "y": [
          39528,
          42530,
          43160,
          46004,
          50757
         ],
         "yaxis": "y"
        },
        {
         "hovertemplate": "Zip Code=89122<br>Year=%{x}<br>Median Income (USD)=%{y}<extra></extra>",
         "legendgroup": "89122",
         "line": {
          "color": "#B6E880",
          "dash": "solid"
         },
         "marker": {
          "symbol": "circle"
         },
         "mode": "markers+lines",
         "name": "89122",
         "orientation": "v",
         "showlegend": true,
         "type": "scatter",
         "x": [
          "2018",
          "2019",
          "2020",
          "2021",
          "2022"
         ],
         "xaxis": "x",
         "y": [
          45708,
          46448,
          47950,
          49463,
          55216
         ],
         "yaxis": "y"
        },
        {
         "hovertemplate": "Zip Code=89123<br>Year=%{x}<br>Median Income (USD)=%{y}<extra></extra>",
         "legendgroup": "89123",
         "line": {
          "color": "#FF97FF",
          "dash": "solid"
         },
         "marker": {
          "symbol": "circle"
         },
         "mode": "markers+lines",
         "name": "89123",
         "orientation": "v",
         "showlegend": true,
         "type": "scatter",
         "x": [
          "2018",
          "2019",
          "2020",
          "2021",
          "2022"
         ],
         "xaxis": "x",
         "y": [
          66710,
          68691,
          71905,
          74538,
          78195
         ],
         "yaxis": "y"
        },
        {
         "hovertemplate": "Zip Code=89128<br>Year=%{x}<br>Median Income (USD)=%{y}<extra></extra>",
         "legendgroup": "89128",
         "line": {
          "color": "#FECB52",
          "dash": "solid"
         },
         "marker": {
          "symbol": "circle"
         },
         "mode": "markers+lines",
         "name": "89128",
         "orientation": "v",
         "showlegend": true,
         "type": "scatter",
         "x": [
          "2018",
          "2019",
          "2020",
          "2021",
          "2022"
         ],
         "xaxis": "x",
         "y": [
          58575,
          57456,
          59045,
          63657,
          66534
         ],
         "yaxis": "y"
        },
        {
         "hovertemplate": "Zip Code=89129<br>Year=%{x}<br>Median Income (USD)=%{y}<extra></extra>",
         "legendgroup": "89129",
         "line": {
          "color": "#636efa",
          "dash": "solid"
         },
         "marker": {
          "symbol": "circle"
         },
         "mode": "markers+lines",
         "name": "89129",
         "orientation": "v",
         "showlegend": true,
         "type": "scatter",
         "x": [
          "2018",
          "2019",
          "2020",
          "2021",
          "2022"
         ],
         "xaxis": "x",
         "y": [
          71464,
          75719,
          79275,
          82439,
          87620
         ],
         "yaxis": "y"
        },
        {
         "hovertemplate": "Zip Code=89130<br>Year=%{x}<br>Median Income (USD)=%{y}<extra></extra>",
         "legendgroup": "89130",
         "line": {
          "color": "#EF553B",
          "dash": "solid"
         },
         "marker": {
          "symbol": "circle"
         },
         "mode": "markers+lines",
         "name": "89130",
         "orientation": "v",
         "showlegend": true,
         "type": "scatter",
         "x": [
          "2018",
          "2019",
          "2020",
          "2021",
          "2022"
         ],
         "xaxis": "x",
         "y": [
          64480,
          68764,
          72308,
          78518,
          81584
         ],
         "yaxis": "y"
        },
        {
         "hovertemplate": "Zip Code=89131<br>Year=%{x}<br>Median Income (USD)=%{y}<extra></extra>",
         "legendgroup": "89131",
         "line": {
          "color": "#00cc96",
          "dash": "solid"
         },
         "marker": {
          "symbol": "circle"
         },
         "mode": "markers+lines",
         "name": "89131",
         "orientation": "v",
         "showlegend": true,
         "type": "scatter",
         "x": [
          "2018",
          "2019",
          "2020",
          "2021",
          "2022"
         ],
         "xaxis": "x",
         "y": [
          93337,
          99145,
          100838,
          104688,
          109956
         ],
         "yaxis": "y"
        },
        {
         "hovertemplate": "Zip Code=89134<br>Year=%{x}<br>Median Income (USD)=%{y}<extra></extra>",
         "legendgroup": "89134",
         "line": {
          "color": "#ab63fa",
          "dash": "solid"
         },
         "marker": {
          "symbol": "circle"
         },
         "mode": "markers+lines",
         "name": "89134",
         "orientation": "v",
         "showlegend": true,
         "type": "scatter",
         "x": [
          "2018",
          "2019",
          "2020",
          "2021",
          "2022"
         ],
         "xaxis": "x",
         "y": [
          66904,
          69461,
          67184,
          70335,
          76500
         ],
         "yaxis": "y"
        },
        {
         "hovertemplate": "Zip Code=89135<br>Year=%{x}<br>Median Income (USD)=%{y}<extra></extra>",
         "legendgroup": "89135",
         "line": {
          "color": "#FFA15A",
          "dash": "solid"
         },
         "marker": {
          "symbol": "circle"
         },
         "mode": "markers+lines",
         "name": "89135",
         "orientation": "v",
         "showlegend": true,
         "type": "scatter",
         "x": [
          "2018",
          "2019",
          "2020",
          "2021",
          "2022"
         ],
         "xaxis": "x",
         "y": [
          89046,
          94821,
          100022,
          105087,
          113377
         ],
         "yaxis": "y"
        },
        {
         "hovertemplate": "Zip Code=89138<br>Year=%{x}<br>Median Income (USD)=%{y}<extra></extra>",
         "legendgroup": "89138",
         "line": {
          "color": "#19d3f3",
          "dash": "solid"
         },
         "marker": {
          "symbol": "circle"
         },
         "mode": "markers+lines",
         "name": "89138",
         "orientation": "v",
         "showlegend": true,
         "type": "scatter",
         "x": [
          "2018",
          "2019",
          "2020",
          "2021",
          "2022"
         ],
         "xaxis": "x",
         "y": [
          112972,
          120759,
          122054,
          140362,
          157170
         ],
         "yaxis": "y"
        },
        {
         "hovertemplate": "Zip Code=89139<br>Year=%{x}<br>Median Income (USD)=%{y}<extra></extra>",
         "legendgroup": "89139",
         "line": {
          "color": "#FF6692",
          "dash": "solid"
         },
         "marker": {
          "symbol": "circle"
         },
         "mode": "markers+lines",
         "name": "89139",
         "orientation": "v",
         "showlegend": true,
         "type": "scatter",
         "x": [
          "2018",
          "2019",
          "2020",
          "2021",
          "2022"
         ],
         "xaxis": "x",
         "y": [
          75022,
          79197,
          79496,
          85248,
          93003
         ],
         "yaxis": "y"
        },
        {
         "hovertemplate": "Zip Code=89141<br>Year=%{x}<br>Median Income (USD)=%{y}<extra></extra>",
         "legendgroup": "89141",
         "line": {
          "color": "#B6E880",
          "dash": "solid"
         },
         "marker": {
          "symbol": "circle"
         },
         "mode": "markers+lines",
         "name": "89141",
         "orientation": "v",
         "showlegend": true,
         "type": "scatter",
         "x": [
          "2018",
          "2019",
          "2020",
          "2021",
          "2022"
         ],
         "xaxis": "x",
         "y": [
          88242,
          89649,
          90342,
          98454,
          105993
         ],
         "yaxis": "y"
        },
        {
         "hovertemplate": "Zip Code=89142<br>Year=%{x}<br>Median Income (USD)=%{y}<extra></extra>",
         "legendgroup": "89142",
         "line": {
          "color": "#FF97FF",
          "dash": "solid"
         },
         "marker": {
          "symbol": "circle"
         },
         "mode": "markers+lines",
         "name": "89142",
         "orientation": "v",
         "showlegend": true,
         "type": "scatter",
         "x": [
          "2018",
          "2019",
          "2020",
          "2021",
          "2022"
         ],
         "xaxis": "x",
         "y": [
          48994,
          49180,
          51388,
          53658,
          60245
         ],
         "yaxis": "y"
        },
        {
         "hovertemplate": "Zip Code=89143<br>Year=%{x}<br>Median Income (USD)=%{y}<extra></extra>",
         "legendgroup": "89143",
         "line": {
          "color": "#FECB52",
          "dash": "solid"
         },
         "marker": {
          "symbol": "circle"
         },
         "mode": "markers+lines",
         "name": "89143",
         "orientation": "v",
         "showlegend": true,
         "type": "scatter",
         "x": [
          "2018",
          "2019",
          "2020",
          "2021",
          "2022"
         ],
         "xaxis": "x",
         "y": [
          83650,
          85455,
          84385,
          86393,
          92575
         ],
         "yaxis": "y"
        },
        {
         "hovertemplate": "Zip Code=89144<br>Year=%{x}<br>Median Income (USD)=%{y}<extra></extra>",
         "legendgroup": "89144",
         "line": {
          "color": "#636efa",
          "dash": "solid"
         },
         "marker": {
          "symbol": "circle"
         },
         "mode": "markers+lines",
         "name": "89144",
         "orientation": "v",
         "showlegend": true,
         "type": "scatter",
         "x": [
          "2018",
          "2019",
          "2020",
          "2021",
          "2022"
         ],
         "xaxis": "x",
         "y": [
          86780,
          88750,
          92526,
          93078,
          101000
         ],
         "yaxis": "y"
        },
        {
         "hovertemplate": "Zip Code=89145<br>Year=%{x}<br>Median Income (USD)=%{y}<extra></extra>",
         "legendgroup": "89145",
         "line": {
          "color": "#EF553B",
          "dash": "solid"
         },
         "marker": {
          "symbol": "circle"
         },
         "mode": "markers+lines",
         "name": "89145",
         "orientation": "v",
         "showlegend": true,
         "type": "scatter",
         "x": [
          "2018",
          "2019",
          "2020",
          "2021",
          "2022"
         ],
         "xaxis": "x",
         "y": [
          57822,
          59549,
          66431,
          66612,
          67308
         ],
         "yaxis": "y"
        },
        {
         "hovertemplate": "Zip Code=89146<br>Year=%{x}<br>Median Income (USD)=%{y}<extra></extra>",
         "legendgroup": "89146",
         "line": {
          "color": "#00cc96",
          "dash": "solid"
         },
         "marker": {
          "symbol": "circle"
         },
         "mode": "markers+lines",
         "name": "89146",
         "orientation": "v",
         "showlegend": true,
         "type": "scatter",
         "x": [
          "2018",
          "2019",
          "2020",
          "2021",
          "2022"
         ],
         "xaxis": "x",
         "y": [
          48291,
          48210,
          50259,
          51438,
          57581
         ],
         "yaxis": "y"
        },
        {
         "hovertemplate": "Zip Code=89147<br>Year=%{x}<br>Median Income (USD)=%{y}<extra></extra>",
         "legendgroup": "89147",
         "line": {
          "color": "#ab63fa",
          "dash": "solid"
         },
         "marker": {
          "symbol": "circle"
         },
         "mode": "markers+lines",
         "name": "89147",
         "orientation": "v",
         "showlegend": true,
         "type": "scatter",
         "x": [
          "2018",
          "2019",
          "2020",
          "2021",
          "2022"
         ],
         "xaxis": "x",
         "y": [
          54722,
          58964,
          61186,
          63086,
          68251
         ],
         "yaxis": "y"
        },
        {
         "hovertemplate": "Zip Code=89148<br>Year=%{x}<br>Median Income (USD)=%{y}<extra></extra>",
         "legendgroup": "89148",
         "line": {
          "color": "#FFA15A",
          "dash": "solid"
         },
         "marker": {
          "symbol": "circle"
         },
         "mode": "markers+lines",
         "name": "89148",
         "orientation": "v",
         "showlegend": true,
         "type": "scatter",
         "x": [
          "2018",
          "2019",
          "2020",
          "2021",
          "2022"
         ],
         "xaxis": "x",
         "y": [
          73486,
          76359,
          78352,
          83224,
          92362
         ],
         "yaxis": "y"
        },
        {
         "hovertemplate": "Zip Code=89149<br>Year=%{x}<br>Median Income (USD)=%{y}<extra></extra>",
         "legendgroup": "89149",
         "line": {
          "color": "#19d3f3",
          "dash": "solid"
         },
         "marker": {
          "symbol": "circle"
         },
         "mode": "markers+lines",
         "name": "89149",
         "orientation": "v",
         "showlegend": true,
         "type": "scatter",
         "x": [
          "2018",
          "2019",
          "2020",
          "2021",
          "2022"
         ],
         "xaxis": "x",
         "y": [
          72318,
          73883,
          77957,
          88059,
          96454
         ],
         "yaxis": "y"
        },
        {
         "hovertemplate": "Zip Code=89156<br>Year=%{x}<br>Median Income (USD)=%{y}<extra></extra>",
         "legendgroup": "89156",
         "line": {
          "color": "#FF6692",
          "dash": "solid"
         },
         "marker": {
          "symbol": "circle"
         },
         "mode": "markers+lines",
         "name": "89156",
         "orientation": "v",
         "showlegend": true,
         "type": "scatter",
         "x": [
          "2018",
          "2019",
          "2020",
          "2021",
          "2022"
         ],
         "xaxis": "x",
         "y": [
          47641,
          48920,
          52323,
          56315,
          61856
         ],
         "yaxis": "y"
        },
        {
         "hovertemplate": "Zip Code=89158<br>Year=%{x}<br>Median Income (USD)=%{y}<extra></extra>",
         "legendgroup": "89158",
         "line": {
          "color": "#B6E880",
          "dash": "solid"
         },
         "marker": {
          "symbol": "circle"
         },
         "mode": "markers+lines",
         "name": "89158",
         "orientation": "v",
         "showlegend": true,
         "type": "scatter",
         "x": [
          "2018",
          "2019",
          "2020",
          "2021",
          "2022"
         ],
         "xaxis": "x",
         "y": [
          29414,
          30581,
          32114,
          117500,
          110039
         ],
         "yaxis": "y"
        },
        {
         "hovertemplate": "Zip Code=89169<br>Year=%{x}<br>Median Income (USD)=%{y}<extra></extra>",
         "legendgroup": "89169",
         "line": {
          "color": "#FF97FF",
          "dash": "solid"
         },
         "marker": {
          "symbol": "circle"
         },
         "mode": "markers+lines",
         "name": "89169",
         "orientation": "v",
         "showlegend": true,
         "type": "scatter",
         "x": [
          "2018",
          "2019",
          "2020",
          "2021",
          "2022"
         ],
         "xaxis": "x",
         "y": [
          82554,
          88517,
          90801,
          32050,
          37200
         ],
         "yaxis": "y"
        },
        {
         "hovertemplate": "Zip Code=89178<br>Year=%{x}<br>Median Income (USD)=%{y}<extra></extra>",
         "legendgroup": "89178",
         "line": {
          "color": "#FECB52",
          "dash": "solid"
         },
         "marker": {
          "symbol": "circle"
         },
         "mode": "markers+lines",
         "name": "89178",
         "orientation": "v",
         "showlegend": true,
         "type": "scatter",
         "x": [
          "2018",
          "2019",
          "2020",
          "2021",
          "2022"
         ],
         "xaxis": "x",
         "y": [
          92634,
          99662,
          96460,
          92471,
          101256
         ],
         "yaxis": "y"
        },
        {
         "hovertemplate": "Zip Code=89179<br>Year=%{x}<br>Median Income (USD)=%{y}<extra></extra>",
         "legendgroup": "89179",
         "line": {
          "color": "#636efa",
          "dash": "solid"
         },
         "marker": {
          "symbol": "circle"
         },
         "mode": "markers+lines",
         "name": "89179",
         "orientation": "v",
         "showlegend": true,
         "type": "scatter",
         "x": [
          "2018",
          "2019",
          "2020",
          "2021",
          "2022"
         ],
         "xaxis": "x",
         "y": [
          65491,
          65988,
          65943,
          100840,
          110356
         ],
         "yaxis": "y"
        },
        {
         "hovertemplate": "Zip Code=89183<br>Year=%{x}<br>Median Income (USD)=%{y}<extra></extra>",
         "legendgroup": "89183",
         "line": {
          "color": "#EF553B",
          "dash": "solid"
         },
         "marker": {
          "symbol": "circle"
         },
         "mode": "markers+lines",
         "name": "89183",
         "orientation": "v",
         "showlegend": true,
         "type": "scatter",
         "x": [
          "2018",
          "2019",
          "2020",
          "2021",
          "2022"
         ],
         "xaxis": "x",
         "y": [
          null,
          null,
          null,
          69125,
          76488
         ],
         "yaxis": "y"
        }
       ],
       "layout": {
        "legend": {
         "title": {
          "text": "Zip Code"
         },
         "tracegroupgap": 0
        },
        "template": {
         "data": {
          "bar": [
           {
            "error_x": {
             "color": "#2a3f5f"
            },
            "error_y": {
             "color": "#2a3f5f"
            },
            "marker": {
             "line": {
              "color": "#E5ECF6",
              "width": 0.5
             },
             "pattern": {
              "fillmode": "overlay",
              "size": 10,
              "solidity": 0.2
             }
            },
            "type": "bar"
           }
          ],
          "barpolar": [
           {
            "marker": {
             "line": {
              "color": "#E5ECF6",
              "width": 0.5
             },
             "pattern": {
              "fillmode": "overlay",
              "size": 10,
              "solidity": 0.2
             }
            },
            "type": "barpolar"
           }
          ],
          "carpet": [
           {
            "aaxis": {
             "endlinecolor": "#2a3f5f",
             "gridcolor": "white",
             "linecolor": "white",
             "minorgridcolor": "white",
             "startlinecolor": "#2a3f5f"
            },
            "baxis": {
             "endlinecolor": "#2a3f5f",
             "gridcolor": "white",
             "linecolor": "white",
             "minorgridcolor": "white",
             "startlinecolor": "#2a3f5f"
            },
            "type": "carpet"
           }
          ],
          "choropleth": [
           {
            "colorbar": {
             "outlinewidth": 0,
             "ticks": ""
            },
            "type": "choropleth"
           }
          ],
          "contour": [
           {
            "colorbar": {
             "outlinewidth": 0,
             "ticks": ""
            },
            "colorscale": [
             [
              0,
              "#0d0887"
             ],
             [
              0.1111111111111111,
              "#46039f"
             ],
             [
              0.2222222222222222,
              "#7201a8"
             ],
             [
              0.3333333333333333,
              "#9c179e"
             ],
             [
              0.4444444444444444,
              "#bd3786"
             ],
             [
              0.5555555555555556,
              "#d8576b"
             ],
             [
              0.6666666666666666,
              "#ed7953"
             ],
             [
              0.7777777777777778,
              "#fb9f3a"
             ],
             [
              0.8888888888888888,
              "#fdca26"
             ],
             [
              1,
              "#f0f921"
             ]
            ],
            "type": "contour"
           }
          ],
          "contourcarpet": [
           {
            "colorbar": {
             "outlinewidth": 0,
             "ticks": ""
            },
            "type": "contourcarpet"
           }
          ],
          "heatmap": [
           {
            "colorbar": {
             "outlinewidth": 0,
             "ticks": ""
            },
            "colorscale": [
             [
              0,
              "#0d0887"
             ],
             [
              0.1111111111111111,
              "#46039f"
             ],
             [
              0.2222222222222222,
              "#7201a8"
             ],
             [
              0.3333333333333333,
              "#9c179e"
             ],
             [
              0.4444444444444444,
              "#bd3786"
             ],
             [
              0.5555555555555556,
              "#d8576b"
             ],
             [
              0.6666666666666666,
              "#ed7953"
             ],
             [
              0.7777777777777778,
              "#fb9f3a"
             ],
             [
              0.8888888888888888,
              "#fdca26"
             ],
             [
              1,
              "#f0f921"
             ]
            ],
            "type": "heatmap"
           }
          ],
          "heatmapgl": [
           {
            "colorbar": {
             "outlinewidth": 0,
             "ticks": ""
            },
            "colorscale": [
             [
              0,
              "#0d0887"
             ],
             [
              0.1111111111111111,
              "#46039f"
             ],
             [
              0.2222222222222222,
              "#7201a8"
             ],
             [
              0.3333333333333333,
              "#9c179e"
             ],
             [
              0.4444444444444444,
              "#bd3786"
             ],
             [
              0.5555555555555556,
              "#d8576b"
             ],
             [
              0.6666666666666666,
              "#ed7953"
             ],
             [
              0.7777777777777778,
              "#fb9f3a"
             ],
             [
              0.8888888888888888,
              "#fdca26"
             ],
             [
              1,
              "#f0f921"
             ]
            ],
            "type": "heatmapgl"
           }
          ],
          "histogram": [
           {
            "marker": {
             "pattern": {
              "fillmode": "overlay",
              "size": 10,
              "solidity": 0.2
             }
            },
            "type": "histogram"
           }
          ],
          "histogram2d": [
           {
            "colorbar": {
             "outlinewidth": 0,
             "ticks": ""
            },
            "colorscale": [
             [
              0,
              "#0d0887"
             ],
             [
              0.1111111111111111,
              "#46039f"
             ],
             [
              0.2222222222222222,
              "#7201a8"
             ],
             [
              0.3333333333333333,
              "#9c179e"
             ],
             [
              0.4444444444444444,
              "#bd3786"
             ],
             [
              0.5555555555555556,
              "#d8576b"
             ],
             [
              0.6666666666666666,
              "#ed7953"
             ],
             [
              0.7777777777777778,
              "#fb9f3a"
             ],
             [
              0.8888888888888888,
              "#fdca26"
             ],
             [
              1,
              "#f0f921"
             ]
            ],
            "type": "histogram2d"
           }
          ],
          "histogram2dcontour": [
           {
            "colorbar": {
             "outlinewidth": 0,
             "ticks": ""
            },
            "colorscale": [
             [
              0,
              "#0d0887"
             ],
             [
              0.1111111111111111,
              "#46039f"
             ],
             [
              0.2222222222222222,
              "#7201a8"
             ],
             [
              0.3333333333333333,
              "#9c179e"
             ],
             [
              0.4444444444444444,
              "#bd3786"
             ],
             [
              0.5555555555555556,
              "#d8576b"
             ],
             [
              0.6666666666666666,
              "#ed7953"
             ],
             [
              0.7777777777777778,
              "#fb9f3a"
             ],
             [
              0.8888888888888888,
              "#fdca26"
             ],
             [
              1,
              "#f0f921"
             ]
            ],
            "type": "histogram2dcontour"
           }
          ],
          "mesh3d": [
           {
            "colorbar": {
             "outlinewidth": 0,
             "ticks": ""
            },
            "type": "mesh3d"
           }
          ],
          "parcoords": [
           {
            "line": {
             "colorbar": {
              "outlinewidth": 0,
              "ticks": ""
             }
            },
            "type": "parcoords"
           }
          ],
          "pie": [
           {
            "automargin": true,
            "type": "pie"
           }
          ],
          "scatter": [
           {
            "fillpattern": {
             "fillmode": "overlay",
             "size": 10,
             "solidity": 0.2
            },
            "type": "scatter"
           }
          ],
          "scatter3d": [
           {
            "line": {
             "colorbar": {
              "outlinewidth": 0,
              "ticks": ""
             }
            },
            "marker": {
             "colorbar": {
              "outlinewidth": 0,
              "ticks": ""
             }
            },
            "type": "scatter3d"
           }
          ],
          "scattercarpet": [
           {
            "marker": {
             "colorbar": {
              "outlinewidth": 0,
              "ticks": ""
             }
            },
            "type": "scattercarpet"
           }
          ],
          "scattergeo": [
           {
            "marker": {
             "colorbar": {
              "outlinewidth": 0,
              "ticks": ""
             }
            },
            "type": "scattergeo"
           }
          ],
          "scattergl": [
           {
            "marker": {
             "colorbar": {
              "outlinewidth": 0,
              "ticks": ""
             }
            },
            "type": "scattergl"
           }
          ],
          "scattermapbox": [
           {
            "marker": {
             "colorbar": {
              "outlinewidth": 0,
              "ticks": ""
             }
            },
            "type": "scattermapbox"
           }
          ],
          "scatterpolar": [
           {
            "marker": {
             "colorbar": {
              "outlinewidth": 0,
              "ticks": ""
             }
            },
            "type": "scatterpolar"
           }
          ],
          "scatterpolargl": [
           {
            "marker": {
             "colorbar": {
              "outlinewidth": 0,
              "ticks": ""
             }
            },
            "type": "scatterpolargl"
           }
          ],
          "scatterternary": [
           {
            "marker": {
             "colorbar": {
              "outlinewidth": 0,
              "ticks": ""
             }
            },
            "type": "scatterternary"
           }
          ],
          "surface": [
           {
            "colorbar": {
             "outlinewidth": 0,
             "ticks": ""
            },
            "colorscale": [
             [
              0,
              "#0d0887"
             ],
             [
              0.1111111111111111,
              "#46039f"
             ],
             [
              0.2222222222222222,
              "#7201a8"
             ],
             [
              0.3333333333333333,
              "#9c179e"
             ],
             [
              0.4444444444444444,
              "#bd3786"
             ],
             [
              0.5555555555555556,
              "#d8576b"
             ],
             [
              0.6666666666666666,
              "#ed7953"
             ],
             [
              0.7777777777777778,
              "#fb9f3a"
             ],
             [
              0.8888888888888888,
              "#fdca26"
             ],
             [
              1,
              "#f0f921"
             ]
            ],
            "type": "surface"
           }
          ],
          "table": [
           {
            "cells": {
             "fill": {
              "color": "#EBF0F8"
             },
             "line": {
              "color": "white"
             }
            },
            "header": {
             "fill": {
              "color": "#C8D4E3"
             },
             "line": {
              "color": "white"
             }
            },
            "type": "table"
           }
          ]
         },
         "layout": {
          "annotationdefaults": {
           "arrowcolor": "#2a3f5f",
           "arrowhead": 0,
           "arrowwidth": 1
          },
          "autotypenumbers": "strict",
          "coloraxis": {
           "colorbar": {
            "outlinewidth": 0,
            "ticks": ""
           }
          },
          "colorscale": {
           "diverging": [
            [
             0,
             "#8e0152"
            ],
            [
             0.1,
             "#c51b7d"
            ],
            [
             0.2,
             "#de77ae"
            ],
            [
             0.3,
             "#f1b6da"
            ],
            [
             0.4,
             "#fde0ef"
            ],
            [
             0.5,
             "#f7f7f7"
            ],
            [
             0.6,
             "#e6f5d0"
            ],
            [
             0.7,
             "#b8e186"
            ],
            [
             0.8,
             "#7fbc41"
            ],
            [
             0.9,
             "#4d9221"
            ],
            [
             1,
             "#276419"
            ]
           ],
           "sequential": [
            [
             0,
             "#0d0887"
            ],
            [
             0.1111111111111111,
             "#46039f"
            ],
            [
             0.2222222222222222,
             "#7201a8"
            ],
            [
             0.3333333333333333,
             "#9c179e"
            ],
            [
             0.4444444444444444,
             "#bd3786"
            ],
            [
             0.5555555555555556,
             "#d8576b"
            ],
            [
             0.6666666666666666,
             "#ed7953"
            ],
            [
             0.7777777777777778,
             "#fb9f3a"
            ],
            [
             0.8888888888888888,
             "#fdca26"
            ],
            [
             1,
             "#f0f921"
            ]
           ],
           "sequentialminus": [
            [
             0,
             "#0d0887"
            ],
            [
             0.1111111111111111,
             "#46039f"
            ],
            [
             0.2222222222222222,
             "#7201a8"
            ],
            [
             0.3333333333333333,
             "#9c179e"
            ],
            [
             0.4444444444444444,
             "#bd3786"
            ],
            [
             0.5555555555555556,
             "#d8576b"
            ],
            [
             0.6666666666666666,
             "#ed7953"
            ],
            [
             0.7777777777777778,
             "#fb9f3a"
            ],
            [
             0.8888888888888888,
             "#fdca26"
            ],
            [
             1,
             "#f0f921"
            ]
           ]
          },
          "colorway": [
           "#636efa",
           "#EF553B",
           "#00cc96",
           "#ab63fa",
           "#FFA15A",
           "#19d3f3",
           "#FF6692",
           "#B6E880",
           "#FF97FF",
           "#FECB52"
          ],
          "font": {
           "color": "#2a3f5f"
          },
          "geo": {
           "bgcolor": "white",
           "lakecolor": "white",
           "landcolor": "#E5ECF6",
           "showlakes": true,
           "showland": true,
           "subunitcolor": "white"
          },
          "hoverlabel": {
           "align": "left"
          },
          "hovermode": "closest",
          "mapbox": {
           "style": "light"
          },
          "paper_bgcolor": "white",
          "plot_bgcolor": "#E5ECF6",
          "polar": {
           "angularaxis": {
            "gridcolor": "white",
            "linecolor": "white",
            "ticks": ""
           },
           "bgcolor": "#E5ECF6",
           "radialaxis": {
            "gridcolor": "white",
            "linecolor": "white",
            "ticks": ""
           }
          },
          "scene": {
           "xaxis": {
            "backgroundcolor": "#E5ECF6",
            "gridcolor": "white",
            "gridwidth": 2,
            "linecolor": "white",
            "showbackground": true,
            "ticks": "",
            "zerolinecolor": "white"
           },
           "yaxis": {
            "backgroundcolor": "#E5ECF6",
            "gridcolor": "white",
            "gridwidth": 2,
            "linecolor": "white",
            "showbackground": true,
            "ticks": "",
            "zerolinecolor": "white"
           },
           "zaxis": {
            "backgroundcolor": "#E5ECF6",
            "gridcolor": "white",
            "gridwidth": 2,
            "linecolor": "white",
            "showbackground": true,
            "ticks": "",
            "zerolinecolor": "white"
           }
          },
          "shapedefaults": {
           "line": {
            "color": "#2a3f5f"
           }
          },
          "ternary": {
           "aaxis": {
            "gridcolor": "white",
            "linecolor": "white",
            "ticks": ""
           },
           "baxis": {
            "gridcolor": "white",
            "linecolor": "white",
            "ticks": ""
           },
           "bgcolor": "#E5ECF6",
           "caxis": {
            "gridcolor": "white",
            "linecolor": "white",
            "ticks": ""
           }
          },
          "title": {
           "x": 0.05
          },
          "xaxis": {
           "automargin": true,
           "gridcolor": "white",
           "linecolor": "white",
           "ticks": "",
           "title": {
            "standoff": 15
           },
           "zerolinecolor": "white",
           "zerolinewidth": 2
          },
          "yaxis": {
           "automargin": true,
           "gridcolor": "white",
           "linecolor": "white",
           "ticks": "",
           "title": {
            "standoff": 15
           },
           "zerolinecolor": "white",
           "zerolinewidth": 2
          }
         }
        },
        "title": {
         "text": "Median Income by Zip Code in Las Vegas Over Years"
        },
        "xaxis": {
         "anchor": "y",
         "domain": [
          0,
          1
         ],
         "title": {
          "text": "Year"
         }
        },
        "yaxis": {
         "anchor": "x",
         "domain": [
          0,
          1
         ],
         "title": {
          "text": "Median Income (USD)"
         }
        }
       }
      },
      "text/html": [
       "<div>                            <div id=\"85cd7f3c-e471-4feb-9b7a-d3df004f1110\" class=\"plotly-graph-div\" style=\"height:525px; width:100%;\"></div>            <script type=\"text/javascript\">                require([\"plotly\"], function(Plotly) {                    window.PLOTLYENV=window.PLOTLYENV || {};                                    if (document.getElementById(\"85cd7f3c-e471-4feb-9b7a-d3df004f1110\")) {                    Plotly.newPlot(                        \"85cd7f3c-e471-4feb-9b7a-d3df004f1110\",                        [{\"hovertemplate\":\"Zip Code=89002<br>Year=%{x}<br>Median Income (USD)=%{y}<extra></extra>\",\"legendgroup\":\"89002\",\"line\":{\"color\":\"#636efa\",\"dash\":\"solid\"},\"marker\":{\"symbol\":\"circle\"},\"mode\":\"markers+lines\",\"name\":\"89002\",\"orientation\":\"v\",\"showlegend\":true,\"x\":[\"2018\",\"2019\",\"2020\",\"2021\",\"2022\"],\"xaxis\":\"x\",\"y\":[79966.0,82778.0,83700.0,88425.0,95346.0],\"yaxis\":\"y\",\"type\":\"scatter\"},{\"hovertemplate\":\"Zip Code=89011<br>Year=%{x}<br>Median Income (USD)=%{y}<extra></extra>\",\"legendgroup\":\"89011\",\"line\":{\"color\":\"#EF553B\",\"dash\":\"solid\"},\"marker\":{\"symbol\":\"circle\"},\"mode\":\"markers+lines\",\"name\":\"89011\",\"orientation\":\"v\",\"showlegend\":true,\"x\":[\"2018\",\"2019\",\"2020\",\"2021\",\"2022\"],\"xaxis\":\"x\",\"y\":[64981.0,70129.0,77100.0,81736.0,85009.0],\"yaxis\":\"y\",\"type\":\"scatter\"},{\"hovertemplate\":\"Zip Code=89012<br>Year=%{x}<br>Median Income (USD)=%{y}<extra></extra>\",\"legendgroup\":\"89012\",\"line\":{\"color\":\"#00cc96\",\"dash\":\"solid\"},\"marker\":{\"symbol\":\"circle\"},\"mode\":\"markers+lines\",\"name\":\"89012\",\"orientation\":\"v\",\"showlegend\":true,\"x\":[\"2018\",\"2019\",\"2020\",\"2021\",\"2022\"],\"xaxis\":\"x\",\"y\":[74170.0,81992.0,79727.0,81896.0,89177.0],\"yaxis\":\"y\",\"type\":\"scatter\"},{\"hovertemplate\":\"Zip Code=89014<br>Year=%{x}<br>Median Income (USD)=%{y}<extra></extra>\",\"legendgroup\":\"89014\",\"line\":{\"color\":\"#ab63fa\",\"dash\":\"solid\"},\"marker\":{\"symbol\":\"circle\"},\"mode\":\"markers+lines\",\"name\":\"89014\",\"orientation\":\"v\",\"showlegend\":true,\"x\":[\"2018\",\"2019\",\"2020\",\"2021\",\"2022\"],\"xaxis\":\"x\",\"y\":[58369.0,61194.0,61752.0,65719.0,69848.0],\"yaxis\":\"y\",\"type\":\"scatter\"},{\"hovertemplate\":\"Zip Code=89015<br>Year=%{x}<br>Median Income (USD)=%{y}<extra></extra>\",\"legendgroup\":\"89015\",\"line\":{\"color\":\"#FFA15A\",\"dash\":\"solid\"},\"marker\":{\"symbol\":\"circle\"},\"mode\":\"markers+lines\",\"name\":\"89015\",\"orientation\":\"v\",\"showlegend\":true,\"x\":[\"2018\",\"2019\",\"2020\",\"2021\",\"2022\"],\"xaxis\":\"x\",\"y\":[55164.0,56569.0,57049.0,60301.0,66195.0],\"yaxis\":\"y\",\"type\":\"scatter\"},{\"hovertemplate\":\"Zip Code=89030<br>Year=%{x}<br>Median Income (USD)=%{y}<extra></extra>\",\"legendgroup\":\"89030\",\"line\":{\"color\":\"#19d3f3\",\"dash\":\"solid\"},\"marker\":{\"symbol\":\"circle\"},\"mode\":\"markers+lines\",\"name\":\"89030\",\"orientation\":\"v\",\"showlegend\":true,\"x\":[\"2018\",\"2019\",\"2020\",\"2021\",\"2022\"],\"xaxis\":\"x\",\"y\":[35028.0,36275.0,36993.0,41049.0,42794.0],\"yaxis\":\"y\",\"type\":\"scatter\"},{\"hovertemplate\":\"Zip Code=89032<br>Year=%{x}<br>Median Income (USD)=%{y}<extra></extra>\",\"legendgroup\":\"89032\",\"line\":{\"color\":\"#FF6692\",\"dash\":\"solid\"},\"marker\":{\"symbol\":\"circle\"},\"mode\":\"markers+lines\",\"name\":\"89032\",\"orientation\":\"v\",\"showlegend\":true,\"x\":[\"2018\",\"2019\",\"2020\",\"2021\",\"2022\"],\"xaxis\":\"x\",\"y\":[59427.0,60294.0,60995.0,64659.0,71262.0],\"yaxis\":\"y\",\"type\":\"scatter\"},{\"hovertemplate\":\"Zip Code=89044<br>Year=%{x}<br>Median Income (USD)=%{y}<extra></extra>\",\"legendgroup\":\"89044\",\"line\":{\"color\":\"#B6E880\",\"dash\":\"solid\"},\"marker\":{\"symbol\":\"circle\"},\"mode\":\"markers+lines\",\"name\":\"89044\",\"orientation\":\"v\",\"showlegend\":true,\"x\":[\"2018\",\"2019\",\"2020\",\"2021\",\"2022\"],\"xaxis\":\"x\",\"y\":[82144.0,89012.0,97917.0,99987.0,107255.0],\"yaxis\":\"y\",\"type\":\"scatter\"},{\"hovertemplate\":\"Zip Code=89052<br>Year=%{x}<br>Median Income (USD)=%{y}<extra></extra>\",\"legendgroup\":\"89052\",\"line\":{\"color\":\"#FF97FF\",\"dash\":\"solid\"},\"marker\":{\"symbol\":\"circle\"},\"mode\":\"markers+lines\",\"name\":\"89052\",\"orientation\":\"v\",\"showlegend\":true,\"x\":[\"2018\",\"2019\",\"2020\",\"2021\",\"2022\"],\"xaxis\":\"x\",\"y\":[80984.0,85021.0,86589.0,90064.0,96944.0],\"yaxis\":\"y\",\"type\":\"scatter\"},{\"hovertemplate\":\"Zip Code=89074<br>Year=%{x}<br>Median Income (USD)=%{y}<extra></extra>\",\"legendgroup\":\"89074\",\"line\":{\"color\":\"#FECB52\",\"dash\":\"solid\"},\"marker\":{\"symbol\":\"circle\"},\"mode\":\"markers+lines\",\"name\":\"89074\",\"orientation\":\"v\",\"showlegend\":true,\"x\":[\"2018\",\"2019\",\"2020\",\"2021\",\"2022\"],\"xaxis\":\"x\",\"y\":[71805.0,76422.0,77935.0,81799.0,86015.0],\"yaxis\":\"y\",\"type\":\"scatter\"},{\"hovertemplate\":\"Zip Code=89081<br>Year=%{x}<br>Median Income (USD)=%{y}<extra></extra>\",\"legendgroup\":\"89081\",\"line\":{\"color\":\"#636efa\",\"dash\":\"solid\"},\"marker\":{\"symbol\":\"circle\"},\"mode\":\"markers+lines\",\"name\":\"89081\",\"orientation\":\"v\",\"showlegend\":true,\"x\":[\"2018\",\"2019\",\"2020\",\"2021\",\"2022\"],\"xaxis\":\"x\",\"y\":[65322.0,68787.0,71206.0,74297.0,87378.0],\"yaxis\":\"y\",\"type\":\"scatter\"},{\"hovertemplate\":\"Zip Code=89084<br>Year=%{x}<br>Median Income (USD)=%{y}<extra></extra>\",\"legendgroup\":\"89084\",\"line\":{\"color\":\"#EF553B\",\"dash\":\"solid\"},\"marker\":{\"symbol\":\"circle\"},\"mode\":\"markers+lines\",\"name\":\"89084\",\"orientation\":\"v\",\"showlegend\":true,\"x\":[\"2018\",\"2019\",\"2020\",\"2021\",\"2022\"],\"xaxis\":\"x\",\"y\":[75571.0,80921.0,79766.0,86311.0,93575.0],\"yaxis\":\"y\",\"type\":\"scatter\"},{\"hovertemplate\":\"Zip Code=89085<br>Year=%{x}<br>Median Income (USD)=%{y}<extra></extra>\",\"legendgroup\":\"89085\",\"line\":{\"color\":\"#00cc96\",\"dash\":\"solid\"},\"marker\":{\"symbol\":\"circle\"},\"mode\":\"markers+lines\",\"name\":\"89085\",\"orientation\":\"v\",\"showlegend\":true,\"x\":[\"2018\",\"2019\",\"2020\",\"2021\",\"2022\"],\"xaxis\":\"x\",\"y\":[121609.0,120194.0,98713.0,110863.0,111577.0],\"yaxis\":\"y\",\"type\":\"scatter\"},{\"hovertemplate\":\"Zip Code=89086<br>Year=%{x}<br>Median Income (USD)=%{y}<extra></extra>\",\"legendgroup\":\"89086\",\"line\":{\"color\":\"#ab63fa\",\"dash\":\"solid\"},\"marker\":{\"symbol\":\"circle\"},\"mode\":\"markers+lines\",\"name\":\"89086\",\"orientation\":\"v\",\"showlegend\":true,\"x\":[\"2018\",\"2019\",\"2020\",\"2021\",\"2022\"],\"xaxis\":\"x\",\"y\":[58577.0,61741.0,49046.0,52103.0,56927.0],\"yaxis\":\"y\",\"type\":\"scatter\"},{\"hovertemplate\":\"Zip Code=89102<br>Year=%{x}<br>Median Income (USD)=%{y}<extra></extra>\",\"legendgroup\":\"89102\",\"line\":{\"color\":\"#FFA15A\",\"dash\":\"solid\"},\"marker\":{\"symbol\":\"circle\"},\"mode\":\"markers+lines\",\"name\":\"89102\",\"orientation\":\"v\",\"showlegend\":true,\"x\":[\"2018\",\"2019\",\"2020\",\"2021\",\"2022\"],\"xaxis\":\"x\",\"y\":[35627.0,36729.0,38122.0,40565.0,45724.0],\"yaxis\":\"y\",\"type\":\"scatter\"},{\"hovertemplate\":\"Zip Code=89103<br>Year=%{x}<br>Median Income (USD)=%{y}<extra></extra>\",\"legendgroup\":\"89103\",\"line\":{\"color\":\"#19d3f3\",\"dash\":\"solid\"},\"marker\":{\"symbol\":\"circle\"},\"mode\":\"markers+lines\",\"name\":\"89103\",\"orientation\":\"v\",\"showlegend\":true,\"x\":[\"2018\",\"2019\",\"2020\",\"2021\",\"2022\"],\"xaxis\":\"x\",\"y\":[40261.0,42537.0,42833.0,43401.0,46139.0],\"yaxis\":\"y\",\"type\":\"scatter\"},{\"hovertemplate\":\"Zip Code=89104<br>Year=%{x}<br>Median Income (USD)=%{y}<extra></extra>\",\"legendgroup\":\"89104\",\"line\":{\"color\":\"#FF6692\",\"dash\":\"solid\"},\"marker\":{\"symbol\":\"circle\"},\"mode\":\"markers+lines\",\"name\":\"89104\",\"orientation\":\"v\",\"showlegend\":true,\"x\":[\"2018\",\"2019\",\"2020\",\"2021\",\"2022\"],\"xaxis\":\"x\",\"y\":[35484.0,36448.0,38939.0,42583.0,48355.0],\"yaxis\":\"y\",\"type\":\"scatter\"},{\"hovertemplate\":\"Zip Code=89107<br>Year=%{x}<br>Median Income (USD)=%{y}<extra></extra>\",\"legendgroup\":\"89107\",\"line\":{\"color\":\"#B6E880\",\"dash\":\"solid\"},\"marker\":{\"symbol\":\"circle\"},\"mode\":\"markers+lines\",\"name\":\"89107\",\"orientation\":\"v\",\"showlegend\":true,\"x\":[\"2018\",\"2019\",\"2020\",\"2021\",\"2022\"],\"xaxis\":\"x\",\"y\":[40605.0,44234.0,42728.0,43569.0,50876.0],\"yaxis\":\"y\",\"type\":\"scatter\"},{\"hovertemplate\":\"Zip Code=89108<br>Year=%{x}<br>Median Income (USD)=%{y}<extra></extra>\",\"legendgroup\":\"89108\",\"line\":{\"color\":\"#FF97FF\",\"dash\":\"solid\"},\"marker\":{\"symbol\":\"circle\"},\"mode\":\"markers+lines\",\"name\":\"89108\",\"orientation\":\"v\",\"showlegend\":true,\"x\":[\"2018\",\"2019\",\"2020\",\"2021\",\"2022\"],\"xaxis\":\"x\",\"y\":[46759.0,46165.0,49351.0,51161.0,55935.0],\"yaxis\":\"y\",\"type\":\"scatter\"},{\"hovertemplate\":\"Zip Code=89109<br>Year=%{x}<br>Median Income (USD)=%{y}<extra></extra>\",\"legendgroup\":\"89109\",\"line\":{\"color\":\"#FECB52\",\"dash\":\"solid\"},\"marker\":{\"symbol\":\"circle\"},\"mode\":\"markers+lines\",\"name\":\"89109\",\"orientation\":\"v\",\"showlegend\":true,\"x\":[\"2018\",\"2019\",\"2020\",\"2021\",\"2022\"],\"xaxis\":\"x\",\"y\":[43206.0,42837.0,44890.0,39680.0,49818.0],\"yaxis\":\"y\",\"type\":\"scatter\"},{\"hovertemplate\":\"Zip Code=89113<br>Year=%{x}<br>Median Income (USD)=%{y}<extra></extra>\",\"legendgroup\":\"89113\",\"line\":{\"color\":\"#636efa\",\"dash\":\"solid\"},\"marker\":{\"symbol\":\"circle\"},\"mode\":\"markers+lines\",\"name\":\"89113\",\"orientation\":\"v\",\"showlegend\":true,\"x\":[\"2018\",\"2019\",\"2020\",\"2021\",\"2022\"],\"xaxis\":\"x\",\"y\":[72212.0,72479.0,76961.0,78636.0,85504.0],\"yaxis\":\"y\",\"type\":\"scatter\"},{\"hovertemplate\":\"Zip Code=89115<br>Year=%{x}<br>Median Income (USD)=%{y}<extra></extra>\",\"legendgroup\":\"89115\",\"line\":{\"color\":\"#EF553B\",\"dash\":\"solid\"},\"marker\":{\"symbol\":\"circle\"},\"mode\":\"markers+lines\",\"name\":\"89115\",\"orientation\":\"v\",\"showlegend\":true,\"x\":[\"2018\",\"2019\",\"2020\",\"2021\",\"2022\"],\"xaxis\":\"x\",\"y\":[36050.0,39412.0,41268.0,43114.0,47189.0],\"yaxis\":\"y\",\"type\":\"scatter\"},{\"hovertemplate\":\"Zip Code=89117<br>Year=%{x}<br>Median Income (USD)=%{y}<extra></extra>\",\"legendgroup\":\"89117\",\"line\":{\"color\":\"#00cc96\",\"dash\":\"solid\"},\"marker\":{\"symbol\":\"circle\"},\"mode\":\"markers+lines\",\"name\":\"89117\",\"orientation\":\"v\",\"showlegend\":true,\"x\":[\"2018\",\"2019\",\"2020\",\"2021\",\"2022\"],\"xaxis\":\"x\",\"y\":[57954.0,58608.0,60637.0,62059.0,68206.0],\"yaxis\":\"y\",\"type\":\"scatter\"},{\"hovertemplate\":\"Zip Code=89118<br>Year=%{x}<br>Median Income (USD)=%{y}<extra></extra>\",\"legendgroup\":\"89118\",\"line\":{\"color\":\"#ab63fa\",\"dash\":\"solid\"},\"marker\":{\"symbol\":\"circle\"},\"mode\":\"markers+lines\",\"name\":\"89118\",\"orientation\":\"v\",\"showlegend\":true,\"x\":[\"2018\",\"2019\",\"2020\",\"2021\",\"2022\"],\"xaxis\":\"x\",\"y\":[55444.0,57859.0,59911.0,64779.0,65929.0],\"yaxis\":\"y\",\"type\":\"scatter\"},{\"hovertemplate\":\"Zip Code=89119<br>Year=%{x}<br>Median Income (USD)=%{y}<extra></extra>\",\"legendgroup\":\"89119\",\"line\":{\"color\":\"#FFA15A\",\"dash\":\"solid\"},\"marker\":{\"symbol\":\"circle\"},\"mode\":\"markers+lines\",\"name\":\"89119\",\"orientation\":\"v\",\"showlegend\":true,\"x\":[\"2018\",\"2019\",\"2020\",\"2021\",\"2022\"],\"xaxis\":\"x\",\"y\":[34312.0,35705.0,38659.0,41298.0,44939.0],\"yaxis\":\"y\",\"type\":\"scatter\"},{\"hovertemplate\":\"Zip Code=89120<br>Year=%{x}<br>Median Income (USD)=%{y}<extra></extra>\",\"legendgroup\":\"89120\",\"line\":{\"color\":\"#19d3f3\",\"dash\":\"solid\"},\"marker\":{\"symbol\":\"circle\"},\"mode\":\"markers+lines\",\"name\":\"89120\",\"orientation\":\"v\",\"showlegend\":true,\"x\":[\"2018\",\"2019\",\"2020\",\"2021\",\"2022\"],\"xaxis\":\"x\",\"y\":[49267.0,51347.0,57365.0,58675.0,68934.0],\"yaxis\":\"y\",\"type\":\"scatter\"},{\"hovertemplate\":\"Zip Code=89121<br>Year=%{x}<br>Median Income (USD)=%{y}<extra></extra>\",\"legendgroup\":\"89121\",\"line\":{\"color\":\"#FF6692\",\"dash\":\"solid\"},\"marker\":{\"symbol\":\"circle\"},\"mode\":\"markers+lines\",\"name\":\"89121\",\"orientation\":\"v\",\"showlegend\":true,\"x\":[\"2018\",\"2019\",\"2020\",\"2021\",\"2022\"],\"xaxis\":\"x\",\"y\":[39528.0,42530.0,43160.0,46004.0,50757.0],\"yaxis\":\"y\",\"type\":\"scatter\"},{\"hovertemplate\":\"Zip Code=89122<br>Year=%{x}<br>Median Income (USD)=%{y}<extra></extra>\",\"legendgroup\":\"89122\",\"line\":{\"color\":\"#B6E880\",\"dash\":\"solid\"},\"marker\":{\"symbol\":\"circle\"},\"mode\":\"markers+lines\",\"name\":\"89122\",\"orientation\":\"v\",\"showlegend\":true,\"x\":[\"2018\",\"2019\",\"2020\",\"2021\",\"2022\"],\"xaxis\":\"x\",\"y\":[45708.0,46448.0,47950.0,49463.0,55216.0],\"yaxis\":\"y\",\"type\":\"scatter\"},{\"hovertemplate\":\"Zip Code=89123<br>Year=%{x}<br>Median Income (USD)=%{y}<extra></extra>\",\"legendgroup\":\"89123\",\"line\":{\"color\":\"#FF97FF\",\"dash\":\"solid\"},\"marker\":{\"symbol\":\"circle\"},\"mode\":\"markers+lines\",\"name\":\"89123\",\"orientation\":\"v\",\"showlegend\":true,\"x\":[\"2018\",\"2019\",\"2020\",\"2021\",\"2022\"],\"xaxis\":\"x\",\"y\":[66710.0,68691.0,71905.0,74538.0,78195.0],\"yaxis\":\"y\",\"type\":\"scatter\"},{\"hovertemplate\":\"Zip Code=89128<br>Year=%{x}<br>Median Income (USD)=%{y}<extra></extra>\",\"legendgroup\":\"89128\",\"line\":{\"color\":\"#FECB52\",\"dash\":\"solid\"},\"marker\":{\"symbol\":\"circle\"},\"mode\":\"markers+lines\",\"name\":\"89128\",\"orientation\":\"v\",\"showlegend\":true,\"x\":[\"2018\",\"2019\",\"2020\",\"2021\",\"2022\"],\"xaxis\":\"x\",\"y\":[58575.0,57456.0,59045.0,63657.0,66534.0],\"yaxis\":\"y\",\"type\":\"scatter\"},{\"hovertemplate\":\"Zip Code=89129<br>Year=%{x}<br>Median Income (USD)=%{y}<extra></extra>\",\"legendgroup\":\"89129\",\"line\":{\"color\":\"#636efa\",\"dash\":\"solid\"},\"marker\":{\"symbol\":\"circle\"},\"mode\":\"markers+lines\",\"name\":\"89129\",\"orientation\":\"v\",\"showlegend\":true,\"x\":[\"2018\",\"2019\",\"2020\",\"2021\",\"2022\"],\"xaxis\":\"x\",\"y\":[71464.0,75719.0,79275.0,82439.0,87620.0],\"yaxis\":\"y\",\"type\":\"scatter\"},{\"hovertemplate\":\"Zip Code=89130<br>Year=%{x}<br>Median Income (USD)=%{y}<extra></extra>\",\"legendgroup\":\"89130\",\"line\":{\"color\":\"#EF553B\",\"dash\":\"solid\"},\"marker\":{\"symbol\":\"circle\"},\"mode\":\"markers+lines\",\"name\":\"89130\",\"orientation\":\"v\",\"showlegend\":true,\"x\":[\"2018\",\"2019\",\"2020\",\"2021\",\"2022\"],\"xaxis\":\"x\",\"y\":[64480.0,68764.0,72308.0,78518.0,81584.0],\"yaxis\":\"y\",\"type\":\"scatter\"},{\"hovertemplate\":\"Zip Code=89131<br>Year=%{x}<br>Median Income (USD)=%{y}<extra></extra>\",\"legendgroup\":\"89131\",\"line\":{\"color\":\"#00cc96\",\"dash\":\"solid\"},\"marker\":{\"symbol\":\"circle\"},\"mode\":\"markers+lines\",\"name\":\"89131\",\"orientation\":\"v\",\"showlegend\":true,\"x\":[\"2018\",\"2019\",\"2020\",\"2021\",\"2022\"],\"xaxis\":\"x\",\"y\":[93337.0,99145.0,100838.0,104688.0,109956.0],\"yaxis\":\"y\",\"type\":\"scatter\"},{\"hovertemplate\":\"Zip Code=89134<br>Year=%{x}<br>Median Income (USD)=%{y}<extra></extra>\",\"legendgroup\":\"89134\",\"line\":{\"color\":\"#ab63fa\",\"dash\":\"solid\"},\"marker\":{\"symbol\":\"circle\"},\"mode\":\"markers+lines\",\"name\":\"89134\",\"orientation\":\"v\",\"showlegend\":true,\"x\":[\"2018\",\"2019\",\"2020\",\"2021\",\"2022\"],\"xaxis\":\"x\",\"y\":[66904.0,69461.0,67184.0,70335.0,76500.0],\"yaxis\":\"y\",\"type\":\"scatter\"},{\"hovertemplate\":\"Zip Code=89135<br>Year=%{x}<br>Median Income (USD)=%{y}<extra></extra>\",\"legendgroup\":\"89135\",\"line\":{\"color\":\"#FFA15A\",\"dash\":\"solid\"},\"marker\":{\"symbol\":\"circle\"},\"mode\":\"markers+lines\",\"name\":\"89135\",\"orientation\":\"v\",\"showlegend\":true,\"x\":[\"2018\",\"2019\",\"2020\",\"2021\",\"2022\"],\"xaxis\":\"x\",\"y\":[89046.0,94821.0,100022.0,105087.0,113377.0],\"yaxis\":\"y\",\"type\":\"scatter\"},{\"hovertemplate\":\"Zip Code=89138<br>Year=%{x}<br>Median Income (USD)=%{y}<extra></extra>\",\"legendgroup\":\"89138\",\"line\":{\"color\":\"#19d3f3\",\"dash\":\"solid\"},\"marker\":{\"symbol\":\"circle\"},\"mode\":\"markers+lines\",\"name\":\"89138\",\"orientation\":\"v\",\"showlegend\":true,\"x\":[\"2018\",\"2019\",\"2020\",\"2021\",\"2022\"],\"xaxis\":\"x\",\"y\":[112972.0,120759.0,122054.0,140362.0,157170.0],\"yaxis\":\"y\",\"type\":\"scatter\"},{\"hovertemplate\":\"Zip Code=89139<br>Year=%{x}<br>Median Income (USD)=%{y}<extra></extra>\",\"legendgroup\":\"89139\",\"line\":{\"color\":\"#FF6692\",\"dash\":\"solid\"},\"marker\":{\"symbol\":\"circle\"},\"mode\":\"markers+lines\",\"name\":\"89139\",\"orientation\":\"v\",\"showlegend\":true,\"x\":[\"2018\",\"2019\",\"2020\",\"2021\",\"2022\"],\"xaxis\":\"x\",\"y\":[75022.0,79197.0,79496.0,85248.0,93003.0],\"yaxis\":\"y\",\"type\":\"scatter\"},{\"hovertemplate\":\"Zip Code=89141<br>Year=%{x}<br>Median Income (USD)=%{y}<extra></extra>\",\"legendgroup\":\"89141\",\"line\":{\"color\":\"#B6E880\",\"dash\":\"solid\"},\"marker\":{\"symbol\":\"circle\"},\"mode\":\"markers+lines\",\"name\":\"89141\",\"orientation\":\"v\",\"showlegend\":true,\"x\":[\"2018\",\"2019\",\"2020\",\"2021\",\"2022\"],\"xaxis\":\"x\",\"y\":[88242.0,89649.0,90342.0,98454.0,105993.0],\"yaxis\":\"y\",\"type\":\"scatter\"},{\"hovertemplate\":\"Zip Code=89142<br>Year=%{x}<br>Median Income (USD)=%{y}<extra></extra>\",\"legendgroup\":\"89142\",\"line\":{\"color\":\"#FF97FF\",\"dash\":\"solid\"},\"marker\":{\"symbol\":\"circle\"},\"mode\":\"markers+lines\",\"name\":\"89142\",\"orientation\":\"v\",\"showlegend\":true,\"x\":[\"2018\",\"2019\",\"2020\",\"2021\",\"2022\"],\"xaxis\":\"x\",\"y\":[48994.0,49180.0,51388.0,53658.0,60245.0],\"yaxis\":\"y\",\"type\":\"scatter\"},{\"hovertemplate\":\"Zip Code=89143<br>Year=%{x}<br>Median Income (USD)=%{y}<extra></extra>\",\"legendgroup\":\"89143\",\"line\":{\"color\":\"#FECB52\",\"dash\":\"solid\"},\"marker\":{\"symbol\":\"circle\"},\"mode\":\"markers+lines\",\"name\":\"89143\",\"orientation\":\"v\",\"showlegend\":true,\"x\":[\"2018\",\"2019\",\"2020\",\"2021\",\"2022\"],\"xaxis\":\"x\",\"y\":[83650.0,85455.0,84385.0,86393.0,92575.0],\"yaxis\":\"y\",\"type\":\"scatter\"},{\"hovertemplate\":\"Zip Code=89144<br>Year=%{x}<br>Median Income (USD)=%{y}<extra></extra>\",\"legendgroup\":\"89144\",\"line\":{\"color\":\"#636efa\",\"dash\":\"solid\"},\"marker\":{\"symbol\":\"circle\"},\"mode\":\"markers+lines\",\"name\":\"89144\",\"orientation\":\"v\",\"showlegend\":true,\"x\":[\"2018\",\"2019\",\"2020\",\"2021\",\"2022\"],\"xaxis\":\"x\",\"y\":[86780.0,88750.0,92526.0,93078.0,101000.0],\"yaxis\":\"y\",\"type\":\"scatter\"},{\"hovertemplate\":\"Zip Code=89145<br>Year=%{x}<br>Median Income (USD)=%{y}<extra></extra>\",\"legendgroup\":\"89145\",\"line\":{\"color\":\"#EF553B\",\"dash\":\"solid\"},\"marker\":{\"symbol\":\"circle\"},\"mode\":\"markers+lines\",\"name\":\"89145\",\"orientation\":\"v\",\"showlegend\":true,\"x\":[\"2018\",\"2019\",\"2020\",\"2021\",\"2022\"],\"xaxis\":\"x\",\"y\":[57822.0,59549.0,66431.0,66612.0,67308.0],\"yaxis\":\"y\",\"type\":\"scatter\"},{\"hovertemplate\":\"Zip Code=89146<br>Year=%{x}<br>Median Income (USD)=%{y}<extra></extra>\",\"legendgroup\":\"89146\",\"line\":{\"color\":\"#00cc96\",\"dash\":\"solid\"},\"marker\":{\"symbol\":\"circle\"},\"mode\":\"markers+lines\",\"name\":\"89146\",\"orientation\":\"v\",\"showlegend\":true,\"x\":[\"2018\",\"2019\",\"2020\",\"2021\",\"2022\"],\"xaxis\":\"x\",\"y\":[48291.0,48210.0,50259.0,51438.0,57581.0],\"yaxis\":\"y\",\"type\":\"scatter\"},{\"hovertemplate\":\"Zip Code=89147<br>Year=%{x}<br>Median Income (USD)=%{y}<extra></extra>\",\"legendgroup\":\"89147\",\"line\":{\"color\":\"#ab63fa\",\"dash\":\"solid\"},\"marker\":{\"symbol\":\"circle\"},\"mode\":\"markers+lines\",\"name\":\"89147\",\"orientation\":\"v\",\"showlegend\":true,\"x\":[\"2018\",\"2019\",\"2020\",\"2021\",\"2022\"],\"xaxis\":\"x\",\"y\":[54722.0,58964.0,61186.0,63086.0,68251.0],\"yaxis\":\"y\",\"type\":\"scatter\"},{\"hovertemplate\":\"Zip Code=89148<br>Year=%{x}<br>Median Income (USD)=%{y}<extra></extra>\",\"legendgroup\":\"89148\",\"line\":{\"color\":\"#FFA15A\",\"dash\":\"solid\"},\"marker\":{\"symbol\":\"circle\"},\"mode\":\"markers+lines\",\"name\":\"89148\",\"orientation\":\"v\",\"showlegend\":true,\"x\":[\"2018\",\"2019\",\"2020\",\"2021\",\"2022\"],\"xaxis\":\"x\",\"y\":[73486.0,76359.0,78352.0,83224.0,92362.0],\"yaxis\":\"y\",\"type\":\"scatter\"},{\"hovertemplate\":\"Zip Code=89149<br>Year=%{x}<br>Median Income (USD)=%{y}<extra></extra>\",\"legendgroup\":\"89149\",\"line\":{\"color\":\"#19d3f3\",\"dash\":\"solid\"},\"marker\":{\"symbol\":\"circle\"},\"mode\":\"markers+lines\",\"name\":\"89149\",\"orientation\":\"v\",\"showlegend\":true,\"x\":[\"2018\",\"2019\",\"2020\",\"2021\",\"2022\"],\"xaxis\":\"x\",\"y\":[72318.0,73883.0,77957.0,88059.0,96454.0],\"yaxis\":\"y\",\"type\":\"scatter\"},{\"hovertemplate\":\"Zip Code=89156<br>Year=%{x}<br>Median Income (USD)=%{y}<extra></extra>\",\"legendgroup\":\"89156\",\"line\":{\"color\":\"#FF6692\",\"dash\":\"solid\"},\"marker\":{\"symbol\":\"circle\"},\"mode\":\"markers+lines\",\"name\":\"89156\",\"orientation\":\"v\",\"showlegend\":true,\"x\":[\"2018\",\"2019\",\"2020\",\"2021\",\"2022\"],\"xaxis\":\"x\",\"y\":[47641.0,48920.0,52323.0,56315.0,61856.0],\"yaxis\":\"y\",\"type\":\"scatter\"},{\"hovertemplate\":\"Zip Code=89158<br>Year=%{x}<br>Median Income (USD)=%{y}<extra></extra>\",\"legendgroup\":\"89158\",\"line\":{\"color\":\"#B6E880\",\"dash\":\"solid\"},\"marker\":{\"symbol\":\"circle\"},\"mode\":\"markers+lines\",\"name\":\"89158\",\"orientation\":\"v\",\"showlegend\":true,\"x\":[\"2018\",\"2019\",\"2020\",\"2021\",\"2022\"],\"xaxis\":\"x\",\"y\":[29414.0,30581.0,32114.0,117500.0,110039.0],\"yaxis\":\"y\",\"type\":\"scatter\"},{\"hovertemplate\":\"Zip Code=89169<br>Year=%{x}<br>Median Income (USD)=%{y}<extra></extra>\",\"legendgroup\":\"89169\",\"line\":{\"color\":\"#FF97FF\",\"dash\":\"solid\"},\"marker\":{\"symbol\":\"circle\"},\"mode\":\"markers+lines\",\"name\":\"89169\",\"orientation\":\"v\",\"showlegend\":true,\"x\":[\"2018\",\"2019\",\"2020\",\"2021\",\"2022\"],\"xaxis\":\"x\",\"y\":[82554.0,88517.0,90801.0,32050.0,37200.0],\"yaxis\":\"y\",\"type\":\"scatter\"},{\"hovertemplate\":\"Zip Code=89178<br>Year=%{x}<br>Median Income (USD)=%{y}<extra></extra>\",\"legendgroup\":\"89178\",\"line\":{\"color\":\"#FECB52\",\"dash\":\"solid\"},\"marker\":{\"symbol\":\"circle\"},\"mode\":\"markers+lines\",\"name\":\"89178\",\"orientation\":\"v\",\"showlegend\":true,\"x\":[\"2018\",\"2019\",\"2020\",\"2021\",\"2022\"],\"xaxis\":\"x\",\"y\":[92634.0,99662.0,96460.0,92471.0,101256.0],\"yaxis\":\"y\",\"type\":\"scatter\"},{\"hovertemplate\":\"Zip Code=89179<br>Year=%{x}<br>Median Income (USD)=%{y}<extra></extra>\",\"legendgroup\":\"89179\",\"line\":{\"color\":\"#636efa\",\"dash\":\"solid\"},\"marker\":{\"symbol\":\"circle\"},\"mode\":\"markers+lines\",\"name\":\"89179\",\"orientation\":\"v\",\"showlegend\":true,\"x\":[\"2018\",\"2019\",\"2020\",\"2021\",\"2022\"],\"xaxis\":\"x\",\"y\":[65491.0,65988.0,65943.0,100840.0,110356.0],\"yaxis\":\"y\",\"type\":\"scatter\"},{\"hovertemplate\":\"Zip Code=89183<br>Year=%{x}<br>Median Income (USD)=%{y}<extra></extra>\",\"legendgroup\":\"89183\",\"line\":{\"color\":\"#EF553B\",\"dash\":\"solid\"},\"marker\":{\"symbol\":\"circle\"},\"mode\":\"markers+lines\",\"name\":\"89183\",\"orientation\":\"v\",\"showlegend\":true,\"x\":[\"2018\",\"2019\",\"2020\",\"2021\",\"2022\"],\"xaxis\":\"x\",\"y\":[null,null,null,69125.0,76488.0],\"yaxis\":\"y\",\"type\":\"scatter\"}],                        {\"template\":{\"data\":{\"histogram2dcontour\":[{\"type\":\"histogram2dcontour\",\"colorbar\":{\"outlinewidth\":0,\"ticks\":\"\"},\"colorscale\":[[0.0,\"#0d0887\"],[0.1111111111111111,\"#46039f\"],[0.2222222222222222,\"#7201a8\"],[0.3333333333333333,\"#9c179e\"],[0.4444444444444444,\"#bd3786\"],[0.5555555555555556,\"#d8576b\"],[0.6666666666666666,\"#ed7953\"],[0.7777777777777778,\"#fb9f3a\"],[0.8888888888888888,\"#fdca26\"],[1.0,\"#f0f921\"]]}],\"choropleth\":[{\"type\":\"choropleth\",\"colorbar\":{\"outlinewidth\":0,\"ticks\":\"\"}}],\"histogram2d\":[{\"type\":\"histogram2d\",\"colorbar\":{\"outlinewidth\":0,\"ticks\":\"\"},\"colorscale\":[[0.0,\"#0d0887\"],[0.1111111111111111,\"#46039f\"],[0.2222222222222222,\"#7201a8\"],[0.3333333333333333,\"#9c179e\"],[0.4444444444444444,\"#bd3786\"],[0.5555555555555556,\"#d8576b\"],[0.6666666666666666,\"#ed7953\"],[0.7777777777777778,\"#fb9f3a\"],[0.8888888888888888,\"#fdca26\"],[1.0,\"#f0f921\"]]}],\"heatmap\":[{\"type\":\"heatmap\",\"colorbar\":{\"outlinewidth\":0,\"ticks\":\"\"},\"colorscale\":[[0.0,\"#0d0887\"],[0.1111111111111111,\"#46039f\"],[0.2222222222222222,\"#7201a8\"],[0.3333333333333333,\"#9c179e\"],[0.4444444444444444,\"#bd3786\"],[0.5555555555555556,\"#d8576b\"],[0.6666666666666666,\"#ed7953\"],[0.7777777777777778,\"#fb9f3a\"],[0.8888888888888888,\"#fdca26\"],[1.0,\"#f0f921\"]]}],\"heatmapgl\":[{\"type\":\"heatmapgl\",\"colorbar\":{\"outlinewidth\":0,\"ticks\":\"\"},\"colorscale\":[[0.0,\"#0d0887\"],[0.1111111111111111,\"#46039f\"],[0.2222222222222222,\"#7201a8\"],[0.3333333333333333,\"#9c179e\"],[0.4444444444444444,\"#bd3786\"],[0.5555555555555556,\"#d8576b\"],[0.6666666666666666,\"#ed7953\"],[0.7777777777777778,\"#fb9f3a\"],[0.8888888888888888,\"#fdca26\"],[1.0,\"#f0f921\"]]}],\"contourcarpet\":[{\"type\":\"contourcarpet\",\"colorbar\":{\"outlinewidth\":0,\"ticks\":\"\"}}],\"contour\":[{\"type\":\"contour\",\"colorbar\":{\"outlinewidth\":0,\"ticks\":\"\"},\"colorscale\":[[0.0,\"#0d0887\"],[0.1111111111111111,\"#46039f\"],[0.2222222222222222,\"#7201a8\"],[0.3333333333333333,\"#9c179e\"],[0.4444444444444444,\"#bd3786\"],[0.5555555555555556,\"#d8576b\"],[0.6666666666666666,\"#ed7953\"],[0.7777777777777778,\"#fb9f3a\"],[0.8888888888888888,\"#fdca26\"],[1.0,\"#f0f921\"]]}],\"surface\":[{\"type\":\"surface\",\"colorbar\":{\"outlinewidth\":0,\"ticks\":\"\"},\"colorscale\":[[0.0,\"#0d0887\"],[0.1111111111111111,\"#46039f\"],[0.2222222222222222,\"#7201a8\"],[0.3333333333333333,\"#9c179e\"],[0.4444444444444444,\"#bd3786\"],[0.5555555555555556,\"#d8576b\"],[0.6666666666666666,\"#ed7953\"],[0.7777777777777778,\"#fb9f3a\"],[0.8888888888888888,\"#fdca26\"],[1.0,\"#f0f921\"]]}],\"mesh3d\":[{\"type\":\"mesh3d\",\"colorbar\":{\"outlinewidth\":0,\"ticks\":\"\"}}],\"scatter\":[{\"fillpattern\":{\"fillmode\":\"overlay\",\"size\":10,\"solidity\":0.2},\"type\":\"scatter\"}],\"parcoords\":[{\"type\":\"parcoords\",\"line\":{\"colorbar\":{\"outlinewidth\":0,\"ticks\":\"\"}}}],\"scatterpolargl\":[{\"type\":\"scatterpolargl\",\"marker\":{\"colorbar\":{\"outlinewidth\":0,\"ticks\":\"\"}}}],\"bar\":[{\"error_x\":{\"color\":\"#2a3f5f\"},\"error_y\":{\"color\":\"#2a3f5f\"},\"marker\":{\"line\":{\"color\":\"#E5ECF6\",\"width\":0.5},\"pattern\":{\"fillmode\":\"overlay\",\"size\":10,\"solidity\":0.2}},\"type\":\"bar\"}],\"scattergeo\":[{\"type\":\"scattergeo\",\"marker\":{\"colorbar\":{\"outlinewidth\":0,\"ticks\":\"\"}}}],\"scatterpolar\":[{\"type\":\"scatterpolar\",\"marker\":{\"colorbar\":{\"outlinewidth\":0,\"ticks\":\"\"}}}],\"histogram\":[{\"marker\":{\"pattern\":{\"fillmode\":\"overlay\",\"size\":10,\"solidity\":0.2}},\"type\":\"histogram\"}],\"scattergl\":[{\"type\":\"scattergl\",\"marker\":{\"colorbar\":{\"outlinewidth\":0,\"ticks\":\"\"}}}],\"scatter3d\":[{\"type\":\"scatter3d\",\"line\":{\"colorbar\":{\"outlinewidth\":0,\"ticks\":\"\"}},\"marker\":{\"colorbar\":{\"outlinewidth\":0,\"ticks\":\"\"}}}],\"scattermapbox\":[{\"type\":\"scattermapbox\",\"marker\":{\"colorbar\":{\"outlinewidth\":0,\"ticks\":\"\"}}}],\"scatterternary\":[{\"type\":\"scatterternary\",\"marker\":{\"colorbar\":{\"outlinewidth\":0,\"ticks\":\"\"}}}],\"scattercarpet\":[{\"type\":\"scattercarpet\",\"marker\":{\"colorbar\":{\"outlinewidth\":0,\"ticks\":\"\"}}}],\"carpet\":[{\"aaxis\":{\"endlinecolor\":\"#2a3f5f\",\"gridcolor\":\"white\",\"linecolor\":\"white\",\"minorgridcolor\":\"white\",\"startlinecolor\":\"#2a3f5f\"},\"baxis\":{\"endlinecolor\":\"#2a3f5f\",\"gridcolor\":\"white\",\"linecolor\":\"white\",\"minorgridcolor\":\"white\",\"startlinecolor\":\"#2a3f5f\"},\"type\":\"carpet\"}],\"table\":[{\"cells\":{\"fill\":{\"color\":\"#EBF0F8\"},\"line\":{\"color\":\"white\"}},\"header\":{\"fill\":{\"color\":\"#C8D4E3\"},\"line\":{\"color\":\"white\"}},\"type\":\"table\"}],\"barpolar\":[{\"marker\":{\"line\":{\"color\":\"#E5ECF6\",\"width\":0.5},\"pattern\":{\"fillmode\":\"overlay\",\"size\":10,\"solidity\":0.2}},\"type\":\"barpolar\"}],\"pie\":[{\"automargin\":true,\"type\":\"pie\"}]},\"layout\":{\"autotypenumbers\":\"strict\",\"colorway\":[\"#636efa\",\"#EF553B\",\"#00cc96\",\"#ab63fa\",\"#FFA15A\",\"#19d3f3\",\"#FF6692\",\"#B6E880\",\"#FF97FF\",\"#FECB52\"],\"font\":{\"color\":\"#2a3f5f\"},\"hovermode\":\"closest\",\"hoverlabel\":{\"align\":\"left\"},\"paper_bgcolor\":\"white\",\"plot_bgcolor\":\"#E5ECF6\",\"polar\":{\"bgcolor\":\"#E5ECF6\",\"angularaxis\":{\"gridcolor\":\"white\",\"linecolor\":\"white\",\"ticks\":\"\"},\"radialaxis\":{\"gridcolor\":\"white\",\"linecolor\":\"white\",\"ticks\":\"\"}},\"ternary\":{\"bgcolor\":\"#E5ECF6\",\"aaxis\":{\"gridcolor\":\"white\",\"linecolor\":\"white\",\"ticks\":\"\"},\"baxis\":{\"gridcolor\":\"white\",\"linecolor\":\"white\",\"ticks\":\"\"},\"caxis\":{\"gridcolor\":\"white\",\"linecolor\":\"white\",\"ticks\":\"\"}},\"coloraxis\":{\"colorbar\":{\"outlinewidth\":0,\"ticks\":\"\"}},\"colorscale\":{\"sequential\":[[0.0,\"#0d0887\"],[0.1111111111111111,\"#46039f\"],[0.2222222222222222,\"#7201a8\"],[0.3333333333333333,\"#9c179e\"],[0.4444444444444444,\"#bd3786\"],[0.5555555555555556,\"#d8576b\"],[0.6666666666666666,\"#ed7953\"],[0.7777777777777778,\"#fb9f3a\"],[0.8888888888888888,\"#fdca26\"],[1.0,\"#f0f921\"]],\"sequentialminus\":[[0.0,\"#0d0887\"],[0.1111111111111111,\"#46039f\"],[0.2222222222222222,\"#7201a8\"],[0.3333333333333333,\"#9c179e\"],[0.4444444444444444,\"#bd3786\"],[0.5555555555555556,\"#d8576b\"],[0.6666666666666666,\"#ed7953\"],[0.7777777777777778,\"#fb9f3a\"],[0.8888888888888888,\"#fdca26\"],[1.0,\"#f0f921\"]],\"diverging\":[[0,\"#8e0152\"],[0.1,\"#c51b7d\"],[0.2,\"#de77ae\"],[0.3,\"#f1b6da\"],[0.4,\"#fde0ef\"],[0.5,\"#f7f7f7\"],[0.6,\"#e6f5d0\"],[0.7,\"#b8e186\"],[0.8,\"#7fbc41\"],[0.9,\"#4d9221\"],[1,\"#276419\"]]},\"xaxis\":{\"gridcolor\":\"white\",\"linecolor\":\"white\",\"ticks\":\"\",\"title\":{\"standoff\":15},\"zerolinecolor\":\"white\",\"automargin\":true,\"zerolinewidth\":2},\"yaxis\":{\"gridcolor\":\"white\",\"linecolor\":\"white\",\"ticks\":\"\",\"title\":{\"standoff\":15},\"zerolinecolor\":\"white\",\"automargin\":true,\"zerolinewidth\":2},\"scene\":{\"xaxis\":{\"backgroundcolor\":\"#E5ECF6\",\"gridcolor\":\"white\",\"linecolor\":\"white\",\"showbackground\":true,\"ticks\":\"\",\"zerolinecolor\":\"white\",\"gridwidth\":2},\"yaxis\":{\"backgroundcolor\":\"#E5ECF6\",\"gridcolor\":\"white\",\"linecolor\":\"white\",\"showbackground\":true,\"ticks\":\"\",\"zerolinecolor\":\"white\",\"gridwidth\":2},\"zaxis\":{\"backgroundcolor\":\"#E5ECF6\",\"gridcolor\":\"white\",\"linecolor\":\"white\",\"showbackground\":true,\"ticks\":\"\",\"zerolinecolor\":\"white\",\"gridwidth\":2}},\"shapedefaults\":{\"line\":{\"color\":\"#2a3f5f\"}},\"annotationdefaults\":{\"arrowcolor\":\"#2a3f5f\",\"arrowhead\":0,\"arrowwidth\":1},\"geo\":{\"bgcolor\":\"white\",\"landcolor\":\"#E5ECF6\",\"subunitcolor\":\"white\",\"showland\":true,\"showlakes\":true,\"lakecolor\":\"white\"},\"title\":{\"x\":0.05},\"mapbox\":{\"style\":\"light\"}}},\"xaxis\":{\"anchor\":\"y\",\"domain\":[0.0,1.0],\"title\":{\"text\":\"Year\"}},\"yaxis\":{\"anchor\":\"x\",\"domain\":[0.0,1.0],\"title\":{\"text\":\"Median Income (USD)\"}},\"legend\":{\"title\":{\"text\":\"Zip Code\"},\"tracegroupgap\":0},\"title\":{\"text\":\"Median Income by Zip Code in Las Vegas Over Years\"}},                        {\"responsive\": true}                    ).then(function(){\n",
       "                            \n",
       "var gd = document.getElementById('85cd7f3c-e471-4feb-9b7a-d3df004f1110');\n",
       "var x = new MutationObserver(function (mutations, observer) {{\n",
       "        var display = window.getComputedStyle(gd).display;\n",
       "        if (!display || display === 'none') {{\n",
       "            console.log([gd, 'removed!']);\n",
       "            Plotly.purge(gd);\n",
       "            observer.disconnect();\n",
       "        }}\n",
       "}});\n",
       "\n",
       "// Listen for the removal of the full notebook cells\n",
       "var notebookContainer = gd.closest('#notebook-container');\n",
       "if (notebookContainer) {{\n",
       "    x.observe(notebookContainer, {childList: true});\n",
       "}}\n",
       "\n",
       "// Listen for the clearing of the current output cell\n",
       "var outputEl = gd.closest('.output');\n",
       "if (outputEl) {{\n",
       "    x.observe(outputEl, {childList: true});\n",
       "}}\n",
       "\n",
       "                        })                };                });            </script>        </div>"
      ]
     },
     "metadata": {},
     "output_type": "display_data"
    }
   ],
   "source": [
    "latest_long_df = pd.melt(latest_data, id_vars=['Zip Code'], var_name='Year', value_name='Median Income')\n",
    "\n",
    "latest_long_df['Year'] = latest_long_df['Year'].str.extract('(\\d{4})')\n",
    "\n",
    "latest_long_df['Median Income'] = pd.to_numeric(latest_long_df['Median Income'].str.replace(',', ''), errors='coerce')\n",
    "\n",
    "fig_latest = px.line(latest_long_df, x='Year', y='Median Income', color='Zip Code',\n",
    "                     title='Median Income by Zip Code in Las Vegas Over Years',\n",
    "                     labels={'Median Income': 'Median Income (USD)', 'Year': 'Year'},\n",
    "                     markers=True)\n",
    "\n",
    "fig_latest.update_layout(xaxis_title='Year',\n",
    "                         yaxis_title='Median Income (USD)',\n",
    "                         legend_title='Zip Code')\n",
    "\n",
    "fig_latest.show()"
   ]
  },
  {
   "cell_type": "code",
   "execution_count": 14,
   "id": "662374ec",
   "metadata": {
    "scrolled": true
   },
   "outputs": [
    {
     "data": {
      "application/vnd.plotly.v1+json": {
       "config": {
        "plotlyServerURL": "https://plot.ly"
       },
       "data": [
        {
         "mode": "lines+markers",
         "name": "89002",
         "type": "scatter",
         "x": [
          "2018",
          "2019",
          "2020",
          "2021",
          "2022"
         ],
         "y": [
          79966,
          82778,
          83700,
          88425,
          95346
         ]
        },
        {
         "mode": "lines+markers",
         "name": "89011",
         "type": "scatter",
         "x": [
          "2018",
          "2019",
          "2020",
          "2021",
          "2022"
         ],
         "y": [
          64981,
          70129,
          77100,
          81736,
          85009
         ]
        },
        {
         "mode": "lines+markers",
         "name": "89012",
         "type": "scatter",
         "x": [
          "2018",
          "2019",
          "2020",
          "2021",
          "2022"
         ],
         "y": [
          74170,
          81992,
          79727,
          81896,
          89177
         ]
        },
        {
         "mode": "lines+markers",
         "name": "89014",
         "type": "scatter",
         "x": [
          "2018",
          "2019",
          "2020",
          "2021",
          "2022"
         ],
         "y": [
          58369,
          61194,
          61752,
          65719,
          69848
         ]
        },
        {
         "mode": "lines+markers",
         "name": "89015",
         "type": "scatter",
         "x": [
          "2018",
          "2019",
          "2020",
          "2021",
          "2022"
         ],
         "y": [
          55164,
          56569,
          57049,
          60301,
          66195
         ]
        },
        {
         "mode": "lines+markers",
         "name": "89030",
         "type": "scatter",
         "x": [
          "2018",
          "2019",
          "2020",
          "2021",
          "2022"
         ],
         "y": [
          35028,
          36275,
          36993,
          41049,
          42794
         ]
        },
        {
         "mode": "lines+markers",
         "name": "89032",
         "type": "scatter",
         "x": [
          "2018",
          "2019",
          "2020",
          "2021",
          "2022"
         ],
         "y": [
          59427,
          60294,
          60995,
          64659,
          71262
         ]
        },
        {
         "mode": "lines+markers",
         "name": "89044",
         "type": "scatter",
         "x": [
          "2018",
          "2019",
          "2020",
          "2021",
          "2022"
         ],
         "y": [
          82144,
          89012,
          97917,
          99987,
          107255
         ]
        },
        {
         "mode": "lines+markers",
         "name": "89052",
         "type": "scatter",
         "x": [
          "2018",
          "2019",
          "2020",
          "2021",
          "2022"
         ],
         "y": [
          80984,
          85021,
          86589,
          90064,
          96944
         ]
        },
        {
         "mode": "lines+markers",
         "name": "89074",
         "type": "scatter",
         "x": [
          "2018",
          "2019",
          "2020",
          "2021",
          "2022"
         ],
         "y": [
          71805,
          76422,
          77935,
          81799,
          86015
         ]
        },
        {
         "mode": "lines+markers",
         "name": "89081",
         "type": "scatter",
         "x": [
          "2018",
          "2019",
          "2020",
          "2021",
          "2022"
         ],
         "y": [
          65322,
          68787,
          71206,
          74297,
          87378
         ]
        },
        {
         "mode": "lines+markers",
         "name": "89084",
         "type": "scatter",
         "x": [
          "2018",
          "2019",
          "2020",
          "2021",
          "2022"
         ],
         "y": [
          75571,
          80921,
          79766,
          86311,
          93575
         ]
        },
        {
         "mode": "lines+markers",
         "name": "89085",
         "type": "scatter",
         "x": [
          "2018",
          "2019",
          "2020",
          "2021",
          "2022"
         ],
         "y": [
          121609,
          120194,
          98713,
          110863,
          111577
         ]
        },
        {
         "mode": "lines+markers",
         "name": "89086",
         "type": "scatter",
         "x": [
          "2018",
          "2019",
          "2020",
          "2021",
          "2022"
         ],
         "y": [
          58577,
          61741,
          49046,
          52103,
          56927
         ]
        },
        {
         "mode": "lines+markers",
         "name": "89102",
         "type": "scatter",
         "x": [
          "2018",
          "2019",
          "2020",
          "2021",
          "2022"
         ],
         "y": [
          35627,
          36729,
          38122,
          40565,
          45724
         ]
        },
        {
         "mode": "lines+markers",
         "name": "89103",
         "type": "scatter",
         "x": [
          "2018",
          "2019",
          "2020",
          "2021",
          "2022"
         ],
         "y": [
          40261,
          42537,
          42833,
          43401,
          46139
         ]
        },
        {
         "mode": "lines+markers",
         "name": "89104",
         "type": "scatter",
         "x": [
          "2018",
          "2019",
          "2020",
          "2021",
          "2022"
         ],
         "y": [
          35484,
          36448,
          38939,
          42583,
          48355
         ]
        },
        {
         "mode": "lines+markers",
         "name": "89107",
         "type": "scatter",
         "x": [
          "2018",
          "2019",
          "2020",
          "2021",
          "2022"
         ],
         "y": [
          40605,
          44234,
          42728,
          43569,
          50876
         ]
        },
        {
         "mode": "lines+markers",
         "name": "89108",
         "type": "scatter",
         "x": [
          "2018",
          "2019",
          "2020",
          "2021",
          "2022"
         ],
         "y": [
          46759,
          46165,
          49351,
          51161,
          55935
         ]
        },
        {
         "mode": "lines+markers",
         "name": "89109",
         "type": "scatter",
         "x": [
          "2018",
          "2019",
          "2020",
          "2021",
          "2022"
         ],
         "y": [
          43206,
          42837,
          44890,
          39680,
          49818
         ]
        },
        {
         "mode": "lines+markers",
         "name": "89113",
         "type": "scatter",
         "x": [
          "2018",
          "2019",
          "2020",
          "2021",
          "2022"
         ],
         "y": [
          72212,
          72479,
          76961,
          78636,
          85504
         ]
        },
        {
         "mode": "lines+markers",
         "name": "89115",
         "type": "scatter",
         "x": [
          "2018",
          "2019",
          "2020",
          "2021",
          "2022"
         ],
         "y": [
          36050,
          39412,
          41268,
          43114,
          47189
         ]
        },
        {
         "mode": "lines+markers",
         "name": "89117",
         "type": "scatter",
         "x": [
          "2018",
          "2019",
          "2020",
          "2021",
          "2022"
         ],
         "y": [
          57954,
          58608,
          60637,
          62059,
          68206
         ]
        },
        {
         "mode": "lines+markers",
         "name": "89118",
         "type": "scatter",
         "x": [
          "2018",
          "2019",
          "2020",
          "2021",
          "2022"
         ],
         "y": [
          55444,
          57859,
          59911,
          64779,
          65929
         ]
        },
        {
         "mode": "lines+markers",
         "name": "89119",
         "type": "scatter",
         "x": [
          "2018",
          "2019",
          "2020",
          "2021",
          "2022"
         ],
         "y": [
          34312,
          35705,
          38659,
          41298,
          44939
         ]
        },
        {
         "mode": "lines+markers",
         "name": "89120",
         "type": "scatter",
         "x": [
          "2018",
          "2019",
          "2020",
          "2021",
          "2022"
         ],
         "y": [
          49267,
          51347,
          57365,
          58675,
          68934
         ]
        },
        {
         "mode": "lines+markers",
         "name": "89121",
         "type": "scatter",
         "x": [
          "2018",
          "2019",
          "2020",
          "2021",
          "2022"
         ],
         "y": [
          39528,
          42530,
          43160,
          46004,
          50757
         ]
        },
        {
         "mode": "lines+markers",
         "name": "89122",
         "type": "scatter",
         "x": [
          "2018",
          "2019",
          "2020",
          "2021",
          "2022"
         ],
         "y": [
          45708,
          46448,
          47950,
          49463,
          55216
         ]
        },
        {
         "mode": "lines+markers",
         "name": "89123",
         "type": "scatter",
         "x": [
          "2018",
          "2019",
          "2020",
          "2021",
          "2022"
         ],
         "y": [
          66710,
          68691,
          71905,
          74538,
          78195
         ]
        },
        {
         "mode": "lines+markers",
         "name": "89128",
         "type": "scatter",
         "x": [
          "2018",
          "2019",
          "2020",
          "2021",
          "2022"
         ],
         "y": [
          58575,
          57456,
          59045,
          63657,
          66534
         ]
        },
        {
         "mode": "lines+markers",
         "name": "89129",
         "type": "scatter",
         "x": [
          "2018",
          "2019",
          "2020",
          "2021",
          "2022"
         ],
         "y": [
          71464,
          75719,
          79275,
          82439,
          87620
         ]
        },
        {
         "mode": "lines+markers",
         "name": "89130",
         "type": "scatter",
         "x": [
          "2018",
          "2019",
          "2020",
          "2021",
          "2022"
         ],
         "y": [
          64480,
          68764,
          72308,
          78518,
          81584
         ]
        },
        {
         "mode": "lines+markers",
         "name": "89131",
         "type": "scatter",
         "x": [
          "2018",
          "2019",
          "2020",
          "2021",
          "2022"
         ],
         "y": [
          93337,
          99145,
          100838,
          104688,
          109956
         ]
        },
        {
         "mode": "lines+markers",
         "name": "89134",
         "type": "scatter",
         "x": [
          "2018",
          "2019",
          "2020",
          "2021",
          "2022"
         ],
         "y": [
          66904,
          69461,
          67184,
          70335,
          76500
         ]
        },
        {
         "mode": "lines+markers",
         "name": "89135",
         "type": "scatter",
         "x": [
          "2018",
          "2019",
          "2020",
          "2021",
          "2022"
         ],
         "y": [
          89046,
          94821,
          100022,
          105087,
          113377
         ]
        },
        {
         "mode": "lines+markers",
         "name": "89138",
         "type": "scatter",
         "x": [
          "2018",
          "2019",
          "2020",
          "2021",
          "2022"
         ],
         "y": [
          112972,
          120759,
          122054,
          140362,
          157170
         ]
        },
        {
         "mode": "lines+markers",
         "name": "89139",
         "type": "scatter",
         "x": [
          "2018",
          "2019",
          "2020",
          "2021",
          "2022"
         ],
         "y": [
          75022,
          79197,
          79496,
          85248,
          93003
         ]
        },
        {
         "mode": "lines+markers",
         "name": "89141",
         "type": "scatter",
         "x": [
          "2018",
          "2019",
          "2020",
          "2021",
          "2022"
         ],
         "y": [
          88242,
          89649,
          90342,
          98454,
          105993
         ]
        },
        {
         "mode": "lines+markers",
         "name": "89142",
         "type": "scatter",
         "x": [
          "2018",
          "2019",
          "2020",
          "2021",
          "2022"
         ],
         "y": [
          48994,
          49180,
          51388,
          53658,
          60245
         ]
        },
        {
         "mode": "lines+markers",
         "name": "89143",
         "type": "scatter",
         "x": [
          "2018",
          "2019",
          "2020",
          "2021",
          "2022"
         ],
         "y": [
          83650,
          85455,
          84385,
          86393,
          92575
         ]
        },
        {
         "mode": "lines+markers",
         "name": "89144",
         "type": "scatter",
         "x": [
          "2018",
          "2019",
          "2020",
          "2021",
          "2022"
         ],
         "y": [
          86780,
          88750,
          92526,
          93078,
          101000
         ]
        },
        {
         "mode": "lines+markers",
         "name": "89145",
         "type": "scatter",
         "x": [
          "2018",
          "2019",
          "2020",
          "2021",
          "2022"
         ],
         "y": [
          57822,
          59549,
          66431,
          66612,
          67308
         ]
        },
        {
         "mode": "lines+markers",
         "name": "89146",
         "type": "scatter",
         "x": [
          "2018",
          "2019",
          "2020",
          "2021",
          "2022"
         ],
         "y": [
          48291,
          48210,
          50259,
          51438,
          57581
         ]
        },
        {
         "mode": "lines+markers",
         "name": "89147",
         "type": "scatter",
         "x": [
          "2018",
          "2019",
          "2020",
          "2021",
          "2022"
         ],
         "y": [
          54722,
          58964,
          61186,
          63086,
          68251
         ]
        },
        {
         "mode": "lines+markers",
         "name": "89148",
         "type": "scatter",
         "x": [
          "2018",
          "2019",
          "2020",
          "2021",
          "2022"
         ],
         "y": [
          73486,
          76359,
          78352,
          83224,
          92362
         ]
        },
        {
         "mode": "lines+markers",
         "name": "89149",
         "type": "scatter",
         "x": [
          "2018",
          "2019",
          "2020",
          "2021",
          "2022"
         ],
         "y": [
          72318,
          73883,
          77957,
          88059,
          96454
         ]
        },
        {
         "mode": "lines+markers",
         "name": "89156",
         "type": "scatter",
         "x": [
          "2018",
          "2019",
          "2020",
          "2021",
          "2022"
         ],
         "y": [
          47641,
          48920,
          52323,
          56315,
          61856
         ]
        },
        {
         "mode": "lines+markers",
         "name": "89158",
         "type": "scatter",
         "x": [
          "2018",
          "2019",
          "2020",
          "2021",
          "2022"
         ],
         "y": [
          29414,
          30581,
          32114,
          117500,
          110039
         ]
        },
        {
         "mode": "lines+markers",
         "name": "89169",
         "type": "scatter",
         "x": [
          "2018",
          "2019",
          "2020",
          "2021",
          "2022"
         ],
         "y": [
          82554,
          88517,
          90801,
          32050,
          37200
         ]
        },
        {
         "mode": "lines+markers",
         "name": "89178",
         "type": "scatter",
         "x": [
          "2018",
          "2019",
          "2020",
          "2021",
          "2022"
         ],
         "y": [
          92634,
          99662,
          96460,
          92471,
          101256
         ]
        },
        {
         "mode": "lines+markers",
         "name": "89179",
         "type": "scatter",
         "x": [
          "2018",
          "2019",
          "2020",
          "2021",
          "2022"
         ],
         "y": [
          65491,
          65988,
          65943,
          100840,
          110356
         ]
        },
        {
         "mode": "lines+markers",
         "name": "89183",
         "type": "scatter",
         "x": [
          "2018",
          "2019",
          "2020",
          "2021",
          "2022"
         ],
         "y": [
          null,
          null,
          null,
          69125,
          76488
         ]
        }
       ],
       "layout": {
        "legend": {
         "title": {
          "text": "Zip Code"
         }
        },
        "template": {
         "data": {
          "bar": [
           {
            "error_x": {
             "color": "#2a3f5f"
            },
            "error_y": {
             "color": "#2a3f5f"
            },
            "marker": {
             "line": {
              "color": "#E5ECF6",
              "width": 0.5
             },
             "pattern": {
              "fillmode": "overlay",
              "size": 10,
              "solidity": 0.2
             }
            },
            "type": "bar"
           }
          ],
          "barpolar": [
           {
            "marker": {
             "line": {
              "color": "#E5ECF6",
              "width": 0.5
             },
             "pattern": {
              "fillmode": "overlay",
              "size": 10,
              "solidity": 0.2
             }
            },
            "type": "barpolar"
           }
          ],
          "carpet": [
           {
            "aaxis": {
             "endlinecolor": "#2a3f5f",
             "gridcolor": "white",
             "linecolor": "white",
             "minorgridcolor": "white",
             "startlinecolor": "#2a3f5f"
            },
            "baxis": {
             "endlinecolor": "#2a3f5f",
             "gridcolor": "white",
             "linecolor": "white",
             "minorgridcolor": "white",
             "startlinecolor": "#2a3f5f"
            },
            "type": "carpet"
           }
          ],
          "choropleth": [
           {
            "colorbar": {
             "outlinewidth": 0,
             "ticks": ""
            },
            "type": "choropleth"
           }
          ],
          "contour": [
           {
            "colorbar": {
             "outlinewidth": 0,
             "ticks": ""
            },
            "colorscale": [
             [
              0,
              "#0d0887"
             ],
             [
              0.1111111111111111,
              "#46039f"
             ],
             [
              0.2222222222222222,
              "#7201a8"
             ],
             [
              0.3333333333333333,
              "#9c179e"
             ],
             [
              0.4444444444444444,
              "#bd3786"
             ],
             [
              0.5555555555555556,
              "#d8576b"
             ],
             [
              0.6666666666666666,
              "#ed7953"
             ],
             [
              0.7777777777777778,
              "#fb9f3a"
             ],
             [
              0.8888888888888888,
              "#fdca26"
             ],
             [
              1,
              "#f0f921"
             ]
            ],
            "type": "contour"
           }
          ],
          "contourcarpet": [
           {
            "colorbar": {
             "outlinewidth": 0,
             "ticks": ""
            },
            "type": "contourcarpet"
           }
          ],
          "heatmap": [
           {
            "colorbar": {
             "outlinewidth": 0,
             "ticks": ""
            },
            "colorscale": [
             [
              0,
              "#0d0887"
             ],
             [
              0.1111111111111111,
              "#46039f"
             ],
             [
              0.2222222222222222,
              "#7201a8"
             ],
             [
              0.3333333333333333,
              "#9c179e"
             ],
             [
              0.4444444444444444,
              "#bd3786"
             ],
             [
              0.5555555555555556,
              "#d8576b"
             ],
             [
              0.6666666666666666,
              "#ed7953"
             ],
             [
              0.7777777777777778,
              "#fb9f3a"
             ],
             [
              0.8888888888888888,
              "#fdca26"
             ],
             [
              1,
              "#f0f921"
             ]
            ],
            "type": "heatmap"
           }
          ],
          "heatmapgl": [
           {
            "colorbar": {
             "outlinewidth": 0,
             "ticks": ""
            },
            "colorscale": [
             [
              0,
              "#0d0887"
             ],
             [
              0.1111111111111111,
              "#46039f"
             ],
             [
              0.2222222222222222,
              "#7201a8"
             ],
             [
              0.3333333333333333,
              "#9c179e"
             ],
             [
              0.4444444444444444,
              "#bd3786"
             ],
             [
              0.5555555555555556,
              "#d8576b"
             ],
             [
              0.6666666666666666,
              "#ed7953"
             ],
             [
              0.7777777777777778,
              "#fb9f3a"
             ],
             [
              0.8888888888888888,
              "#fdca26"
             ],
             [
              1,
              "#f0f921"
             ]
            ],
            "type": "heatmapgl"
           }
          ],
          "histogram": [
           {
            "marker": {
             "pattern": {
              "fillmode": "overlay",
              "size": 10,
              "solidity": 0.2
             }
            },
            "type": "histogram"
           }
          ],
          "histogram2d": [
           {
            "colorbar": {
             "outlinewidth": 0,
             "ticks": ""
            },
            "colorscale": [
             [
              0,
              "#0d0887"
             ],
             [
              0.1111111111111111,
              "#46039f"
             ],
             [
              0.2222222222222222,
              "#7201a8"
             ],
             [
              0.3333333333333333,
              "#9c179e"
             ],
             [
              0.4444444444444444,
              "#bd3786"
             ],
             [
              0.5555555555555556,
              "#d8576b"
             ],
             [
              0.6666666666666666,
              "#ed7953"
             ],
             [
              0.7777777777777778,
              "#fb9f3a"
             ],
             [
              0.8888888888888888,
              "#fdca26"
             ],
             [
              1,
              "#f0f921"
             ]
            ],
            "type": "histogram2d"
           }
          ],
          "histogram2dcontour": [
           {
            "colorbar": {
             "outlinewidth": 0,
             "ticks": ""
            },
            "colorscale": [
             [
              0,
              "#0d0887"
             ],
             [
              0.1111111111111111,
              "#46039f"
             ],
             [
              0.2222222222222222,
              "#7201a8"
             ],
             [
              0.3333333333333333,
              "#9c179e"
             ],
             [
              0.4444444444444444,
              "#bd3786"
             ],
             [
              0.5555555555555556,
              "#d8576b"
             ],
             [
              0.6666666666666666,
              "#ed7953"
             ],
             [
              0.7777777777777778,
              "#fb9f3a"
             ],
             [
              0.8888888888888888,
              "#fdca26"
             ],
             [
              1,
              "#f0f921"
             ]
            ],
            "type": "histogram2dcontour"
           }
          ],
          "mesh3d": [
           {
            "colorbar": {
             "outlinewidth": 0,
             "ticks": ""
            },
            "type": "mesh3d"
           }
          ],
          "parcoords": [
           {
            "line": {
             "colorbar": {
              "outlinewidth": 0,
              "ticks": ""
             }
            },
            "type": "parcoords"
           }
          ],
          "pie": [
           {
            "automargin": true,
            "type": "pie"
           }
          ],
          "scatter": [
           {
            "fillpattern": {
             "fillmode": "overlay",
             "size": 10,
             "solidity": 0.2
            },
            "type": "scatter"
           }
          ],
          "scatter3d": [
           {
            "line": {
             "colorbar": {
              "outlinewidth": 0,
              "ticks": ""
             }
            },
            "marker": {
             "colorbar": {
              "outlinewidth": 0,
              "ticks": ""
             }
            },
            "type": "scatter3d"
           }
          ],
          "scattercarpet": [
           {
            "marker": {
             "colorbar": {
              "outlinewidth": 0,
              "ticks": ""
             }
            },
            "type": "scattercarpet"
           }
          ],
          "scattergeo": [
           {
            "marker": {
             "colorbar": {
              "outlinewidth": 0,
              "ticks": ""
             }
            },
            "type": "scattergeo"
           }
          ],
          "scattergl": [
           {
            "marker": {
             "colorbar": {
              "outlinewidth": 0,
              "ticks": ""
             }
            },
            "type": "scattergl"
           }
          ],
          "scattermapbox": [
           {
            "marker": {
             "colorbar": {
              "outlinewidth": 0,
              "ticks": ""
             }
            },
            "type": "scattermapbox"
           }
          ],
          "scatterpolar": [
           {
            "marker": {
             "colorbar": {
              "outlinewidth": 0,
              "ticks": ""
             }
            },
            "type": "scatterpolar"
           }
          ],
          "scatterpolargl": [
           {
            "marker": {
             "colorbar": {
              "outlinewidth": 0,
              "ticks": ""
             }
            },
            "type": "scatterpolargl"
           }
          ],
          "scatterternary": [
           {
            "marker": {
             "colorbar": {
              "outlinewidth": 0,
              "ticks": ""
             }
            },
            "type": "scatterternary"
           }
          ],
          "surface": [
           {
            "colorbar": {
             "outlinewidth": 0,
             "ticks": ""
            },
            "colorscale": [
             [
              0,
              "#0d0887"
             ],
             [
              0.1111111111111111,
              "#46039f"
             ],
             [
              0.2222222222222222,
              "#7201a8"
             ],
             [
              0.3333333333333333,
              "#9c179e"
             ],
             [
              0.4444444444444444,
              "#bd3786"
             ],
             [
              0.5555555555555556,
              "#d8576b"
             ],
             [
              0.6666666666666666,
              "#ed7953"
             ],
             [
              0.7777777777777778,
              "#fb9f3a"
             ],
             [
              0.8888888888888888,
              "#fdca26"
             ],
             [
              1,
              "#f0f921"
             ]
            ],
            "type": "surface"
           }
          ],
          "table": [
           {
            "cells": {
             "fill": {
              "color": "#EBF0F8"
             },
             "line": {
              "color": "white"
             }
            },
            "header": {
             "fill": {
              "color": "#C8D4E3"
             },
             "line": {
              "color": "white"
             }
            },
            "type": "table"
           }
          ]
         },
         "layout": {
          "annotationdefaults": {
           "arrowcolor": "#2a3f5f",
           "arrowhead": 0,
           "arrowwidth": 1
          },
          "autotypenumbers": "strict",
          "coloraxis": {
           "colorbar": {
            "outlinewidth": 0,
            "ticks": ""
           }
          },
          "colorscale": {
           "diverging": [
            [
             0,
             "#8e0152"
            ],
            [
             0.1,
             "#c51b7d"
            ],
            [
             0.2,
             "#de77ae"
            ],
            [
             0.3,
             "#f1b6da"
            ],
            [
             0.4,
             "#fde0ef"
            ],
            [
             0.5,
             "#f7f7f7"
            ],
            [
             0.6,
             "#e6f5d0"
            ],
            [
             0.7,
             "#b8e186"
            ],
            [
             0.8,
             "#7fbc41"
            ],
            [
             0.9,
             "#4d9221"
            ],
            [
             1,
             "#276419"
            ]
           ],
           "sequential": [
            [
             0,
             "#0d0887"
            ],
            [
             0.1111111111111111,
             "#46039f"
            ],
            [
             0.2222222222222222,
             "#7201a8"
            ],
            [
             0.3333333333333333,
             "#9c179e"
            ],
            [
             0.4444444444444444,
             "#bd3786"
            ],
            [
             0.5555555555555556,
             "#d8576b"
            ],
            [
             0.6666666666666666,
             "#ed7953"
            ],
            [
             0.7777777777777778,
             "#fb9f3a"
            ],
            [
             0.8888888888888888,
             "#fdca26"
            ],
            [
             1,
             "#f0f921"
            ]
           ],
           "sequentialminus": [
            [
             0,
             "#0d0887"
            ],
            [
             0.1111111111111111,
             "#46039f"
            ],
            [
             0.2222222222222222,
             "#7201a8"
            ],
            [
             0.3333333333333333,
             "#9c179e"
            ],
            [
             0.4444444444444444,
             "#bd3786"
            ],
            [
             0.5555555555555556,
             "#d8576b"
            ],
            [
             0.6666666666666666,
             "#ed7953"
            ],
            [
             0.7777777777777778,
             "#fb9f3a"
            ],
            [
             0.8888888888888888,
             "#fdca26"
            ],
            [
             1,
             "#f0f921"
            ]
           ]
          },
          "colorway": [
           "#636efa",
           "#EF553B",
           "#00cc96",
           "#ab63fa",
           "#FFA15A",
           "#19d3f3",
           "#FF6692",
           "#B6E880",
           "#FF97FF",
           "#FECB52"
          ],
          "font": {
           "color": "#2a3f5f"
          },
          "geo": {
           "bgcolor": "white",
           "lakecolor": "white",
           "landcolor": "#E5ECF6",
           "showlakes": true,
           "showland": true,
           "subunitcolor": "white"
          },
          "hoverlabel": {
           "align": "left"
          },
          "hovermode": "closest",
          "mapbox": {
           "style": "light"
          },
          "paper_bgcolor": "white",
          "plot_bgcolor": "#E5ECF6",
          "polar": {
           "angularaxis": {
            "gridcolor": "white",
            "linecolor": "white",
            "ticks": ""
           },
           "bgcolor": "#E5ECF6",
           "radialaxis": {
            "gridcolor": "white",
            "linecolor": "white",
            "ticks": ""
           }
          },
          "scene": {
           "xaxis": {
            "backgroundcolor": "#E5ECF6",
            "gridcolor": "white",
            "gridwidth": 2,
            "linecolor": "white",
            "showbackground": true,
            "ticks": "",
            "zerolinecolor": "white"
           },
           "yaxis": {
            "backgroundcolor": "#E5ECF6",
            "gridcolor": "white",
            "gridwidth": 2,
            "linecolor": "white",
            "showbackground": true,
            "ticks": "",
            "zerolinecolor": "white"
           },
           "zaxis": {
            "backgroundcolor": "#E5ECF6",
            "gridcolor": "white",
            "gridwidth": 2,
            "linecolor": "white",
            "showbackground": true,
            "ticks": "",
            "zerolinecolor": "white"
           }
          },
          "shapedefaults": {
           "line": {
            "color": "#2a3f5f"
           }
          },
          "ternary": {
           "aaxis": {
            "gridcolor": "white",
            "linecolor": "white",
            "ticks": ""
           },
           "baxis": {
            "gridcolor": "white",
            "linecolor": "white",
            "ticks": ""
           },
           "bgcolor": "#E5ECF6",
           "caxis": {
            "gridcolor": "white",
            "linecolor": "white",
            "ticks": ""
           }
          },
          "title": {
           "x": 0.05
          },
          "xaxis": {
           "automargin": true,
           "gridcolor": "white",
           "linecolor": "white",
           "ticks": "",
           "title": {
            "standoff": 15
           },
           "zerolinecolor": "white",
           "zerolinewidth": 2
          },
          "yaxis": {
           "automargin": true,
           "gridcolor": "white",
           "linecolor": "white",
           "ticks": "",
           "title": {
            "standoff": 15
           },
           "zerolinecolor": "white",
           "zerolinewidth": 2
          }
         }
        },
        "title": {
         "text": "Median Income by Zip Code in Las Vegas Over Years"
        },
        "updatemenus": [
         {
          "buttons": [
           {
            "args": [
             {
              "visible": [
               true,
               true,
               true,
               true,
               true,
               true,
               true,
               true,
               true,
               true,
               true,
               true,
               true,
               true,
               true,
               true,
               true,
               true,
               true,
               true,
               true,
               true,
               true,
               true,
               true,
               true,
               true,
               true,
               true,
               true,
               true,
               true,
               true,
               true,
               true,
               true,
               true,
               true,
               true,
               true,
               true,
               true,
               true,
               true,
               true,
               true,
               true,
               true,
               true,
               true,
               true,
               true
              ]
             },
             {
              "title": "Median Income by Zip Code in Las Vegas Over Years"
             }
            ],
            "label": "All",
            "method": "update"
           },
           {
            "args": [
             {
              "visible": [
               true,
               false,
               false,
               false,
               false,
               false,
               false,
               false,
               false,
               false,
               false,
               false,
               false,
               false,
               false,
               false,
               false,
               false,
               false,
               false,
               false,
               false,
               false,
               false,
               false,
               false,
               false,
               false,
               false,
               false,
               false,
               false,
               false,
               false,
               false,
               false,
               false,
               false,
               false,
               false,
               false,
               false,
               false,
               false,
               false,
               false,
               false,
               false,
               false,
               false,
               false,
               false
              ]
             },
             {
              "title": "Median Income for Zip Code 89002"
             }
            ],
            "label": "89002",
            "method": "update"
           },
           {
            "args": [
             {
              "visible": [
               false,
               true,
               false,
               false,
               false,
               false,
               false,
               false,
               false,
               false,
               false,
               false,
               false,
               false,
               false,
               false,
               false,
               false,
               false,
               false,
               false,
               false,
               false,
               false,
               false,
               false,
               false,
               false,
               false,
               false,
               false,
               false,
               false,
               false,
               false,
               false,
               false,
               false,
               false,
               false,
               false,
               false,
               false,
               false,
               false,
               false,
               false,
               false,
               false,
               false,
               false,
               false
              ]
             },
             {
              "title": "Median Income for Zip Code 89011"
             }
            ],
            "label": "89011",
            "method": "update"
           },
           {
            "args": [
             {
              "visible": [
               false,
               false,
               true,
               false,
               false,
               false,
               false,
               false,
               false,
               false,
               false,
               false,
               false,
               false,
               false,
               false,
               false,
               false,
               false,
               false,
               false,
               false,
               false,
               false,
               false,
               false,
               false,
               false,
               false,
               false,
               false,
               false,
               false,
               false,
               false,
               false,
               false,
               false,
               false,
               false,
               false,
               false,
               false,
               false,
               false,
               false,
               false,
               false,
               false,
               false,
               false,
               false
              ]
             },
             {
              "title": "Median Income for Zip Code 89012"
             }
            ],
            "label": "89012",
            "method": "update"
           },
           {
            "args": [
             {
              "visible": [
               false,
               false,
               false,
               true,
               false,
               false,
               false,
               false,
               false,
               false,
               false,
               false,
               false,
               false,
               false,
               false,
               false,
               false,
               false,
               false,
               false,
               false,
               false,
               false,
               false,
               false,
               false,
               false,
               false,
               false,
               false,
               false,
               false,
               false,
               false,
               false,
               false,
               false,
               false,
               false,
               false,
               false,
               false,
               false,
               false,
               false,
               false,
               false,
               false,
               false,
               false,
               false
              ]
             },
             {
              "title": "Median Income for Zip Code 89014"
             }
            ],
            "label": "89014",
            "method": "update"
           },
           {
            "args": [
             {
              "visible": [
               false,
               false,
               false,
               false,
               true,
               false,
               false,
               false,
               false,
               false,
               false,
               false,
               false,
               false,
               false,
               false,
               false,
               false,
               false,
               false,
               false,
               false,
               false,
               false,
               false,
               false,
               false,
               false,
               false,
               false,
               false,
               false,
               false,
               false,
               false,
               false,
               false,
               false,
               false,
               false,
               false,
               false,
               false,
               false,
               false,
               false,
               false,
               false,
               false,
               false,
               false,
               false
              ]
             },
             {
              "title": "Median Income for Zip Code 89015"
             }
            ],
            "label": "89015",
            "method": "update"
           },
           {
            "args": [
             {
              "visible": [
               false,
               false,
               false,
               false,
               false,
               true,
               false,
               false,
               false,
               false,
               false,
               false,
               false,
               false,
               false,
               false,
               false,
               false,
               false,
               false,
               false,
               false,
               false,
               false,
               false,
               false,
               false,
               false,
               false,
               false,
               false,
               false,
               false,
               false,
               false,
               false,
               false,
               false,
               false,
               false,
               false,
               false,
               false,
               false,
               false,
               false,
               false,
               false,
               false,
               false,
               false,
               false
              ]
             },
             {
              "title": "Median Income for Zip Code 89030"
             }
            ],
            "label": "89030",
            "method": "update"
           },
           {
            "args": [
             {
              "visible": [
               false,
               false,
               false,
               false,
               false,
               false,
               true,
               false,
               false,
               false,
               false,
               false,
               false,
               false,
               false,
               false,
               false,
               false,
               false,
               false,
               false,
               false,
               false,
               false,
               false,
               false,
               false,
               false,
               false,
               false,
               false,
               false,
               false,
               false,
               false,
               false,
               false,
               false,
               false,
               false,
               false,
               false,
               false,
               false,
               false,
               false,
               false,
               false,
               false,
               false,
               false,
               false
              ]
             },
             {
              "title": "Median Income for Zip Code 89032"
             }
            ],
            "label": "89032",
            "method": "update"
           },
           {
            "args": [
             {
              "visible": [
               false,
               false,
               false,
               false,
               false,
               false,
               false,
               true,
               false,
               false,
               false,
               false,
               false,
               false,
               false,
               false,
               false,
               false,
               false,
               false,
               false,
               false,
               false,
               false,
               false,
               false,
               false,
               false,
               false,
               false,
               false,
               false,
               false,
               false,
               false,
               false,
               false,
               false,
               false,
               false,
               false,
               false,
               false,
               false,
               false,
               false,
               false,
               false,
               false,
               false,
               false,
               false
              ]
             },
             {
              "title": "Median Income for Zip Code 89044"
             }
            ],
            "label": "89044",
            "method": "update"
           },
           {
            "args": [
             {
              "visible": [
               false,
               false,
               false,
               false,
               false,
               false,
               false,
               false,
               true,
               false,
               false,
               false,
               false,
               false,
               false,
               false,
               false,
               false,
               false,
               false,
               false,
               false,
               false,
               false,
               false,
               false,
               false,
               false,
               false,
               false,
               false,
               false,
               false,
               false,
               false,
               false,
               false,
               false,
               false,
               false,
               false,
               false,
               false,
               false,
               false,
               false,
               false,
               false,
               false,
               false,
               false,
               false
              ]
             },
             {
              "title": "Median Income for Zip Code 89052"
             }
            ],
            "label": "89052",
            "method": "update"
           },
           {
            "args": [
             {
              "visible": [
               false,
               false,
               false,
               false,
               false,
               false,
               false,
               false,
               false,
               true,
               false,
               false,
               false,
               false,
               false,
               false,
               false,
               false,
               false,
               false,
               false,
               false,
               false,
               false,
               false,
               false,
               false,
               false,
               false,
               false,
               false,
               false,
               false,
               false,
               false,
               false,
               false,
               false,
               false,
               false,
               false,
               false,
               false,
               false,
               false,
               false,
               false,
               false,
               false,
               false,
               false,
               false
              ]
             },
             {
              "title": "Median Income for Zip Code 89074"
             }
            ],
            "label": "89074",
            "method": "update"
           },
           {
            "args": [
             {
              "visible": [
               false,
               false,
               false,
               false,
               false,
               false,
               false,
               false,
               false,
               false,
               true,
               false,
               false,
               false,
               false,
               false,
               false,
               false,
               false,
               false,
               false,
               false,
               false,
               false,
               false,
               false,
               false,
               false,
               false,
               false,
               false,
               false,
               false,
               false,
               false,
               false,
               false,
               false,
               false,
               false,
               false,
               false,
               false,
               false,
               false,
               false,
               false,
               false,
               false,
               false,
               false,
               false
              ]
             },
             {
              "title": "Median Income for Zip Code 89081"
             }
            ],
            "label": "89081",
            "method": "update"
           },
           {
            "args": [
             {
              "visible": [
               false,
               false,
               false,
               false,
               false,
               false,
               false,
               false,
               false,
               false,
               false,
               true,
               false,
               false,
               false,
               false,
               false,
               false,
               false,
               false,
               false,
               false,
               false,
               false,
               false,
               false,
               false,
               false,
               false,
               false,
               false,
               false,
               false,
               false,
               false,
               false,
               false,
               false,
               false,
               false,
               false,
               false,
               false,
               false,
               false,
               false,
               false,
               false,
               false,
               false,
               false,
               false
              ]
             },
             {
              "title": "Median Income for Zip Code 89084"
             }
            ],
            "label": "89084",
            "method": "update"
           },
           {
            "args": [
             {
              "visible": [
               false,
               false,
               false,
               false,
               false,
               false,
               false,
               false,
               false,
               false,
               false,
               false,
               true,
               false,
               false,
               false,
               false,
               false,
               false,
               false,
               false,
               false,
               false,
               false,
               false,
               false,
               false,
               false,
               false,
               false,
               false,
               false,
               false,
               false,
               false,
               false,
               false,
               false,
               false,
               false,
               false,
               false,
               false,
               false,
               false,
               false,
               false,
               false,
               false,
               false,
               false,
               false
              ]
             },
             {
              "title": "Median Income for Zip Code 89085"
             }
            ],
            "label": "89085",
            "method": "update"
           },
           {
            "args": [
             {
              "visible": [
               false,
               false,
               false,
               false,
               false,
               false,
               false,
               false,
               false,
               false,
               false,
               false,
               false,
               true,
               false,
               false,
               false,
               false,
               false,
               false,
               false,
               false,
               false,
               false,
               false,
               false,
               false,
               false,
               false,
               false,
               false,
               false,
               false,
               false,
               false,
               false,
               false,
               false,
               false,
               false,
               false,
               false,
               false,
               false,
               false,
               false,
               false,
               false,
               false,
               false,
               false,
               false
              ]
             },
             {
              "title": "Median Income for Zip Code 89086"
             }
            ],
            "label": "89086",
            "method": "update"
           },
           {
            "args": [
             {
              "visible": [
               false,
               false,
               false,
               false,
               false,
               false,
               false,
               false,
               false,
               false,
               false,
               false,
               false,
               false,
               true,
               false,
               false,
               false,
               false,
               false,
               false,
               false,
               false,
               false,
               false,
               false,
               false,
               false,
               false,
               false,
               false,
               false,
               false,
               false,
               false,
               false,
               false,
               false,
               false,
               false,
               false,
               false,
               false,
               false,
               false,
               false,
               false,
               false,
               false,
               false,
               false,
               false
              ]
             },
             {
              "title": "Median Income for Zip Code 89102"
             }
            ],
            "label": "89102",
            "method": "update"
           },
           {
            "args": [
             {
              "visible": [
               false,
               false,
               false,
               false,
               false,
               false,
               false,
               false,
               false,
               false,
               false,
               false,
               false,
               false,
               false,
               true,
               false,
               false,
               false,
               false,
               false,
               false,
               false,
               false,
               false,
               false,
               false,
               false,
               false,
               false,
               false,
               false,
               false,
               false,
               false,
               false,
               false,
               false,
               false,
               false,
               false,
               false,
               false,
               false,
               false,
               false,
               false,
               false,
               false,
               false,
               false,
               false
              ]
             },
             {
              "title": "Median Income for Zip Code 89103"
             }
            ],
            "label": "89103",
            "method": "update"
           },
           {
            "args": [
             {
              "visible": [
               false,
               false,
               false,
               false,
               false,
               false,
               false,
               false,
               false,
               false,
               false,
               false,
               false,
               false,
               false,
               false,
               true,
               false,
               false,
               false,
               false,
               false,
               false,
               false,
               false,
               false,
               false,
               false,
               false,
               false,
               false,
               false,
               false,
               false,
               false,
               false,
               false,
               false,
               false,
               false,
               false,
               false,
               false,
               false,
               false,
               false,
               false,
               false,
               false,
               false,
               false,
               false
              ]
             },
             {
              "title": "Median Income for Zip Code 89104"
             }
            ],
            "label": "89104",
            "method": "update"
           },
           {
            "args": [
             {
              "visible": [
               false,
               false,
               false,
               false,
               false,
               false,
               false,
               false,
               false,
               false,
               false,
               false,
               false,
               false,
               false,
               false,
               false,
               true,
               false,
               false,
               false,
               false,
               false,
               false,
               false,
               false,
               false,
               false,
               false,
               false,
               false,
               false,
               false,
               false,
               false,
               false,
               false,
               false,
               false,
               false,
               false,
               false,
               false,
               false,
               false,
               false,
               false,
               false,
               false,
               false,
               false,
               false
              ]
             },
             {
              "title": "Median Income for Zip Code 89107"
             }
            ],
            "label": "89107",
            "method": "update"
           },
           {
            "args": [
             {
              "visible": [
               false,
               false,
               false,
               false,
               false,
               false,
               false,
               false,
               false,
               false,
               false,
               false,
               false,
               false,
               false,
               false,
               false,
               false,
               true,
               false,
               false,
               false,
               false,
               false,
               false,
               false,
               false,
               false,
               false,
               false,
               false,
               false,
               false,
               false,
               false,
               false,
               false,
               false,
               false,
               false,
               false,
               false,
               false,
               false,
               false,
               false,
               false,
               false,
               false,
               false,
               false,
               false
              ]
             },
             {
              "title": "Median Income for Zip Code 89108"
             }
            ],
            "label": "89108",
            "method": "update"
           },
           {
            "args": [
             {
              "visible": [
               false,
               false,
               false,
               false,
               false,
               false,
               false,
               false,
               false,
               false,
               false,
               false,
               false,
               false,
               false,
               false,
               false,
               false,
               false,
               true,
               false,
               false,
               false,
               false,
               false,
               false,
               false,
               false,
               false,
               false,
               false,
               false,
               false,
               false,
               false,
               false,
               false,
               false,
               false,
               false,
               false,
               false,
               false,
               false,
               false,
               false,
               false,
               false,
               false,
               false,
               false,
               false
              ]
             },
             {
              "title": "Median Income for Zip Code 89109"
             }
            ],
            "label": "89109",
            "method": "update"
           },
           {
            "args": [
             {
              "visible": [
               false,
               false,
               false,
               false,
               false,
               false,
               false,
               false,
               false,
               false,
               false,
               false,
               false,
               false,
               false,
               false,
               false,
               false,
               false,
               false,
               true,
               false,
               false,
               false,
               false,
               false,
               false,
               false,
               false,
               false,
               false,
               false,
               false,
               false,
               false,
               false,
               false,
               false,
               false,
               false,
               false,
               false,
               false,
               false,
               false,
               false,
               false,
               false,
               false,
               false,
               false,
               false
              ]
             },
             {
              "title": "Median Income for Zip Code 89113"
             }
            ],
            "label": "89113",
            "method": "update"
           },
           {
            "args": [
             {
              "visible": [
               false,
               false,
               false,
               false,
               false,
               false,
               false,
               false,
               false,
               false,
               false,
               false,
               false,
               false,
               false,
               false,
               false,
               false,
               false,
               false,
               false,
               true,
               false,
               false,
               false,
               false,
               false,
               false,
               false,
               false,
               false,
               false,
               false,
               false,
               false,
               false,
               false,
               false,
               false,
               false,
               false,
               false,
               false,
               false,
               false,
               false,
               false,
               false,
               false,
               false,
               false,
               false
              ]
             },
             {
              "title": "Median Income for Zip Code 89115"
             }
            ],
            "label": "89115",
            "method": "update"
           },
           {
            "args": [
             {
              "visible": [
               false,
               false,
               false,
               false,
               false,
               false,
               false,
               false,
               false,
               false,
               false,
               false,
               false,
               false,
               false,
               false,
               false,
               false,
               false,
               false,
               false,
               false,
               true,
               false,
               false,
               false,
               false,
               false,
               false,
               false,
               false,
               false,
               false,
               false,
               false,
               false,
               false,
               false,
               false,
               false,
               false,
               false,
               false,
               false,
               false,
               false,
               false,
               false,
               false,
               false,
               false,
               false
              ]
             },
             {
              "title": "Median Income for Zip Code 89117"
             }
            ],
            "label": "89117",
            "method": "update"
           },
           {
            "args": [
             {
              "visible": [
               false,
               false,
               false,
               false,
               false,
               false,
               false,
               false,
               false,
               false,
               false,
               false,
               false,
               false,
               false,
               false,
               false,
               false,
               false,
               false,
               false,
               false,
               false,
               true,
               false,
               false,
               false,
               false,
               false,
               false,
               false,
               false,
               false,
               false,
               false,
               false,
               false,
               false,
               false,
               false,
               false,
               false,
               false,
               false,
               false,
               false,
               false,
               false,
               false,
               false,
               false,
               false
              ]
             },
             {
              "title": "Median Income for Zip Code 89118"
             }
            ],
            "label": "89118",
            "method": "update"
           },
           {
            "args": [
             {
              "visible": [
               false,
               false,
               false,
               false,
               false,
               false,
               false,
               false,
               false,
               false,
               false,
               false,
               false,
               false,
               false,
               false,
               false,
               false,
               false,
               false,
               false,
               false,
               false,
               false,
               true,
               false,
               false,
               false,
               false,
               false,
               false,
               false,
               false,
               false,
               false,
               false,
               false,
               false,
               false,
               false,
               false,
               false,
               false,
               false,
               false,
               false,
               false,
               false,
               false,
               false,
               false,
               false
              ]
             },
             {
              "title": "Median Income for Zip Code 89119"
             }
            ],
            "label": "89119",
            "method": "update"
           },
           {
            "args": [
             {
              "visible": [
               false,
               false,
               false,
               false,
               false,
               false,
               false,
               false,
               false,
               false,
               false,
               false,
               false,
               false,
               false,
               false,
               false,
               false,
               false,
               false,
               false,
               false,
               false,
               false,
               false,
               true,
               false,
               false,
               false,
               false,
               false,
               false,
               false,
               false,
               false,
               false,
               false,
               false,
               false,
               false,
               false,
               false,
               false,
               false,
               false,
               false,
               false,
               false,
               false,
               false,
               false,
               false
              ]
             },
             {
              "title": "Median Income for Zip Code 89120"
             }
            ],
            "label": "89120",
            "method": "update"
           },
           {
            "args": [
             {
              "visible": [
               false,
               false,
               false,
               false,
               false,
               false,
               false,
               false,
               false,
               false,
               false,
               false,
               false,
               false,
               false,
               false,
               false,
               false,
               false,
               false,
               false,
               false,
               false,
               false,
               false,
               false,
               true,
               false,
               false,
               false,
               false,
               false,
               false,
               false,
               false,
               false,
               false,
               false,
               false,
               false,
               false,
               false,
               false,
               false,
               false,
               false,
               false,
               false,
               false,
               false,
               false,
               false
              ]
             },
             {
              "title": "Median Income for Zip Code 89121"
             }
            ],
            "label": "89121",
            "method": "update"
           },
           {
            "args": [
             {
              "visible": [
               false,
               false,
               false,
               false,
               false,
               false,
               false,
               false,
               false,
               false,
               false,
               false,
               false,
               false,
               false,
               false,
               false,
               false,
               false,
               false,
               false,
               false,
               false,
               false,
               false,
               false,
               false,
               true,
               false,
               false,
               false,
               false,
               false,
               false,
               false,
               false,
               false,
               false,
               false,
               false,
               false,
               false,
               false,
               false,
               false,
               false,
               false,
               false,
               false,
               false,
               false,
               false
              ]
             },
             {
              "title": "Median Income for Zip Code 89122"
             }
            ],
            "label": "89122",
            "method": "update"
           },
           {
            "args": [
             {
              "visible": [
               false,
               false,
               false,
               false,
               false,
               false,
               false,
               false,
               false,
               false,
               false,
               false,
               false,
               false,
               false,
               false,
               false,
               false,
               false,
               false,
               false,
               false,
               false,
               false,
               false,
               false,
               false,
               false,
               true,
               false,
               false,
               false,
               false,
               false,
               false,
               false,
               false,
               false,
               false,
               false,
               false,
               false,
               false,
               false,
               false,
               false,
               false,
               false,
               false,
               false,
               false,
               false
              ]
             },
             {
              "title": "Median Income for Zip Code 89123"
             }
            ],
            "label": "89123",
            "method": "update"
           },
           {
            "args": [
             {
              "visible": [
               false,
               false,
               false,
               false,
               false,
               false,
               false,
               false,
               false,
               false,
               false,
               false,
               false,
               false,
               false,
               false,
               false,
               false,
               false,
               false,
               false,
               false,
               false,
               false,
               false,
               false,
               false,
               false,
               false,
               true,
               false,
               false,
               false,
               false,
               false,
               false,
               false,
               false,
               false,
               false,
               false,
               false,
               false,
               false,
               false,
               false,
               false,
               false,
               false,
               false,
               false,
               false
              ]
             },
             {
              "title": "Median Income for Zip Code 89128"
             }
            ],
            "label": "89128",
            "method": "update"
           },
           {
            "args": [
             {
              "visible": [
               false,
               false,
               false,
               false,
               false,
               false,
               false,
               false,
               false,
               false,
               false,
               false,
               false,
               false,
               false,
               false,
               false,
               false,
               false,
               false,
               false,
               false,
               false,
               false,
               false,
               false,
               false,
               false,
               false,
               false,
               true,
               false,
               false,
               false,
               false,
               false,
               false,
               false,
               false,
               false,
               false,
               false,
               false,
               false,
               false,
               false,
               false,
               false,
               false,
               false,
               false,
               false
              ]
             },
             {
              "title": "Median Income for Zip Code 89129"
             }
            ],
            "label": "89129",
            "method": "update"
           },
           {
            "args": [
             {
              "visible": [
               false,
               false,
               false,
               false,
               false,
               false,
               false,
               false,
               false,
               false,
               false,
               false,
               false,
               false,
               false,
               false,
               false,
               false,
               false,
               false,
               false,
               false,
               false,
               false,
               false,
               false,
               false,
               false,
               false,
               false,
               false,
               true,
               false,
               false,
               false,
               false,
               false,
               false,
               false,
               false,
               false,
               false,
               false,
               false,
               false,
               false,
               false,
               false,
               false,
               false,
               false,
               false
              ]
             },
             {
              "title": "Median Income for Zip Code 89130"
             }
            ],
            "label": "89130",
            "method": "update"
           },
           {
            "args": [
             {
              "visible": [
               false,
               false,
               false,
               false,
               false,
               false,
               false,
               false,
               false,
               false,
               false,
               false,
               false,
               false,
               false,
               false,
               false,
               false,
               false,
               false,
               false,
               false,
               false,
               false,
               false,
               false,
               false,
               false,
               false,
               false,
               false,
               false,
               true,
               false,
               false,
               false,
               false,
               false,
               false,
               false,
               false,
               false,
               false,
               false,
               false,
               false,
               false,
               false,
               false,
               false,
               false,
               false
              ]
             },
             {
              "title": "Median Income for Zip Code 89131"
             }
            ],
            "label": "89131",
            "method": "update"
           },
           {
            "args": [
             {
              "visible": [
               false,
               false,
               false,
               false,
               false,
               false,
               false,
               false,
               false,
               false,
               false,
               false,
               false,
               false,
               false,
               false,
               false,
               false,
               false,
               false,
               false,
               false,
               false,
               false,
               false,
               false,
               false,
               false,
               false,
               false,
               false,
               false,
               false,
               true,
               false,
               false,
               false,
               false,
               false,
               false,
               false,
               false,
               false,
               false,
               false,
               false,
               false,
               false,
               false,
               false,
               false,
               false
              ]
             },
             {
              "title": "Median Income for Zip Code 89134"
             }
            ],
            "label": "89134",
            "method": "update"
           },
           {
            "args": [
             {
              "visible": [
               false,
               false,
               false,
               false,
               false,
               false,
               false,
               false,
               false,
               false,
               false,
               false,
               false,
               false,
               false,
               false,
               false,
               false,
               false,
               false,
               false,
               false,
               false,
               false,
               false,
               false,
               false,
               false,
               false,
               false,
               false,
               false,
               false,
               false,
               true,
               false,
               false,
               false,
               false,
               false,
               false,
               false,
               false,
               false,
               false,
               false,
               false,
               false,
               false,
               false,
               false,
               false
              ]
             },
             {
              "title": "Median Income for Zip Code 89135"
             }
            ],
            "label": "89135",
            "method": "update"
           },
           {
            "args": [
             {
              "visible": [
               false,
               false,
               false,
               false,
               false,
               false,
               false,
               false,
               false,
               false,
               false,
               false,
               false,
               false,
               false,
               false,
               false,
               false,
               false,
               false,
               false,
               false,
               false,
               false,
               false,
               false,
               false,
               false,
               false,
               false,
               false,
               false,
               false,
               false,
               false,
               true,
               false,
               false,
               false,
               false,
               false,
               false,
               false,
               false,
               false,
               false,
               false,
               false,
               false,
               false,
               false,
               false
              ]
             },
             {
              "title": "Median Income for Zip Code 89138"
             }
            ],
            "label": "89138",
            "method": "update"
           },
           {
            "args": [
             {
              "visible": [
               false,
               false,
               false,
               false,
               false,
               false,
               false,
               false,
               false,
               false,
               false,
               false,
               false,
               false,
               false,
               false,
               false,
               false,
               false,
               false,
               false,
               false,
               false,
               false,
               false,
               false,
               false,
               false,
               false,
               false,
               false,
               false,
               false,
               false,
               false,
               false,
               true,
               false,
               false,
               false,
               false,
               false,
               false,
               false,
               false,
               false,
               false,
               false,
               false,
               false,
               false,
               false
              ]
             },
             {
              "title": "Median Income for Zip Code 89139"
             }
            ],
            "label": "89139",
            "method": "update"
           },
           {
            "args": [
             {
              "visible": [
               false,
               false,
               false,
               false,
               false,
               false,
               false,
               false,
               false,
               false,
               false,
               false,
               false,
               false,
               false,
               false,
               false,
               false,
               false,
               false,
               false,
               false,
               false,
               false,
               false,
               false,
               false,
               false,
               false,
               false,
               false,
               false,
               false,
               false,
               false,
               false,
               false,
               true,
               false,
               false,
               false,
               false,
               false,
               false,
               false,
               false,
               false,
               false,
               false,
               false,
               false,
               false
              ]
             },
             {
              "title": "Median Income for Zip Code 89141"
             }
            ],
            "label": "89141",
            "method": "update"
           },
           {
            "args": [
             {
              "visible": [
               false,
               false,
               false,
               false,
               false,
               false,
               false,
               false,
               false,
               false,
               false,
               false,
               false,
               false,
               false,
               false,
               false,
               false,
               false,
               false,
               false,
               false,
               false,
               false,
               false,
               false,
               false,
               false,
               false,
               false,
               false,
               false,
               false,
               false,
               false,
               false,
               false,
               false,
               true,
               false,
               false,
               false,
               false,
               false,
               false,
               false,
               false,
               false,
               false,
               false,
               false,
               false
              ]
             },
             {
              "title": "Median Income for Zip Code 89142"
             }
            ],
            "label": "89142",
            "method": "update"
           },
           {
            "args": [
             {
              "visible": [
               false,
               false,
               false,
               false,
               false,
               false,
               false,
               false,
               false,
               false,
               false,
               false,
               false,
               false,
               false,
               false,
               false,
               false,
               false,
               false,
               false,
               false,
               false,
               false,
               false,
               false,
               false,
               false,
               false,
               false,
               false,
               false,
               false,
               false,
               false,
               false,
               false,
               false,
               false,
               true,
               false,
               false,
               false,
               false,
               false,
               false,
               false,
               false,
               false,
               false,
               false,
               false
              ]
             },
             {
              "title": "Median Income for Zip Code 89143"
             }
            ],
            "label": "89143",
            "method": "update"
           },
           {
            "args": [
             {
              "visible": [
               false,
               false,
               false,
               false,
               false,
               false,
               false,
               false,
               false,
               false,
               false,
               false,
               false,
               false,
               false,
               false,
               false,
               false,
               false,
               false,
               false,
               false,
               false,
               false,
               false,
               false,
               false,
               false,
               false,
               false,
               false,
               false,
               false,
               false,
               false,
               false,
               false,
               false,
               false,
               false,
               true,
               false,
               false,
               false,
               false,
               false,
               false,
               false,
               false,
               false,
               false,
               false
              ]
             },
             {
              "title": "Median Income for Zip Code 89144"
             }
            ],
            "label": "89144",
            "method": "update"
           },
           {
            "args": [
             {
              "visible": [
               false,
               false,
               false,
               false,
               false,
               false,
               false,
               false,
               false,
               false,
               false,
               false,
               false,
               false,
               false,
               false,
               false,
               false,
               false,
               false,
               false,
               false,
               false,
               false,
               false,
               false,
               false,
               false,
               false,
               false,
               false,
               false,
               false,
               false,
               false,
               false,
               false,
               false,
               false,
               false,
               false,
               true,
               false,
               false,
               false,
               false,
               false,
               false,
               false,
               false,
               false,
               false
              ]
             },
             {
              "title": "Median Income for Zip Code 89145"
             }
            ],
            "label": "89145",
            "method": "update"
           },
           {
            "args": [
             {
              "visible": [
               false,
               false,
               false,
               false,
               false,
               false,
               false,
               false,
               false,
               false,
               false,
               false,
               false,
               false,
               false,
               false,
               false,
               false,
               false,
               false,
               false,
               false,
               false,
               false,
               false,
               false,
               false,
               false,
               false,
               false,
               false,
               false,
               false,
               false,
               false,
               false,
               false,
               false,
               false,
               false,
               false,
               false,
               true,
               false,
               false,
               false,
               false,
               false,
               false,
               false,
               false,
               false
              ]
             },
             {
              "title": "Median Income for Zip Code 89146"
             }
            ],
            "label": "89146",
            "method": "update"
           },
           {
            "args": [
             {
              "visible": [
               false,
               false,
               false,
               false,
               false,
               false,
               false,
               false,
               false,
               false,
               false,
               false,
               false,
               false,
               false,
               false,
               false,
               false,
               false,
               false,
               false,
               false,
               false,
               false,
               false,
               false,
               false,
               false,
               false,
               false,
               false,
               false,
               false,
               false,
               false,
               false,
               false,
               false,
               false,
               false,
               false,
               false,
               false,
               true,
               false,
               false,
               false,
               false,
               false,
               false,
               false,
               false
              ]
             },
             {
              "title": "Median Income for Zip Code 89147"
             }
            ],
            "label": "89147",
            "method": "update"
           },
           {
            "args": [
             {
              "visible": [
               false,
               false,
               false,
               false,
               false,
               false,
               false,
               false,
               false,
               false,
               false,
               false,
               false,
               false,
               false,
               false,
               false,
               false,
               false,
               false,
               false,
               false,
               false,
               false,
               false,
               false,
               false,
               false,
               false,
               false,
               false,
               false,
               false,
               false,
               false,
               false,
               false,
               false,
               false,
               false,
               false,
               false,
               false,
               false,
               true,
               false,
               false,
               false,
               false,
               false,
               false,
               false
              ]
             },
             {
              "title": "Median Income for Zip Code 89148"
             }
            ],
            "label": "89148",
            "method": "update"
           },
           {
            "args": [
             {
              "visible": [
               false,
               false,
               false,
               false,
               false,
               false,
               false,
               false,
               false,
               false,
               false,
               false,
               false,
               false,
               false,
               false,
               false,
               false,
               false,
               false,
               false,
               false,
               false,
               false,
               false,
               false,
               false,
               false,
               false,
               false,
               false,
               false,
               false,
               false,
               false,
               false,
               false,
               false,
               false,
               false,
               false,
               false,
               false,
               false,
               false,
               true,
               false,
               false,
               false,
               false,
               false,
               false
              ]
             },
             {
              "title": "Median Income for Zip Code 89149"
             }
            ],
            "label": "89149",
            "method": "update"
           },
           {
            "args": [
             {
              "visible": [
               false,
               false,
               false,
               false,
               false,
               false,
               false,
               false,
               false,
               false,
               false,
               false,
               false,
               false,
               false,
               false,
               false,
               false,
               false,
               false,
               false,
               false,
               false,
               false,
               false,
               false,
               false,
               false,
               false,
               false,
               false,
               false,
               false,
               false,
               false,
               false,
               false,
               false,
               false,
               false,
               false,
               false,
               false,
               false,
               false,
               false,
               true,
               false,
               false,
               false,
               false,
               false
              ]
             },
             {
              "title": "Median Income for Zip Code 89156"
             }
            ],
            "label": "89156",
            "method": "update"
           },
           {
            "args": [
             {
              "visible": [
               false,
               false,
               false,
               false,
               false,
               false,
               false,
               false,
               false,
               false,
               false,
               false,
               false,
               false,
               false,
               false,
               false,
               false,
               false,
               false,
               false,
               false,
               false,
               false,
               false,
               false,
               false,
               false,
               false,
               false,
               false,
               false,
               false,
               false,
               false,
               false,
               false,
               false,
               false,
               false,
               false,
               false,
               false,
               false,
               false,
               false,
               false,
               true,
               false,
               false,
               false,
               false
              ]
             },
             {
              "title": "Median Income for Zip Code 89158"
             }
            ],
            "label": "89158",
            "method": "update"
           },
           {
            "args": [
             {
              "visible": [
               false,
               false,
               false,
               false,
               false,
               false,
               false,
               false,
               false,
               false,
               false,
               false,
               false,
               false,
               false,
               false,
               false,
               false,
               false,
               false,
               false,
               false,
               false,
               false,
               false,
               false,
               false,
               false,
               false,
               false,
               false,
               false,
               false,
               false,
               false,
               false,
               false,
               false,
               false,
               false,
               false,
               false,
               false,
               false,
               false,
               false,
               false,
               false,
               true,
               false,
               false,
               false
              ]
             },
             {
              "title": "Median Income for Zip Code 89169"
             }
            ],
            "label": "89169",
            "method": "update"
           },
           {
            "args": [
             {
              "visible": [
               false,
               false,
               false,
               false,
               false,
               false,
               false,
               false,
               false,
               false,
               false,
               false,
               false,
               false,
               false,
               false,
               false,
               false,
               false,
               false,
               false,
               false,
               false,
               false,
               false,
               false,
               false,
               false,
               false,
               false,
               false,
               false,
               false,
               false,
               false,
               false,
               false,
               false,
               false,
               false,
               false,
               false,
               false,
               false,
               false,
               false,
               false,
               false,
               false,
               true,
               false,
               false
              ]
             },
             {
              "title": "Median Income for Zip Code 89178"
             }
            ],
            "label": "89178",
            "method": "update"
           },
           {
            "args": [
             {
              "visible": [
               false,
               false,
               false,
               false,
               false,
               false,
               false,
               false,
               false,
               false,
               false,
               false,
               false,
               false,
               false,
               false,
               false,
               false,
               false,
               false,
               false,
               false,
               false,
               false,
               false,
               false,
               false,
               false,
               false,
               false,
               false,
               false,
               false,
               false,
               false,
               false,
               false,
               false,
               false,
               false,
               false,
               false,
               false,
               false,
               false,
               false,
               false,
               false,
               false,
               false,
               true,
               false
              ]
             },
             {
              "title": "Median Income for Zip Code 89179"
             }
            ],
            "label": "89179",
            "method": "update"
           },
           {
            "args": [
             {
              "visible": [
               false,
               false,
               false,
               false,
               false,
               false,
               false,
               false,
               false,
               false,
               false,
               false,
               false,
               false,
               false,
               false,
               false,
               false,
               false,
               false,
               false,
               false,
               false,
               false,
               false,
               false,
               false,
               false,
               false,
               false,
               false,
               false,
               false,
               false,
               false,
               false,
               false,
               false,
               false,
               false,
               false,
               false,
               false,
               false,
               false,
               false,
               false,
               false,
               false,
               false,
               false,
               true
              ]
             },
             {
              "title": "Median Income for Zip Code 89183"
             }
            ],
            "label": "89183",
            "method": "update"
           }
          ],
          "direction": "down",
          "pad": {
           "r": 10,
           "t": 10
          },
          "showactive": true,
          "x": 0.1,
          "xanchor": "left",
          "y": 1.15,
          "yanchor": "top"
         }
        ],
        "xaxis": {
         "title": {
          "text": "Year"
         }
        },
        "yaxis": {
         "title": {
          "text": "Median Income (USD)"
         }
        }
       }
      },
      "text/html": [
       "<div>                            <div id=\"cbaa38bc-fc4a-48e0-8180-a05f2e2502b9\" class=\"plotly-graph-div\" style=\"height:525px; width:100%;\"></div>            <script type=\"text/javascript\">                require([\"plotly\"], function(Plotly) {                    window.PLOTLYENV=window.PLOTLYENV || {};                                    if (document.getElementById(\"cbaa38bc-fc4a-48e0-8180-a05f2e2502b9\")) {                    Plotly.newPlot(                        \"cbaa38bc-fc4a-48e0-8180-a05f2e2502b9\",                        [{\"mode\":\"lines+markers\",\"name\":\"89002\",\"x\":[\"2018\",\"2019\",\"2020\",\"2021\",\"2022\"],\"y\":[79966.0,82778.0,83700.0,88425.0,95346.0],\"type\":\"scatter\"},{\"mode\":\"lines+markers\",\"name\":\"89011\",\"x\":[\"2018\",\"2019\",\"2020\",\"2021\",\"2022\"],\"y\":[64981.0,70129.0,77100.0,81736.0,85009.0],\"type\":\"scatter\"},{\"mode\":\"lines+markers\",\"name\":\"89012\",\"x\":[\"2018\",\"2019\",\"2020\",\"2021\",\"2022\"],\"y\":[74170.0,81992.0,79727.0,81896.0,89177.0],\"type\":\"scatter\"},{\"mode\":\"lines+markers\",\"name\":\"89014\",\"x\":[\"2018\",\"2019\",\"2020\",\"2021\",\"2022\"],\"y\":[58369.0,61194.0,61752.0,65719.0,69848.0],\"type\":\"scatter\"},{\"mode\":\"lines+markers\",\"name\":\"89015\",\"x\":[\"2018\",\"2019\",\"2020\",\"2021\",\"2022\"],\"y\":[55164.0,56569.0,57049.0,60301.0,66195.0],\"type\":\"scatter\"},{\"mode\":\"lines+markers\",\"name\":\"89030\",\"x\":[\"2018\",\"2019\",\"2020\",\"2021\",\"2022\"],\"y\":[35028.0,36275.0,36993.0,41049.0,42794.0],\"type\":\"scatter\"},{\"mode\":\"lines+markers\",\"name\":\"89032\",\"x\":[\"2018\",\"2019\",\"2020\",\"2021\",\"2022\"],\"y\":[59427.0,60294.0,60995.0,64659.0,71262.0],\"type\":\"scatter\"},{\"mode\":\"lines+markers\",\"name\":\"89044\",\"x\":[\"2018\",\"2019\",\"2020\",\"2021\",\"2022\"],\"y\":[82144.0,89012.0,97917.0,99987.0,107255.0],\"type\":\"scatter\"},{\"mode\":\"lines+markers\",\"name\":\"89052\",\"x\":[\"2018\",\"2019\",\"2020\",\"2021\",\"2022\"],\"y\":[80984.0,85021.0,86589.0,90064.0,96944.0],\"type\":\"scatter\"},{\"mode\":\"lines+markers\",\"name\":\"89074\",\"x\":[\"2018\",\"2019\",\"2020\",\"2021\",\"2022\"],\"y\":[71805.0,76422.0,77935.0,81799.0,86015.0],\"type\":\"scatter\"},{\"mode\":\"lines+markers\",\"name\":\"89081\",\"x\":[\"2018\",\"2019\",\"2020\",\"2021\",\"2022\"],\"y\":[65322.0,68787.0,71206.0,74297.0,87378.0],\"type\":\"scatter\"},{\"mode\":\"lines+markers\",\"name\":\"89084\",\"x\":[\"2018\",\"2019\",\"2020\",\"2021\",\"2022\"],\"y\":[75571.0,80921.0,79766.0,86311.0,93575.0],\"type\":\"scatter\"},{\"mode\":\"lines+markers\",\"name\":\"89085\",\"x\":[\"2018\",\"2019\",\"2020\",\"2021\",\"2022\"],\"y\":[121609.0,120194.0,98713.0,110863.0,111577.0],\"type\":\"scatter\"},{\"mode\":\"lines+markers\",\"name\":\"89086\",\"x\":[\"2018\",\"2019\",\"2020\",\"2021\",\"2022\"],\"y\":[58577.0,61741.0,49046.0,52103.0,56927.0],\"type\":\"scatter\"},{\"mode\":\"lines+markers\",\"name\":\"89102\",\"x\":[\"2018\",\"2019\",\"2020\",\"2021\",\"2022\"],\"y\":[35627.0,36729.0,38122.0,40565.0,45724.0],\"type\":\"scatter\"},{\"mode\":\"lines+markers\",\"name\":\"89103\",\"x\":[\"2018\",\"2019\",\"2020\",\"2021\",\"2022\"],\"y\":[40261.0,42537.0,42833.0,43401.0,46139.0],\"type\":\"scatter\"},{\"mode\":\"lines+markers\",\"name\":\"89104\",\"x\":[\"2018\",\"2019\",\"2020\",\"2021\",\"2022\"],\"y\":[35484.0,36448.0,38939.0,42583.0,48355.0],\"type\":\"scatter\"},{\"mode\":\"lines+markers\",\"name\":\"89107\",\"x\":[\"2018\",\"2019\",\"2020\",\"2021\",\"2022\"],\"y\":[40605.0,44234.0,42728.0,43569.0,50876.0],\"type\":\"scatter\"},{\"mode\":\"lines+markers\",\"name\":\"89108\",\"x\":[\"2018\",\"2019\",\"2020\",\"2021\",\"2022\"],\"y\":[46759.0,46165.0,49351.0,51161.0,55935.0],\"type\":\"scatter\"},{\"mode\":\"lines+markers\",\"name\":\"89109\",\"x\":[\"2018\",\"2019\",\"2020\",\"2021\",\"2022\"],\"y\":[43206.0,42837.0,44890.0,39680.0,49818.0],\"type\":\"scatter\"},{\"mode\":\"lines+markers\",\"name\":\"89113\",\"x\":[\"2018\",\"2019\",\"2020\",\"2021\",\"2022\"],\"y\":[72212.0,72479.0,76961.0,78636.0,85504.0],\"type\":\"scatter\"},{\"mode\":\"lines+markers\",\"name\":\"89115\",\"x\":[\"2018\",\"2019\",\"2020\",\"2021\",\"2022\"],\"y\":[36050.0,39412.0,41268.0,43114.0,47189.0],\"type\":\"scatter\"},{\"mode\":\"lines+markers\",\"name\":\"89117\",\"x\":[\"2018\",\"2019\",\"2020\",\"2021\",\"2022\"],\"y\":[57954.0,58608.0,60637.0,62059.0,68206.0],\"type\":\"scatter\"},{\"mode\":\"lines+markers\",\"name\":\"89118\",\"x\":[\"2018\",\"2019\",\"2020\",\"2021\",\"2022\"],\"y\":[55444.0,57859.0,59911.0,64779.0,65929.0],\"type\":\"scatter\"},{\"mode\":\"lines+markers\",\"name\":\"89119\",\"x\":[\"2018\",\"2019\",\"2020\",\"2021\",\"2022\"],\"y\":[34312.0,35705.0,38659.0,41298.0,44939.0],\"type\":\"scatter\"},{\"mode\":\"lines+markers\",\"name\":\"89120\",\"x\":[\"2018\",\"2019\",\"2020\",\"2021\",\"2022\"],\"y\":[49267.0,51347.0,57365.0,58675.0,68934.0],\"type\":\"scatter\"},{\"mode\":\"lines+markers\",\"name\":\"89121\",\"x\":[\"2018\",\"2019\",\"2020\",\"2021\",\"2022\"],\"y\":[39528.0,42530.0,43160.0,46004.0,50757.0],\"type\":\"scatter\"},{\"mode\":\"lines+markers\",\"name\":\"89122\",\"x\":[\"2018\",\"2019\",\"2020\",\"2021\",\"2022\"],\"y\":[45708.0,46448.0,47950.0,49463.0,55216.0],\"type\":\"scatter\"},{\"mode\":\"lines+markers\",\"name\":\"89123\",\"x\":[\"2018\",\"2019\",\"2020\",\"2021\",\"2022\"],\"y\":[66710.0,68691.0,71905.0,74538.0,78195.0],\"type\":\"scatter\"},{\"mode\":\"lines+markers\",\"name\":\"89128\",\"x\":[\"2018\",\"2019\",\"2020\",\"2021\",\"2022\"],\"y\":[58575.0,57456.0,59045.0,63657.0,66534.0],\"type\":\"scatter\"},{\"mode\":\"lines+markers\",\"name\":\"89129\",\"x\":[\"2018\",\"2019\",\"2020\",\"2021\",\"2022\"],\"y\":[71464.0,75719.0,79275.0,82439.0,87620.0],\"type\":\"scatter\"},{\"mode\":\"lines+markers\",\"name\":\"89130\",\"x\":[\"2018\",\"2019\",\"2020\",\"2021\",\"2022\"],\"y\":[64480.0,68764.0,72308.0,78518.0,81584.0],\"type\":\"scatter\"},{\"mode\":\"lines+markers\",\"name\":\"89131\",\"x\":[\"2018\",\"2019\",\"2020\",\"2021\",\"2022\"],\"y\":[93337.0,99145.0,100838.0,104688.0,109956.0],\"type\":\"scatter\"},{\"mode\":\"lines+markers\",\"name\":\"89134\",\"x\":[\"2018\",\"2019\",\"2020\",\"2021\",\"2022\"],\"y\":[66904.0,69461.0,67184.0,70335.0,76500.0],\"type\":\"scatter\"},{\"mode\":\"lines+markers\",\"name\":\"89135\",\"x\":[\"2018\",\"2019\",\"2020\",\"2021\",\"2022\"],\"y\":[89046.0,94821.0,100022.0,105087.0,113377.0],\"type\":\"scatter\"},{\"mode\":\"lines+markers\",\"name\":\"89138\",\"x\":[\"2018\",\"2019\",\"2020\",\"2021\",\"2022\"],\"y\":[112972.0,120759.0,122054.0,140362.0,157170.0],\"type\":\"scatter\"},{\"mode\":\"lines+markers\",\"name\":\"89139\",\"x\":[\"2018\",\"2019\",\"2020\",\"2021\",\"2022\"],\"y\":[75022.0,79197.0,79496.0,85248.0,93003.0],\"type\":\"scatter\"},{\"mode\":\"lines+markers\",\"name\":\"89141\",\"x\":[\"2018\",\"2019\",\"2020\",\"2021\",\"2022\"],\"y\":[88242.0,89649.0,90342.0,98454.0,105993.0],\"type\":\"scatter\"},{\"mode\":\"lines+markers\",\"name\":\"89142\",\"x\":[\"2018\",\"2019\",\"2020\",\"2021\",\"2022\"],\"y\":[48994.0,49180.0,51388.0,53658.0,60245.0],\"type\":\"scatter\"},{\"mode\":\"lines+markers\",\"name\":\"89143\",\"x\":[\"2018\",\"2019\",\"2020\",\"2021\",\"2022\"],\"y\":[83650.0,85455.0,84385.0,86393.0,92575.0],\"type\":\"scatter\"},{\"mode\":\"lines+markers\",\"name\":\"89144\",\"x\":[\"2018\",\"2019\",\"2020\",\"2021\",\"2022\"],\"y\":[86780.0,88750.0,92526.0,93078.0,101000.0],\"type\":\"scatter\"},{\"mode\":\"lines+markers\",\"name\":\"89145\",\"x\":[\"2018\",\"2019\",\"2020\",\"2021\",\"2022\"],\"y\":[57822.0,59549.0,66431.0,66612.0,67308.0],\"type\":\"scatter\"},{\"mode\":\"lines+markers\",\"name\":\"89146\",\"x\":[\"2018\",\"2019\",\"2020\",\"2021\",\"2022\"],\"y\":[48291.0,48210.0,50259.0,51438.0,57581.0],\"type\":\"scatter\"},{\"mode\":\"lines+markers\",\"name\":\"89147\",\"x\":[\"2018\",\"2019\",\"2020\",\"2021\",\"2022\"],\"y\":[54722.0,58964.0,61186.0,63086.0,68251.0],\"type\":\"scatter\"},{\"mode\":\"lines+markers\",\"name\":\"89148\",\"x\":[\"2018\",\"2019\",\"2020\",\"2021\",\"2022\"],\"y\":[73486.0,76359.0,78352.0,83224.0,92362.0],\"type\":\"scatter\"},{\"mode\":\"lines+markers\",\"name\":\"89149\",\"x\":[\"2018\",\"2019\",\"2020\",\"2021\",\"2022\"],\"y\":[72318.0,73883.0,77957.0,88059.0,96454.0],\"type\":\"scatter\"},{\"mode\":\"lines+markers\",\"name\":\"89156\",\"x\":[\"2018\",\"2019\",\"2020\",\"2021\",\"2022\"],\"y\":[47641.0,48920.0,52323.0,56315.0,61856.0],\"type\":\"scatter\"},{\"mode\":\"lines+markers\",\"name\":\"89158\",\"x\":[\"2018\",\"2019\",\"2020\",\"2021\",\"2022\"],\"y\":[29414.0,30581.0,32114.0,117500.0,110039.0],\"type\":\"scatter\"},{\"mode\":\"lines+markers\",\"name\":\"89169\",\"x\":[\"2018\",\"2019\",\"2020\",\"2021\",\"2022\"],\"y\":[82554.0,88517.0,90801.0,32050.0,37200.0],\"type\":\"scatter\"},{\"mode\":\"lines+markers\",\"name\":\"89178\",\"x\":[\"2018\",\"2019\",\"2020\",\"2021\",\"2022\"],\"y\":[92634.0,99662.0,96460.0,92471.0,101256.0],\"type\":\"scatter\"},{\"mode\":\"lines+markers\",\"name\":\"89179\",\"x\":[\"2018\",\"2019\",\"2020\",\"2021\",\"2022\"],\"y\":[65491.0,65988.0,65943.0,100840.0,110356.0],\"type\":\"scatter\"},{\"mode\":\"lines+markers\",\"name\":\"89183\",\"x\":[\"2018\",\"2019\",\"2020\",\"2021\",\"2022\"],\"y\":[null,null,null,69125.0,76488.0],\"type\":\"scatter\"}],                        {\"template\":{\"data\":{\"histogram2dcontour\":[{\"type\":\"histogram2dcontour\",\"colorbar\":{\"outlinewidth\":0,\"ticks\":\"\"},\"colorscale\":[[0.0,\"#0d0887\"],[0.1111111111111111,\"#46039f\"],[0.2222222222222222,\"#7201a8\"],[0.3333333333333333,\"#9c179e\"],[0.4444444444444444,\"#bd3786\"],[0.5555555555555556,\"#d8576b\"],[0.6666666666666666,\"#ed7953\"],[0.7777777777777778,\"#fb9f3a\"],[0.8888888888888888,\"#fdca26\"],[1.0,\"#f0f921\"]]}],\"choropleth\":[{\"type\":\"choropleth\",\"colorbar\":{\"outlinewidth\":0,\"ticks\":\"\"}}],\"histogram2d\":[{\"type\":\"histogram2d\",\"colorbar\":{\"outlinewidth\":0,\"ticks\":\"\"},\"colorscale\":[[0.0,\"#0d0887\"],[0.1111111111111111,\"#46039f\"],[0.2222222222222222,\"#7201a8\"],[0.3333333333333333,\"#9c179e\"],[0.4444444444444444,\"#bd3786\"],[0.5555555555555556,\"#d8576b\"],[0.6666666666666666,\"#ed7953\"],[0.7777777777777778,\"#fb9f3a\"],[0.8888888888888888,\"#fdca26\"],[1.0,\"#f0f921\"]]}],\"heatmap\":[{\"type\":\"heatmap\",\"colorbar\":{\"outlinewidth\":0,\"ticks\":\"\"},\"colorscale\":[[0.0,\"#0d0887\"],[0.1111111111111111,\"#46039f\"],[0.2222222222222222,\"#7201a8\"],[0.3333333333333333,\"#9c179e\"],[0.4444444444444444,\"#bd3786\"],[0.5555555555555556,\"#d8576b\"],[0.6666666666666666,\"#ed7953\"],[0.7777777777777778,\"#fb9f3a\"],[0.8888888888888888,\"#fdca26\"],[1.0,\"#f0f921\"]]}],\"heatmapgl\":[{\"type\":\"heatmapgl\",\"colorbar\":{\"outlinewidth\":0,\"ticks\":\"\"},\"colorscale\":[[0.0,\"#0d0887\"],[0.1111111111111111,\"#46039f\"],[0.2222222222222222,\"#7201a8\"],[0.3333333333333333,\"#9c179e\"],[0.4444444444444444,\"#bd3786\"],[0.5555555555555556,\"#d8576b\"],[0.6666666666666666,\"#ed7953\"],[0.7777777777777778,\"#fb9f3a\"],[0.8888888888888888,\"#fdca26\"],[1.0,\"#f0f921\"]]}],\"contourcarpet\":[{\"type\":\"contourcarpet\",\"colorbar\":{\"outlinewidth\":0,\"ticks\":\"\"}}],\"contour\":[{\"type\":\"contour\",\"colorbar\":{\"outlinewidth\":0,\"ticks\":\"\"},\"colorscale\":[[0.0,\"#0d0887\"],[0.1111111111111111,\"#46039f\"],[0.2222222222222222,\"#7201a8\"],[0.3333333333333333,\"#9c179e\"],[0.4444444444444444,\"#bd3786\"],[0.5555555555555556,\"#d8576b\"],[0.6666666666666666,\"#ed7953\"],[0.7777777777777778,\"#fb9f3a\"],[0.8888888888888888,\"#fdca26\"],[1.0,\"#f0f921\"]]}],\"surface\":[{\"type\":\"surface\",\"colorbar\":{\"outlinewidth\":0,\"ticks\":\"\"},\"colorscale\":[[0.0,\"#0d0887\"],[0.1111111111111111,\"#46039f\"],[0.2222222222222222,\"#7201a8\"],[0.3333333333333333,\"#9c179e\"],[0.4444444444444444,\"#bd3786\"],[0.5555555555555556,\"#d8576b\"],[0.6666666666666666,\"#ed7953\"],[0.7777777777777778,\"#fb9f3a\"],[0.8888888888888888,\"#fdca26\"],[1.0,\"#f0f921\"]]}],\"mesh3d\":[{\"type\":\"mesh3d\",\"colorbar\":{\"outlinewidth\":0,\"ticks\":\"\"}}],\"scatter\":[{\"fillpattern\":{\"fillmode\":\"overlay\",\"size\":10,\"solidity\":0.2},\"type\":\"scatter\"}],\"parcoords\":[{\"type\":\"parcoords\",\"line\":{\"colorbar\":{\"outlinewidth\":0,\"ticks\":\"\"}}}],\"scatterpolargl\":[{\"type\":\"scatterpolargl\",\"marker\":{\"colorbar\":{\"outlinewidth\":0,\"ticks\":\"\"}}}],\"bar\":[{\"error_x\":{\"color\":\"#2a3f5f\"},\"error_y\":{\"color\":\"#2a3f5f\"},\"marker\":{\"line\":{\"color\":\"#E5ECF6\",\"width\":0.5},\"pattern\":{\"fillmode\":\"overlay\",\"size\":10,\"solidity\":0.2}},\"type\":\"bar\"}],\"scattergeo\":[{\"type\":\"scattergeo\",\"marker\":{\"colorbar\":{\"outlinewidth\":0,\"ticks\":\"\"}}}],\"scatterpolar\":[{\"type\":\"scatterpolar\",\"marker\":{\"colorbar\":{\"outlinewidth\":0,\"ticks\":\"\"}}}],\"histogram\":[{\"marker\":{\"pattern\":{\"fillmode\":\"overlay\",\"size\":10,\"solidity\":0.2}},\"type\":\"histogram\"}],\"scattergl\":[{\"type\":\"scattergl\",\"marker\":{\"colorbar\":{\"outlinewidth\":0,\"ticks\":\"\"}}}],\"scatter3d\":[{\"type\":\"scatter3d\",\"line\":{\"colorbar\":{\"outlinewidth\":0,\"ticks\":\"\"}},\"marker\":{\"colorbar\":{\"outlinewidth\":0,\"ticks\":\"\"}}}],\"scattermapbox\":[{\"type\":\"scattermapbox\",\"marker\":{\"colorbar\":{\"outlinewidth\":0,\"ticks\":\"\"}}}],\"scatterternary\":[{\"type\":\"scatterternary\",\"marker\":{\"colorbar\":{\"outlinewidth\":0,\"ticks\":\"\"}}}],\"scattercarpet\":[{\"type\":\"scattercarpet\",\"marker\":{\"colorbar\":{\"outlinewidth\":0,\"ticks\":\"\"}}}],\"carpet\":[{\"aaxis\":{\"endlinecolor\":\"#2a3f5f\",\"gridcolor\":\"white\",\"linecolor\":\"white\",\"minorgridcolor\":\"white\",\"startlinecolor\":\"#2a3f5f\"},\"baxis\":{\"endlinecolor\":\"#2a3f5f\",\"gridcolor\":\"white\",\"linecolor\":\"white\",\"minorgridcolor\":\"white\",\"startlinecolor\":\"#2a3f5f\"},\"type\":\"carpet\"}],\"table\":[{\"cells\":{\"fill\":{\"color\":\"#EBF0F8\"},\"line\":{\"color\":\"white\"}},\"header\":{\"fill\":{\"color\":\"#C8D4E3\"},\"line\":{\"color\":\"white\"}},\"type\":\"table\"}],\"barpolar\":[{\"marker\":{\"line\":{\"color\":\"#E5ECF6\",\"width\":0.5},\"pattern\":{\"fillmode\":\"overlay\",\"size\":10,\"solidity\":0.2}},\"type\":\"barpolar\"}],\"pie\":[{\"automargin\":true,\"type\":\"pie\"}]},\"layout\":{\"autotypenumbers\":\"strict\",\"colorway\":[\"#636efa\",\"#EF553B\",\"#00cc96\",\"#ab63fa\",\"#FFA15A\",\"#19d3f3\",\"#FF6692\",\"#B6E880\",\"#FF97FF\",\"#FECB52\"],\"font\":{\"color\":\"#2a3f5f\"},\"hovermode\":\"closest\",\"hoverlabel\":{\"align\":\"left\"},\"paper_bgcolor\":\"white\",\"plot_bgcolor\":\"#E5ECF6\",\"polar\":{\"bgcolor\":\"#E5ECF6\",\"angularaxis\":{\"gridcolor\":\"white\",\"linecolor\":\"white\",\"ticks\":\"\"},\"radialaxis\":{\"gridcolor\":\"white\",\"linecolor\":\"white\",\"ticks\":\"\"}},\"ternary\":{\"bgcolor\":\"#E5ECF6\",\"aaxis\":{\"gridcolor\":\"white\",\"linecolor\":\"white\",\"ticks\":\"\"},\"baxis\":{\"gridcolor\":\"white\",\"linecolor\":\"white\",\"ticks\":\"\"},\"caxis\":{\"gridcolor\":\"white\",\"linecolor\":\"white\",\"ticks\":\"\"}},\"coloraxis\":{\"colorbar\":{\"outlinewidth\":0,\"ticks\":\"\"}},\"colorscale\":{\"sequential\":[[0.0,\"#0d0887\"],[0.1111111111111111,\"#46039f\"],[0.2222222222222222,\"#7201a8\"],[0.3333333333333333,\"#9c179e\"],[0.4444444444444444,\"#bd3786\"],[0.5555555555555556,\"#d8576b\"],[0.6666666666666666,\"#ed7953\"],[0.7777777777777778,\"#fb9f3a\"],[0.8888888888888888,\"#fdca26\"],[1.0,\"#f0f921\"]],\"sequentialminus\":[[0.0,\"#0d0887\"],[0.1111111111111111,\"#46039f\"],[0.2222222222222222,\"#7201a8\"],[0.3333333333333333,\"#9c179e\"],[0.4444444444444444,\"#bd3786\"],[0.5555555555555556,\"#d8576b\"],[0.6666666666666666,\"#ed7953\"],[0.7777777777777778,\"#fb9f3a\"],[0.8888888888888888,\"#fdca26\"],[1.0,\"#f0f921\"]],\"diverging\":[[0,\"#8e0152\"],[0.1,\"#c51b7d\"],[0.2,\"#de77ae\"],[0.3,\"#f1b6da\"],[0.4,\"#fde0ef\"],[0.5,\"#f7f7f7\"],[0.6,\"#e6f5d0\"],[0.7,\"#b8e186\"],[0.8,\"#7fbc41\"],[0.9,\"#4d9221\"],[1,\"#276419\"]]},\"xaxis\":{\"gridcolor\":\"white\",\"linecolor\":\"white\",\"ticks\":\"\",\"title\":{\"standoff\":15},\"zerolinecolor\":\"white\",\"automargin\":true,\"zerolinewidth\":2},\"yaxis\":{\"gridcolor\":\"white\",\"linecolor\":\"white\",\"ticks\":\"\",\"title\":{\"standoff\":15},\"zerolinecolor\":\"white\",\"automargin\":true,\"zerolinewidth\":2},\"scene\":{\"xaxis\":{\"backgroundcolor\":\"#E5ECF6\",\"gridcolor\":\"white\",\"linecolor\":\"white\",\"showbackground\":true,\"ticks\":\"\",\"zerolinecolor\":\"white\",\"gridwidth\":2},\"yaxis\":{\"backgroundcolor\":\"#E5ECF6\",\"gridcolor\":\"white\",\"linecolor\":\"white\",\"showbackground\":true,\"ticks\":\"\",\"zerolinecolor\":\"white\",\"gridwidth\":2},\"zaxis\":{\"backgroundcolor\":\"#E5ECF6\",\"gridcolor\":\"white\",\"linecolor\":\"white\",\"showbackground\":true,\"ticks\":\"\",\"zerolinecolor\":\"white\",\"gridwidth\":2}},\"shapedefaults\":{\"line\":{\"color\":\"#2a3f5f\"}},\"annotationdefaults\":{\"arrowcolor\":\"#2a3f5f\",\"arrowhead\":0,\"arrowwidth\":1},\"geo\":{\"bgcolor\":\"white\",\"landcolor\":\"#E5ECF6\",\"subunitcolor\":\"white\",\"showland\":true,\"showlakes\":true,\"lakecolor\":\"white\"},\"title\":{\"x\":0.05},\"mapbox\":{\"style\":\"light\"}}},\"title\":{\"text\":\"Median Income by Zip Code in Las Vegas Over Years\"},\"xaxis\":{\"title\":{\"text\":\"Year\"}},\"yaxis\":{\"title\":{\"text\":\"Median Income (USD)\"}},\"legend\":{\"title\":{\"text\":\"Zip Code\"}},\"updatemenus\":[{\"buttons\":[{\"args\":[{\"visible\":[true,true,true,true,true,true,true,true,true,true,true,true,true,true,true,true,true,true,true,true,true,true,true,true,true,true,true,true,true,true,true,true,true,true,true,true,true,true,true,true,true,true,true,true,true,true,true,true,true,true,true,true]},{\"title\":\"Median Income by Zip Code in Las Vegas Over Years\"}],\"label\":\"All\",\"method\":\"update\"},{\"args\":[{\"visible\":[true,false,false,false,false,false,false,false,false,false,false,false,false,false,false,false,false,false,false,false,false,false,false,false,false,false,false,false,false,false,false,false,false,false,false,false,false,false,false,false,false,false,false,false,false,false,false,false,false,false,false,false]},{\"title\":\"Median Income for Zip Code 89002\"}],\"label\":\"89002\",\"method\":\"update\"},{\"args\":[{\"visible\":[false,true,false,false,false,false,false,false,false,false,false,false,false,false,false,false,false,false,false,false,false,false,false,false,false,false,false,false,false,false,false,false,false,false,false,false,false,false,false,false,false,false,false,false,false,false,false,false,false,false,false,false]},{\"title\":\"Median Income for Zip Code 89011\"}],\"label\":\"89011\",\"method\":\"update\"},{\"args\":[{\"visible\":[false,false,true,false,false,false,false,false,false,false,false,false,false,false,false,false,false,false,false,false,false,false,false,false,false,false,false,false,false,false,false,false,false,false,false,false,false,false,false,false,false,false,false,false,false,false,false,false,false,false,false,false]},{\"title\":\"Median Income for Zip Code 89012\"}],\"label\":\"89012\",\"method\":\"update\"},{\"args\":[{\"visible\":[false,false,false,true,false,false,false,false,false,false,false,false,false,false,false,false,false,false,false,false,false,false,false,false,false,false,false,false,false,false,false,false,false,false,false,false,false,false,false,false,false,false,false,false,false,false,false,false,false,false,false,false]},{\"title\":\"Median Income for Zip Code 89014\"}],\"label\":\"89014\",\"method\":\"update\"},{\"args\":[{\"visible\":[false,false,false,false,true,false,false,false,false,false,false,false,false,false,false,false,false,false,false,false,false,false,false,false,false,false,false,false,false,false,false,false,false,false,false,false,false,false,false,false,false,false,false,false,false,false,false,false,false,false,false,false]},{\"title\":\"Median Income for Zip Code 89015\"}],\"label\":\"89015\",\"method\":\"update\"},{\"args\":[{\"visible\":[false,false,false,false,false,true,false,false,false,false,false,false,false,false,false,false,false,false,false,false,false,false,false,false,false,false,false,false,false,false,false,false,false,false,false,false,false,false,false,false,false,false,false,false,false,false,false,false,false,false,false,false]},{\"title\":\"Median Income for Zip Code 89030\"}],\"label\":\"89030\",\"method\":\"update\"},{\"args\":[{\"visible\":[false,false,false,false,false,false,true,false,false,false,false,false,false,false,false,false,false,false,false,false,false,false,false,false,false,false,false,false,false,false,false,false,false,false,false,false,false,false,false,false,false,false,false,false,false,false,false,false,false,false,false,false]},{\"title\":\"Median Income for Zip Code 89032\"}],\"label\":\"89032\",\"method\":\"update\"},{\"args\":[{\"visible\":[false,false,false,false,false,false,false,true,false,false,false,false,false,false,false,false,false,false,false,false,false,false,false,false,false,false,false,false,false,false,false,false,false,false,false,false,false,false,false,false,false,false,false,false,false,false,false,false,false,false,false,false]},{\"title\":\"Median Income for Zip Code 89044\"}],\"label\":\"89044\",\"method\":\"update\"},{\"args\":[{\"visible\":[false,false,false,false,false,false,false,false,true,false,false,false,false,false,false,false,false,false,false,false,false,false,false,false,false,false,false,false,false,false,false,false,false,false,false,false,false,false,false,false,false,false,false,false,false,false,false,false,false,false,false,false]},{\"title\":\"Median Income for Zip Code 89052\"}],\"label\":\"89052\",\"method\":\"update\"},{\"args\":[{\"visible\":[false,false,false,false,false,false,false,false,false,true,false,false,false,false,false,false,false,false,false,false,false,false,false,false,false,false,false,false,false,false,false,false,false,false,false,false,false,false,false,false,false,false,false,false,false,false,false,false,false,false,false,false]},{\"title\":\"Median Income for Zip Code 89074\"}],\"label\":\"89074\",\"method\":\"update\"},{\"args\":[{\"visible\":[false,false,false,false,false,false,false,false,false,false,true,false,false,false,false,false,false,false,false,false,false,false,false,false,false,false,false,false,false,false,false,false,false,false,false,false,false,false,false,false,false,false,false,false,false,false,false,false,false,false,false,false]},{\"title\":\"Median Income for Zip Code 89081\"}],\"label\":\"89081\",\"method\":\"update\"},{\"args\":[{\"visible\":[false,false,false,false,false,false,false,false,false,false,false,true,false,false,false,false,false,false,false,false,false,false,false,false,false,false,false,false,false,false,false,false,false,false,false,false,false,false,false,false,false,false,false,false,false,false,false,false,false,false,false,false]},{\"title\":\"Median Income for Zip Code 89084\"}],\"label\":\"89084\",\"method\":\"update\"},{\"args\":[{\"visible\":[false,false,false,false,false,false,false,false,false,false,false,false,true,false,false,false,false,false,false,false,false,false,false,false,false,false,false,false,false,false,false,false,false,false,false,false,false,false,false,false,false,false,false,false,false,false,false,false,false,false,false,false]},{\"title\":\"Median Income for Zip Code 89085\"}],\"label\":\"89085\",\"method\":\"update\"},{\"args\":[{\"visible\":[false,false,false,false,false,false,false,false,false,false,false,false,false,true,false,false,false,false,false,false,false,false,false,false,false,false,false,false,false,false,false,false,false,false,false,false,false,false,false,false,false,false,false,false,false,false,false,false,false,false,false,false]},{\"title\":\"Median Income for Zip Code 89086\"}],\"label\":\"89086\",\"method\":\"update\"},{\"args\":[{\"visible\":[false,false,false,false,false,false,false,false,false,false,false,false,false,false,true,false,false,false,false,false,false,false,false,false,false,false,false,false,false,false,false,false,false,false,false,false,false,false,false,false,false,false,false,false,false,false,false,false,false,false,false,false]},{\"title\":\"Median Income for Zip Code 89102\"}],\"label\":\"89102\",\"method\":\"update\"},{\"args\":[{\"visible\":[false,false,false,false,false,false,false,false,false,false,false,false,false,false,false,true,false,false,false,false,false,false,false,false,false,false,false,false,false,false,false,false,false,false,false,false,false,false,false,false,false,false,false,false,false,false,false,false,false,false,false,false]},{\"title\":\"Median Income for Zip Code 89103\"}],\"label\":\"89103\",\"method\":\"update\"},{\"args\":[{\"visible\":[false,false,false,false,false,false,false,false,false,false,false,false,false,false,false,false,true,false,false,false,false,false,false,false,false,false,false,false,false,false,false,false,false,false,false,false,false,false,false,false,false,false,false,false,false,false,false,false,false,false,false,false]},{\"title\":\"Median Income for Zip Code 89104\"}],\"label\":\"89104\",\"method\":\"update\"},{\"args\":[{\"visible\":[false,false,false,false,false,false,false,false,false,false,false,false,false,false,false,false,false,true,false,false,false,false,false,false,false,false,false,false,false,false,false,false,false,false,false,false,false,false,false,false,false,false,false,false,false,false,false,false,false,false,false,false]},{\"title\":\"Median Income for Zip Code 89107\"}],\"label\":\"89107\",\"method\":\"update\"},{\"args\":[{\"visible\":[false,false,false,false,false,false,false,false,false,false,false,false,false,false,false,false,false,false,true,false,false,false,false,false,false,false,false,false,false,false,false,false,false,false,false,false,false,false,false,false,false,false,false,false,false,false,false,false,false,false,false,false]},{\"title\":\"Median Income for Zip Code 89108\"}],\"label\":\"89108\",\"method\":\"update\"},{\"args\":[{\"visible\":[false,false,false,false,false,false,false,false,false,false,false,false,false,false,false,false,false,false,false,true,false,false,false,false,false,false,false,false,false,false,false,false,false,false,false,false,false,false,false,false,false,false,false,false,false,false,false,false,false,false,false,false]},{\"title\":\"Median Income for Zip Code 89109\"}],\"label\":\"89109\",\"method\":\"update\"},{\"args\":[{\"visible\":[false,false,false,false,false,false,false,false,false,false,false,false,false,false,false,false,false,false,false,false,true,false,false,false,false,false,false,false,false,false,false,false,false,false,false,false,false,false,false,false,false,false,false,false,false,false,false,false,false,false,false,false]},{\"title\":\"Median Income for Zip Code 89113\"}],\"label\":\"89113\",\"method\":\"update\"},{\"args\":[{\"visible\":[false,false,false,false,false,false,false,false,false,false,false,false,false,false,false,false,false,false,false,false,false,true,false,false,false,false,false,false,false,false,false,false,false,false,false,false,false,false,false,false,false,false,false,false,false,false,false,false,false,false,false,false]},{\"title\":\"Median Income for Zip Code 89115\"}],\"label\":\"89115\",\"method\":\"update\"},{\"args\":[{\"visible\":[false,false,false,false,false,false,false,false,false,false,false,false,false,false,false,false,false,false,false,false,false,false,true,false,false,false,false,false,false,false,false,false,false,false,false,false,false,false,false,false,false,false,false,false,false,false,false,false,false,false,false,false]},{\"title\":\"Median Income for Zip Code 89117\"}],\"label\":\"89117\",\"method\":\"update\"},{\"args\":[{\"visible\":[false,false,false,false,false,false,false,false,false,false,false,false,false,false,false,false,false,false,false,false,false,false,false,true,false,false,false,false,false,false,false,false,false,false,false,false,false,false,false,false,false,false,false,false,false,false,false,false,false,false,false,false]},{\"title\":\"Median Income for Zip Code 89118\"}],\"label\":\"89118\",\"method\":\"update\"},{\"args\":[{\"visible\":[false,false,false,false,false,false,false,false,false,false,false,false,false,false,false,false,false,false,false,false,false,false,false,false,true,false,false,false,false,false,false,false,false,false,false,false,false,false,false,false,false,false,false,false,false,false,false,false,false,false,false,false]},{\"title\":\"Median Income for Zip Code 89119\"}],\"label\":\"89119\",\"method\":\"update\"},{\"args\":[{\"visible\":[false,false,false,false,false,false,false,false,false,false,false,false,false,false,false,false,false,false,false,false,false,false,false,false,false,true,false,false,false,false,false,false,false,false,false,false,false,false,false,false,false,false,false,false,false,false,false,false,false,false,false,false]},{\"title\":\"Median Income for Zip Code 89120\"}],\"label\":\"89120\",\"method\":\"update\"},{\"args\":[{\"visible\":[false,false,false,false,false,false,false,false,false,false,false,false,false,false,false,false,false,false,false,false,false,false,false,false,false,false,true,false,false,false,false,false,false,false,false,false,false,false,false,false,false,false,false,false,false,false,false,false,false,false,false,false]},{\"title\":\"Median Income for Zip Code 89121\"}],\"label\":\"89121\",\"method\":\"update\"},{\"args\":[{\"visible\":[false,false,false,false,false,false,false,false,false,false,false,false,false,false,false,false,false,false,false,false,false,false,false,false,false,false,false,true,false,false,false,false,false,false,false,false,false,false,false,false,false,false,false,false,false,false,false,false,false,false,false,false]},{\"title\":\"Median Income for Zip Code 89122\"}],\"label\":\"89122\",\"method\":\"update\"},{\"args\":[{\"visible\":[false,false,false,false,false,false,false,false,false,false,false,false,false,false,false,false,false,false,false,false,false,false,false,false,false,false,false,false,true,false,false,false,false,false,false,false,false,false,false,false,false,false,false,false,false,false,false,false,false,false,false,false]},{\"title\":\"Median Income for Zip Code 89123\"}],\"label\":\"89123\",\"method\":\"update\"},{\"args\":[{\"visible\":[false,false,false,false,false,false,false,false,false,false,false,false,false,false,false,false,false,false,false,false,false,false,false,false,false,false,false,false,false,true,false,false,false,false,false,false,false,false,false,false,false,false,false,false,false,false,false,false,false,false,false,false]},{\"title\":\"Median Income for Zip Code 89128\"}],\"label\":\"89128\",\"method\":\"update\"},{\"args\":[{\"visible\":[false,false,false,false,false,false,false,false,false,false,false,false,false,false,false,false,false,false,false,false,false,false,false,false,false,false,false,false,false,false,true,false,false,false,false,false,false,false,false,false,false,false,false,false,false,false,false,false,false,false,false,false]},{\"title\":\"Median Income for Zip Code 89129\"}],\"label\":\"89129\",\"method\":\"update\"},{\"args\":[{\"visible\":[false,false,false,false,false,false,false,false,false,false,false,false,false,false,false,false,false,false,false,false,false,false,false,false,false,false,false,false,false,false,false,true,false,false,false,false,false,false,false,false,false,false,false,false,false,false,false,false,false,false,false,false]},{\"title\":\"Median Income for Zip Code 89130\"}],\"label\":\"89130\",\"method\":\"update\"},{\"args\":[{\"visible\":[false,false,false,false,false,false,false,false,false,false,false,false,false,false,false,false,false,false,false,false,false,false,false,false,false,false,false,false,false,false,false,false,true,false,false,false,false,false,false,false,false,false,false,false,false,false,false,false,false,false,false,false]},{\"title\":\"Median Income for Zip Code 89131\"}],\"label\":\"89131\",\"method\":\"update\"},{\"args\":[{\"visible\":[false,false,false,false,false,false,false,false,false,false,false,false,false,false,false,false,false,false,false,false,false,false,false,false,false,false,false,false,false,false,false,false,false,true,false,false,false,false,false,false,false,false,false,false,false,false,false,false,false,false,false,false]},{\"title\":\"Median Income for Zip Code 89134\"}],\"label\":\"89134\",\"method\":\"update\"},{\"args\":[{\"visible\":[false,false,false,false,false,false,false,false,false,false,false,false,false,false,false,false,false,false,false,false,false,false,false,false,false,false,false,false,false,false,false,false,false,false,true,false,false,false,false,false,false,false,false,false,false,false,false,false,false,false,false,false]},{\"title\":\"Median Income for Zip Code 89135\"}],\"label\":\"89135\",\"method\":\"update\"},{\"args\":[{\"visible\":[false,false,false,false,false,false,false,false,false,false,false,false,false,false,false,false,false,false,false,false,false,false,false,false,false,false,false,false,false,false,false,false,false,false,false,true,false,false,false,false,false,false,false,false,false,false,false,false,false,false,false,false]},{\"title\":\"Median Income for Zip Code 89138\"}],\"label\":\"89138\",\"method\":\"update\"},{\"args\":[{\"visible\":[false,false,false,false,false,false,false,false,false,false,false,false,false,false,false,false,false,false,false,false,false,false,false,false,false,false,false,false,false,false,false,false,false,false,false,false,true,false,false,false,false,false,false,false,false,false,false,false,false,false,false,false]},{\"title\":\"Median Income for Zip Code 89139\"}],\"label\":\"89139\",\"method\":\"update\"},{\"args\":[{\"visible\":[false,false,false,false,false,false,false,false,false,false,false,false,false,false,false,false,false,false,false,false,false,false,false,false,false,false,false,false,false,false,false,false,false,false,false,false,false,true,false,false,false,false,false,false,false,false,false,false,false,false,false,false]},{\"title\":\"Median Income for Zip Code 89141\"}],\"label\":\"89141\",\"method\":\"update\"},{\"args\":[{\"visible\":[false,false,false,false,false,false,false,false,false,false,false,false,false,false,false,false,false,false,false,false,false,false,false,false,false,false,false,false,false,false,false,false,false,false,false,false,false,false,true,false,false,false,false,false,false,false,false,false,false,false,false,false]},{\"title\":\"Median Income for Zip Code 89142\"}],\"label\":\"89142\",\"method\":\"update\"},{\"args\":[{\"visible\":[false,false,false,false,false,false,false,false,false,false,false,false,false,false,false,false,false,false,false,false,false,false,false,false,false,false,false,false,false,false,false,false,false,false,false,false,false,false,false,true,false,false,false,false,false,false,false,false,false,false,false,false]},{\"title\":\"Median Income for Zip Code 89143\"}],\"label\":\"89143\",\"method\":\"update\"},{\"args\":[{\"visible\":[false,false,false,false,false,false,false,false,false,false,false,false,false,false,false,false,false,false,false,false,false,false,false,false,false,false,false,false,false,false,false,false,false,false,false,false,false,false,false,false,true,false,false,false,false,false,false,false,false,false,false,false]},{\"title\":\"Median Income for Zip Code 89144\"}],\"label\":\"89144\",\"method\":\"update\"},{\"args\":[{\"visible\":[false,false,false,false,false,false,false,false,false,false,false,false,false,false,false,false,false,false,false,false,false,false,false,false,false,false,false,false,false,false,false,false,false,false,false,false,false,false,false,false,false,true,false,false,false,false,false,false,false,false,false,false]},{\"title\":\"Median Income for Zip Code 89145\"}],\"label\":\"89145\",\"method\":\"update\"},{\"args\":[{\"visible\":[false,false,false,false,false,false,false,false,false,false,false,false,false,false,false,false,false,false,false,false,false,false,false,false,false,false,false,false,false,false,false,false,false,false,false,false,false,false,false,false,false,false,true,false,false,false,false,false,false,false,false,false]},{\"title\":\"Median Income for Zip Code 89146\"}],\"label\":\"89146\",\"method\":\"update\"},{\"args\":[{\"visible\":[false,false,false,false,false,false,false,false,false,false,false,false,false,false,false,false,false,false,false,false,false,false,false,false,false,false,false,false,false,false,false,false,false,false,false,false,false,false,false,false,false,false,false,true,false,false,false,false,false,false,false,false]},{\"title\":\"Median Income for Zip Code 89147\"}],\"label\":\"89147\",\"method\":\"update\"},{\"args\":[{\"visible\":[false,false,false,false,false,false,false,false,false,false,false,false,false,false,false,false,false,false,false,false,false,false,false,false,false,false,false,false,false,false,false,false,false,false,false,false,false,false,false,false,false,false,false,false,true,false,false,false,false,false,false,false]},{\"title\":\"Median Income for Zip Code 89148\"}],\"label\":\"89148\",\"method\":\"update\"},{\"args\":[{\"visible\":[false,false,false,false,false,false,false,false,false,false,false,false,false,false,false,false,false,false,false,false,false,false,false,false,false,false,false,false,false,false,false,false,false,false,false,false,false,false,false,false,false,false,false,false,false,true,false,false,false,false,false,false]},{\"title\":\"Median Income for Zip Code 89149\"}],\"label\":\"89149\",\"method\":\"update\"},{\"args\":[{\"visible\":[false,false,false,false,false,false,false,false,false,false,false,false,false,false,false,false,false,false,false,false,false,false,false,false,false,false,false,false,false,false,false,false,false,false,false,false,false,false,false,false,false,false,false,false,false,false,true,false,false,false,false,false]},{\"title\":\"Median Income for Zip Code 89156\"}],\"label\":\"89156\",\"method\":\"update\"},{\"args\":[{\"visible\":[false,false,false,false,false,false,false,false,false,false,false,false,false,false,false,false,false,false,false,false,false,false,false,false,false,false,false,false,false,false,false,false,false,false,false,false,false,false,false,false,false,false,false,false,false,false,false,true,false,false,false,false]},{\"title\":\"Median Income for Zip Code 89158\"}],\"label\":\"89158\",\"method\":\"update\"},{\"args\":[{\"visible\":[false,false,false,false,false,false,false,false,false,false,false,false,false,false,false,false,false,false,false,false,false,false,false,false,false,false,false,false,false,false,false,false,false,false,false,false,false,false,false,false,false,false,false,false,false,false,false,false,true,false,false,false]},{\"title\":\"Median Income for Zip Code 89169\"}],\"label\":\"89169\",\"method\":\"update\"},{\"args\":[{\"visible\":[false,false,false,false,false,false,false,false,false,false,false,false,false,false,false,false,false,false,false,false,false,false,false,false,false,false,false,false,false,false,false,false,false,false,false,false,false,false,false,false,false,false,false,false,false,false,false,false,false,true,false,false]},{\"title\":\"Median Income for Zip Code 89178\"}],\"label\":\"89178\",\"method\":\"update\"},{\"args\":[{\"visible\":[false,false,false,false,false,false,false,false,false,false,false,false,false,false,false,false,false,false,false,false,false,false,false,false,false,false,false,false,false,false,false,false,false,false,false,false,false,false,false,false,false,false,false,false,false,false,false,false,false,false,true,false]},{\"title\":\"Median Income for Zip Code 89179\"}],\"label\":\"89179\",\"method\":\"update\"},{\"args\":[{\"visible\":[false,false,false,false,false,false,false,false,false,false,false,false,false,false,false,false,false,false,false,false,false,false,false,false,false,false,false,false,false,false,false,false,false,false,false,false,false,false,false,false,false,false,false,false,false,false,false,false,false,false,false,true]},{\"title\":\"Median Income for Zip Code 89183\"}],\"label\":\"89183\",\"method\":\"update\"}],\"direction\":\"down\",\"pad\":{\"r\":10,\"t\":10},\"showactive\":true,\"x\":0.1,\"xanchor\":\"left\",\"y\":1.15,\"yanchor\":\"top\"}]},                        {\"responsive\": true}                    ).then(function(){\n",
       "                            \n",
       "var gd = document.getElementById('cbaa38bc-fc4a-48e0-8180-a05f2e2502b9');\n",
       "var x = new MutationObserver(function (mutations, observer) {{\n",
       "        var display = window.getComputedStyle(gd).display;\n",
       "        if (!display || display === 'none') {{\n",
       "            console.log([gd, 'removed!']);\n",
       "            Plotly.purge(gd);\n",
       "            observer.disconnect();\n",
       "        }}\n",
       "}});\n",
       "\n",
       "// Listen for the removal of the full notebook cells\n",
       "var notebookContainer = gd.closest('#notebook-container');\n",
       "if (notebookContainer) {{\n",
       "    x.observe(notebookContainer, {childList: true});\n",
       "}}\n",
       "\n",
       "// Listen for the clearing of the current output cell\n",
       "var outputEl = gd.closest('.output');\n",
       "if (outputEl) {{\n",
       "    x.observe(outputEl, {childList: true});\n",
       "}}\n",
       "\n",
       "                        })                };                });            </script>        </div>"
      ]
     },
     "metadata": {},
     "output_type": "display_data"
    }
   ],
   "source": [
    "import plotly.graph_objects as go\n",
    "\n",
    "# Assuming latest_long_df is your DataFrame after processing\n",
    "zip_codes = latest_long_df['Zip Code'].unique()\n",
    "fig = go.Figure()\n",
    "\n",
    "for zip_code in zip_codes:\n",
    "    df_filtered = latest_long_df[latest_long_df['Zip Code'] == zip_code]\n",
    "    fig.add_trace(go.Scatter(x=df_filtered['Year'], y=df_filtered['Median Income'],\n",
    "                             mode='lines+markers',\n",
    "                             name=str(zip_code)))\n",
    "\n",
    "fig.update_layout(\n",
    "    title='Median Income by Zip Code in Las Vegas Over Years',\n",
    "    xaxis_title='Year',\n",
    "    yaxis_title='Median Income (USD)',\n",
    "    legend_title='Zip Code',\n",
    "    updatemenus=[\n",
    "        dict(\n",
    "            buttons=list([\n",
    "                dict(label='All',\n",
    "                     method='update',\n",
    "                     args=[{'visible': [True] * len(zip_codes)},\n",
    "                           {'title': 'Median Income by Zip Code in Las Vegas Over Years'}]),\n",
    "                ] + [\n",
    "                dict(label=str(zip_code),\n",
    "                     method='update',\n",
    "                     args=[{'visible': [zc == zip_code for zc in zip_codes]},\n",
    "                           {'title': f'Median Income for Zip Code {zip_code}'}])\n",
    "                for zip_code in zip_codes\n",
    "            ]),\n",
    "            direction=\"down\",\n",
    "            pad={\"r\": 10, \"t\": 10},\n",
    "            showactive=True,\n",
    "            x=0.1,\n",
    "            xanchor=\"left\",\n",
    "            y=1.15,\n",
    "            yanchor=\"top\"\n",
    "        ),\n",
    "    ]\n",
    ")\n",
    "\n",
    "fig.show()\n"
   ]
  },
  {
   "cell_type": "code",
   "execution_count": 15,
   "id": "91ea6499",
   "metadata": {},
   "outputs": [
    {
     "data": {
      "application/vnd.plotly.v1+json": {
       "config": {
        "plotlyServerURL": "https://plot.ly"
       },
       "data": [
        {
         "customdata": [
          [
           89002
          ],
          [
           89011
          ],
          [
           89012
          ],
          [
           89014
          ],
          [
           89015
          ],
          [
           89030
          ],
          [
           89032
          ],
          [
           89044
          ],
          [
           89052
          ],
          [
           89074
          ],
          [
           89081
          ],
          [
           89084
          ],
          [
           89085
          ],
          [
           89086
          ],
          [
           89102
          ],
          [
           89103
          ],
          [
           89104
          ],
          [
           89107
          ],
          [
           89108
          ],
          [
           89109
          ],
          [
           89113
          ],
          [
           89115
          ],
          [
           89117
          ],
          [
           89118
          ],
          [
           89119
          ],
          [
           89120
          ],
          [
           89121
          ],
          [
           89122
          ],
          [
           89123
          ],
          [
           89128
          ],
          [
           89129
          ],
          [
           89130
          ],
          [
           89131
          ],
          [
           89134
          ],
          [
           89135
          ],
          [
           89138
          ],
          [
           89139
          ],
          [
           89141
          ],
          [
           89142
          ],
          [
           89143
          ],
          [
           89144
          ],
          [
           89145
          ],
          [
           89146
          ],
          [
           89147
          ],
          [
           89148
          ],
          [
           89149
          ],
          [
           89156
          ],
          [
           89158
          ],
          [
           89169
          ],
          [
           89178
          ],
          [
           89179
          ],
          [
           89183
          ],
          [
           89002
          ],
          [
           89011
          ],
          [
           89012
          ],
          [
           89014
          ],
          [
           89015
          ],
          [
           89030
          ],
          [
           89032
          ],
          [
           89044
          ],
          [
           89052
          ],
          [
           89074
          ],
          [
           89081
          ],
          [
           89084
          ],
          [
           89085
          ],
          [
           89086
          ],
          [
           89102
          ],
          [
           89103
          ],
          [
           89104
          ],
          [
           89107
          ],
          [
           89108
          ],
          [
           89109
          ],
          [
           89113
          ],
          [
           89115
          ],
          [
           89117
          ],
          [
           89118
          ],
          [
           89119
          ],
          [
           89120
          ],
          [
           89121
          ],
          [
           89122
          ],
          [
           89123
          ],
          [
           89128
          ],
          [
           89129
          ],
          [
           89130
          ],
          [
           89131
          ],
          [
           89134
          ],
          [
           89135
          ],
          [
           89138
          ],
          [
           89139
          ],
          [
           89141
          ],
          [
           89142
          ],
          [
           89143
          ],
          [
           89144
          ],
          [
           89145
          ],
          [
           89146
          ],
          [
           89147
          ],
          [
           89148
          ],
          [
           89149
          ],
          [
           89156
          ],
          [
           89158
          ],
          [
           89169
          ],
          [
           89178
          ],
          [
           89179
          ],
          [
           89183
          ],
          [
           89002
          ],
          [
           89011
          ],
          [
           89012
          ],
          [
           89014
          ],
          [
           89015
          ],
          [
           89030
          ],
          [
           89032
          ],
          [
           89044
          ],
          [
           89052
          ],
          [
           89074
          ],
          [
           89081
          ],
          [
           89084
          ],
          [
           89085
          ],
          [
           89086
          ],
          [
           89102
          ],
          [
           89103
          ],
          [
           89104
          ],
          [
           89107
          ],
          [
           89108
          ],
          [
           89109
          ],
          [
           89113
          ],
          [
           89115
          ],
          [
           89117
          ],
          [
           89118
          ],
          [
           89119
          ],
          [
           89120
          ],
          [
           89121
          ],
          [
           89122
          ],
          [
           89123
          ],
          [
           89128
          ],
          [
           89129
          ],
          [
           89130
          ],
          [
           89131
          ],
          [
           89134
          ],
          [
           89135
          ],
          [
           89138
          ],
          [
           89139
          ],
          [
           89141
          ],
          [
           89142
          ],
          [
           89143
          ],
          [
           89144
          ],
          [
           89145
          ],
          [
           89146
          ],
          [
           89147
          ],
          [
           89148
          ],
          [
           89149
          ],
          [
           89156
          ],
          [
           89158
          ],
          [
           89169
          ],
          [
           89178
          ],
          [
           89179
          ],
          [
           89183
          ],
          [
           89002
          ],
          [
           89011
          ],
          [
           89012
          ],
          [
           89014
          ],
          [
           89015
          ],
          [
           89030
          ],
          [
           89032
          ],
          [
           89044
          ],
          [
           89052
          ],
          [
           89074
          ],
          [
           89081
          ],
          [
           89084
          ],
          [
           89085
          ],
          [
           89086
          ],
          [
           89102
          ],
          [
           89103
          ],
          [
           89104
          ],
          [
           89107
          ],
          [
           89108
          ],
          [
           89109
          ],
          [
           89113
          ],
          [
           89115
          ],
          [
           89117
          ],
          [
           89118
          ],
          [
           89119
          ],
          [
           89120
          ],
          [
           89121
          ],
          [
           89122
          ],
          [
           89123
          ],
          [
           89128
          ],
          [
           89129
          ],
          [
           89130
          ],
          [
           89131
          ],
          [
           89134
          ],
          [
           89135
          ],
          [
           89138
          ],
          [
           89139
          ],
          [
           89141
          ],
          [
           89142
          ],
          [
           89143
          ],
          [
           89144
          ],
          [
           89145
          ],
          [
           89146
          ],
          [
           89147
          ],
          [
           89148
          ],
          [
           89149
          ],
          [
           89156
          ],
          [
           89158
          ],
          [
           89169
          ],
          [
           89178
          ],
          [
           89179
          ],
          [
           89183
          ],
          [
           89002
          ],
          [
           89011
          ],
          [
           89012
          ],
          [
           89014
          ],
          [
           89015
          ],
          [
           89030
          ],
          [
           89032
          ],
          [
           89044
          ],
          [
           89052
          ],
          [
           89074
          ],
          [
           89081
          ],
          [
           89084
          ],
          [
           89085
          ],
          [
           89086
          ],
          [
           89102
          ],
          [
           89103
          ],
          [
           89104
          ],
          [
           89107
          ],
          [
           89108
          ],
          [
           89109
          ],
          [
           89113
          ],
          [
           89115
          ],
          [
           89117
          ],
          [
           89118
          ],
          [
           89119
          ],
          [
           89120
          ],
          [
           89121
          ],
          [
           89122
          ],
          [
           89123
          ],
          [
           89128
          ],
          [
           89129
          ],
          [
           89130
          ],
          [
           89131
          ],
          [
           89134
          ],
          [
           89135
          ],
          [
           89138
          ],
          [
           89139
          ],
          [
           89141
          ],
          [
           89142
          ],
          [
           89143
          ],
          [
           89144
          ],
          [
           89145
          ],
          [
           89146
          ],
          [
           89147
          ],
          [
           89148
          ],
          [
           89149
          ],
          [
           89156
          ],
          [
           89158
          ],
          [
           89169
          ],
          [
           89178
          ],
          [
           89179
          ],
          [
           89183
          ]
         ],
         "hovertemplate": "Year=%{x}<br>Median Income (USD)=%{y}<br>Zip Code=%{marker.color}<extra></extra>",
         "legendgroup": "",
         "marker": {
          "color": [
           89002,
           89011,
           89012,
           89014,
           89015,
           89030,
           89032,
           89044,
           89052,
           89074,
           89081,
           89084,
           89085,
           89086,
           89102,
           89103,
           89104,
           89107,
           89108,
           89109,
           89113,
           89115,
           89117,
           89118,
           89119,
           89120,
           89121,
           89122,
           89123,
           89128,
           89129,
           89130,
           89131,
           89134,
           89135,
           89138,
           89139,
           89141,
           89142,
           89143,
           89144,
           89145,
           89146,
           89147,
           89148,
           89149,
           89156,
           89158,
           89169,
           89178,
           89179,
           89183,
           89002,
           89011,
           89012,
           89014,
           89015,
           89030,
           89032,
           89044,
           89052,
           89074,
           89081,
           89084,
           89085,
           89086,
           89102,
           89103,
           89104,
           89107,
           89108,
           89109,
           89113,
           89115,
           89117,
           89118,
           89119,
           89120,
           89121,
           89122,
           89123,
           89128,
           89129,
           89130,
           89131,
           89134,
           89135,
           89138,
           89139,
           89141,
           89142,
           89143,
           89144,
           89145,
           89146,
           89147,
           89148,
           89149,
           89156,
           89158,
           89169,
           89178,
           89179,
           89183,
           89002,
           89011,
           89012,
           89014,
           89015,
           89030,
           89032,
           89044,
           89052,
           89074,
           89081,
           89084,
           89085,
           89086,
           89102,
           89103,
           89104,
           89107,
           89108,
           89109,
           89113,
           89115,
           89117,
           89118,
           89119,
           89120,
           89121,
           89122,
           89123,
           89128,
           89129,
           89130,
           89131,
           89134,
           89135,
           89138,
           89139,
           89141,
           89142,
           89143,
           89144,
           89145,
           89146,
           89147,
           89148,
           89149,
           89156,
           89158,
           89169,
           89178,
           89179,
           89183,
           89002,
           89011,
           89012,
           89014,
           89015,
           89030,
           89032,
           89044,
           89052,
           89074,
           89081,
           89084,
           89085,
           89086,
           89102,
           89103,
           89104,
           89107,
           89108,
           89109,
           89113,
           89115,
           89117,
           89118,
           89119,
           89120,
           89121,
           89122,
           89123,
           89128,
           89129,
           89130,
           89131,
           89134,
           89135,
           89138,
           89139,
           89141,
           89142,
           89143,
           89144,
           89145,
           89146,
           89147,
           89148,
           89149,
           89156,
           89158,
           89169,
           89178,
           89179,
           89183,
           89002,
           89011,
           89012,
           89014,
           89015,
           89030,
           89032,
           89044,
           89052,
           89074,
           89081,
           89084,
           89085,
           89086,
           89102,
           89103,
           89104,
           89107,
           89108,
           89109,
           89113,
           89115,
           89117,
           89118,
           89119,
           89120,
           89121,
           89122,
           89123,
           89128,
           89129,
           89130,
           89131,
           89134,
           89135,
           89138,
           89139,
           89141,
           89142,
           89143,
           89144,
           89145,
           89146,
           89147,
           89148,
           89149,
           89156,
           89158,
           89169,
           89178,
           89179,
           89183
          ],
          "coloraxis": "coloraxis",
          "symbol": "circle"
         },
         "mode": "markers",
         "name": "",
         "orientation": "v",
         "showlegend": false,
         "type": "scatter",
         "x": [
          "2018",
          "2018",
          "2018",
          "2018",
          "2018",
          "2018",
          "2018",
          "2018",
          "2018",
          "2018",
          "2018",
          "2018",
          "2018",
          "2018",
          "2018",
          "2018",
          "2018",
          "2018",
          "2018",
          "2018",
          "2018",
          "2018",
          "2018",
          "2018",
          "2018",
          "2018",
          "2018",
          "2018",
          "2018",
          "2018",
          "2018",
          "2018",
          "2018",
          "2018",
          "2018",
          "2018",
          "2018",
          "2018",
          "2018",
          "2018",
          "2018",
          "2018",
          "2018",
          "2018",
          "2018",
          "2018",
          "2018",
          "2018",
          "2018",
          "2018",
          "2018",
          "2018",
          "2019",
          "2019",
          "2019",
          "2019",
          "2019",
          "2019",
          "2019",
          "2019",
          "2019",
          "2019",
          "2019",
          "2019",
          "2019",
          "2019",
          "2019",
          "2019",
          "2019",
          "2019",
          "2019",
          "2019",
          "2019",
          "2019",
          "2019",
          "2019",
          "2019",
          "2019",
          "2019",
          "2019",
          "2019",
          "2019",
          "2019",
          "2019",
          "2019",
          "2019",
          "2019",
          "2019",
          "2019",
          "2019",
          "2019",
          "2019",
          "2019",
          "2019",
          "2019",
          "2019",
          "2019",
          "2019",
          "2019",
          "2019",
          "2019",
          "2019",
          "2019",
          "2019",
          "2020",
          "2020",
          "2020",
          "2020",
          "2020",
          "2020",
          "2020",
          "2020",
          "2020",
          "2020",
          "2020",
          "2020",
          "2020",
          "2020",
          "2020",
          "2020",
          "2020",
          "2020",
          "2020",
          "2020",
          "2020",
          "2020",
          "2020",
          "2020",
          "2020",
          "2020",
          "2020",
          "2020",
          "2020",
          "2020",
          "2020",
          "2020",
          "2020",
          "2020",
          "2020",
          "2020",
          "2020",
          "2020",
          "2020",
          "2020",
          "2020",
          "2020",
          "2020",
          "2020",
          "2020",
          "2020",
          "2020",
          "2020",
          "2020",
          "2020",
          "2020",
          "2020",
          "2021",
          "2021",
          "2021",
          "2021",
          "2021",
          "2021",
          "2021",
          "2021",
          "2021",
          "2021",
          "2021",
          "2021",
          "2021",
          "2021",
          "2021",
          "2021",
          "2021",
          "2021",
          "2021",
          "2021",
          "2021",
          "2021",
          "2021",
          "2021",
          "2021",
          "2021",
          "2021",
          "2021",
          "2021",
          "2021",
          "2021",
          "2021",
          "2021",
          "2021",
          "2021",
          "2021",
          "2021",
          "2021",
          "2021",
          "2021",
          "2021",
          "2021",
          "2021",
          "2021",
          "2021",
          "2021",
          "2021",
          "2021",
          "2021",
          "2021",
          "2021",
          "2021",
          "2022",
          "2022",
          "2022",
          "2022",
          "2022",
          "2022",
          "2022",
          "2022",
          "2022",
          "2022",
          "2022",
          "2022",
          "2022",
          "2022",
          "2022",
          "2022",
          "2022",
          "2022",
          "2022",
          "2022",
          "2022",
          "2022",
          "2022",
          "2022",
          "2022",
          "2022",
          "2022",
          "2022",
          "2022",
          "2022",
          "2022",
          "2022",
          "2022",
          "2022",
          "2022",
          "2022",
          "2022",
          "2022",
          "2022",
          "2022",
          "2022",
          "2022",
          "2022",
          "2022",
          "2022",
          "2022",
          "2022",
          "2022",
          "2022",
          "2022",
          "2022",
          "2022"
         ],
         "xaxis": "x",
         "y": [
          79966,
          64981,
          74170,
          58369,
          55164,
          35028,
          59427,
          82144,
          80984,
          71805,
          65322,
          75571,
          121609,
          58577,
          35627,
          40261,
          35484,
          40605,
          46759,
          43206,
          72212,
          36050,
          57954,
          55444,
          34312,
          49267,
          39528,
          45708,
          66710,
          58575,
          71464,
          64480,
          93337,
          66904,
          89046,
          112972,
          75022,
          88242,
          48994,
          83650,
          86780,
          57822,
          48291,
          54722,
          73486,
          72318,
          47641,
          29414,
          82554,
          92634,
          65491,
          null,
          82778,
          70129,
          81992,
          61194,
          56569,
          36275,
          60294,
          89012,
          85021,
          76422,
          68787,
          80921,
          120194,
          61741,
          36729,
          42537,
          36448,
          44234,
          46165,
          42837,
          72479,
          39412,
          58608,
          57859,
          35705,
          51347,
          42530,
          46448,
          68691,
          57456,
          75719,
          68764,
          99145,
          69461,
          94821,
          120759,
          79197,
          89649,
          49180,
          85455,
          88750,
          59549,
          48210,
          58964,
          76359,
          73883,
          48920,
          30581,
          88517,
          99662,
          65988,
          null,
          83700,
          77100,
          79727,
          61752,
          57049,
          36993,
          60995,
          97917,
          86589,
          77935,
          71206,
          79766,
          98713,
          49046,
          38122,
          42833,
          38939,
          42728,
          49351,
          44890,
          76961,
          41268,
          60637,
          59911,
          38659,
          57365,
          43160,
          47950,
          71905,
          59045,
          79275,
          72308,
          100838,
          67184,
          100022,
          122054,
          79496,
          90342,
          51388,
          84385,
          92526,
          66431,
          50259,
          61186,
          78352,
          77957,
          52323,
          32114,
          90801,
          96460,
          65943,
          null,
          88425,
          81736,
          81896,
          65719,
          60301,
          41049,
          64659,
          99987,
          90064,
          81799,
          74297,
          86311,
          110863,
          52103,
          40565,
          43401,
          42583,
          43569,
          51161,
          39680,
          78636,
          43114,
          62059,
          64779,
          41298,
          58675,
          46004,
          49463,
          74538,
          63657,
          82439,
          78518,
          104688,
          70335,
          105087,
          140362,
          85248,
          98454,
          53658,
          86393,
          93078,
          66612,
          51438,
          63086,
          83224,
          88059,
          56315,
          117500,
          32050,
          92471,
          100840,
          69125,
          95346,
          85009,
          89177,
          69848,
          66195,
          42794,
          71262,
          107255,
          96944,
          86015,
          87378,
          93575,
          111577,
          56927,
          45724,
          46139,
          48355,
          50876,
          55935,
          49818,
          85504,
          47189,
          68206,
          65929,
          44939,
          68934,
          50757,
          55216,
          78195,
          66534,
          87620,
          81584,
          109956,
          76500,
          113377,
          157170,
          93003,
          105993,
          60245,
          92575,
          101000,
          67308,
          57581,
          68251,
          92362,
          96454,
          61856,
          110039,
          37200,
          101256,
          110356,
          76488
         ],
         "yaxis": "y"
        }
       ],
       "layout": {
        "coloraxis": {
         "colorbar": {
          "title": {
           "text": "Zip Code"
          }
         },
         "colorscale": [
          [
           0,
           "#0d0887"
          ],
          [
           0.1111111111111111,
           "#46039f"
          ],
          [
           0.2222222222222222,
           "#7201a8"
          ],
          [
           0.3333333333333333,
           "#9c179e"
          ],
          [
           0.4444444444444444,
           "#bd3786"
          ],
          [
           0.5555555555555556,
           "#d8576b"
          ],
          [
           0.6666666666666666,
           "#ed7953"
          ],
          [
           0.7777777777777778,
           "#fb9f3a"
          ],
          [
           0.8888888888888888,
           "#fdca26"
          ],
          [
           1,
           "#f0f921"
          ]
         ]
        },
        "legend": {
         "tracegroupgap": 0
        },
        "template": {
         "data": {
          "bar": [
           {
            "error_x": {
             "color": "#2a3f5f"
            },
            "error_y": {
             "color": "#2a3f5f"
            },
            "marker": {
             "line": {
              "color": "#E5ECF6",
              "width": 0.5
             },
             "pattern": {
              "fillmode": "overlay",
              "size": 10,
              "solidity": 0.2
             }
            },
            "type": "bar"
           }
          ],
          "barpolar": [
           {
            "marker": {
             "line": {
              "color": "#E5ECF6",
              "width": 0.5
             },
             "pattern": {
              "fillmode": "overlay",
              "size": 10,
              "solidity": 0.2
             }
            },
            "type": "barpolar"
           }
          ],
          "carpet": [
           {
            "aaxis": {
             "endlinecolor": "#2a3f5f",
             "gridcolor": "white",
             "linecolor": "white",
             "minorgridcolor": "white",
             "startlinecolor": "#2a3f5f"
            },
            "baxis": {
             "endlinecolor": "#2a3f5f",
             "gridcolor": "white",
             "linecolor": "white",
             "minorgridcolor": "white",
             "startlinecolor": "#2a3f5f"
            },
            "type": "carpet"
           }
          ],
          "choropleth": [
           {
            "colorbar": {
             "outlinewidth": 0,
             "ticks": ""
            },
            "type": "choropleth"
           }
          ],
          "contour": [
           {
            "colorbar": {
             "outlinewidth": 0,
             "ticks": ""
            },
            "colorscale": [
             [
              0,
              "#0d0887"
             ],
             [
              0.1111111111111111,
              "#46039f"
             ],
             [
              0.2222222222222222,
              "#7201a8"
             ],
             [
              0.3333333333333333,
              "#9c179e"
             ],
             [
              0.4444444444444444,
              "#bd3786"
             ],
             [
              0.5555555555555556,
              "#d8576b"
             ],
             [
              0.6666666666666666,
              "#ed7953"
             ],
             [
              0.7777777777777778,
              "#fb9f3a"
             ],
             [
              0.8888888888888888,
              "#fdca26"
             ],
             [
              1,
              "#f0f921"
             ]
            ],
            "type": "contour"
           }
          ],
          "contourcarpet": [
           {
            "colorbar": {
             "outlinewidth": 0,
             "ticks": ""
            },
            "type": "contourcarpet"
           }
          ],
          "heatmap": [
           {
            "colorbar": {
             "outlinewidth": 0,
             "ticks": ""
            },
            "colorscale": [
             [
              0,
              "#0d0887"
             ],
             [
              0.1111111111111111,
              "#46039f"
             ],
             [
              0.2222222222222222,
              "#7201a8"
             ],
             [
              0.3333333333333333,
              "#9c179e"
             ],
             [
              0.4444444444444444,
              "#bd3786"
             ],
             [
              0.5555555555555556,
              "#d8576b"
             ],
             [
              0.6666666666666666,
              "#ed7953"
             ],
             [
              0.7777777777777778,
              "#fb9f3a"
             ],
             [
              0.8888888888888888,
              "#fdca26"
             ],
             [
              1,
              "#f0f921"
             ]
            ],
            "type": "heatmap"
           }
          ],
          "heatmapgl": [
           {
            "colorbar": {
             "outlinewidth": 0,
             "ticks": ""
            },
            "colorscale": [
             [
              0,
              "#0d0887"
             ],
             [
              0.1111111111111111,
              "#46039f"
             ],
             [
              0.2222222222222222,
              "#7201a8"
             ],
             [
              0.3333333333333333,
              "#9c179e"
             ],
             [
              0.4444444444444444,
              "#bd3786"
             ],
             [
              0.5555555555555556,
              "#d8576b"
             ],
             [
              0.6666666666666666,
              "#ed7953"
             ],
             [
              0.7777777777777778,
              "#fb9f3a"
             ],
             [
              0.8888888888888888,
              "#fdca26"
             ],
             [
              1,
              "#f0f921"
             ]
            ],
            "type": "heatmapgl"
           }
          ],
          "histogram": [
           {
            "marker": {
             "pattern": {
              "fillmode": "overlay",
              "size": 10,
              "solidity": 0.2
             }
            },
            "type": "histogram"
           }
          ],
          "histogram2d": [
           {
            "colorbar": {
             "outlinewidth": 0,
             "ticks": ""
            },
            "colorscale": [
             [
              0,
              "#0d0887"
             ],
             [
              0.1111111111111111,
              "#46039f"
             ],
             [
              0.2222222222222222,
              "#7201a8"
             ],
             [
              0.3333333333333333,
              "#9c179e"
             ],
             [
              0.4444444444444444,
              "#bd3786"
             ],
             [
              0.5555555555555556,
              "#d8576b"
             ],
             [
              0.6666666666666666,
              "#ed7953"
             ],
             [
              0.7777777777777778,
              "#fb9f3a"
             ],
             [
              0.8888888888888888,
              "#fdca26"
             ],
             [
              1,
              "#f0f921"
             ]
            ],
            "type": "histogram2d"
           }
          ],
          "histogram2dcontour": [
           {
            "colorbar": {
             "outlinewidth": 0,
             "ticks": ""
            },
            "colorscale": [
             [
              0,
              "#0d0887"
             ],
             [
              0.1111111111111111,
              "#46039f"
             ],
             [
              0.2222222222222222,
              "#7201a8"
             ],
             [
              0.3333333333333333,
              "#9c179e"
             ],
             [
              0.4444444444444444,
              "#bd3786"
             ],
             [
              0.5555555555555556,
              "#d8576b"
             ],
             [
              0.6666666666666666,
              "#ed7953"
             ],
             [
              0.7777777777777778,
              "#fb9f3a"
             ],
             [
              0.8888888888888888,
              "#fdca26"
             ],
             [
              1,
              "#f0f921"
             ]
            ],
            "type": "histogram2dcontour"
           }
          ],
          "mesh3d": [
           {
            "colorbar": {
             "outlinewidth": 0,
             "ticks": ""
            },
            "type": "mesh3d"
           }
          ],
          "parcoords": [
           {
            "line": {
             "colorbar": {
              "outlinewidth": 0,
              "ticks": ""
             }
            },
            "type": "parcoords"
           }
          ],
          "pie": [
           {
            "automargin": true,
            "type": "pie"
           }
          ],
          "scatter": [
           {
            "fillpattern": {
             "fillmode": "overlay",
             "size": 10,
             "solidity": 0.2
            },
            "type": "scatter"
           }
          ],
          "scatter3d": [
           {
            "line": {
             "colorbar": {
              "outlinewidth": 0,
              "ticks": ""
             }
            },
            "marker": {
             "colorbar": {
              "outlinewidth": 0,
              "ticks": ""
             }
            },
            "type": "scatter3d"
           }
          ],
          "scattercarpet": [
           {
            "marker": {
             "colorbar": {
              "outlinewidth": 0,
              "ticks": ""
             }
            },
            "type": "scattercarpet"
           }
          ],
          "scattergeo": [
           {
            "marker": {
             "colorbar": {
              "outlinewidth": 0,
              "ticks": ""
             }
            },
            "type": "scattergeo"
           }
          ],
          "scattergl": [
           {
            "marker": {
             "colorbar": {
              "outlinewidth": 0,
              "ticks": ""
             }
            },
            "type": "scattergl"
           }
          ],
          "scattermapbox": [
           {
            "marker": {
             "colorbar": {
              "outlinewidth": 0,
              "ticks": ""
             }
            },
            "type": "scattermapbox"
           }
          ],
          "scatterpolar": [
           {
            "marker": {
             "colorbar": {
              "outlinewidth": 0,
              "ticks": ""
             }
            },
            "type": "scatterpolar"
           }
          ],
          "scatterpolargl": [
           {
            "marker": {
             "colorbar": {
              "outlinewidth": 0,
              "ticks": ""
             }
            },
            "type": "scatterpolargl"
           }
          ],
          "scatterternary": [
           {
            "marker": {
             "colorbar": {
              "outlinewidth": 0,
              "ticks": ""
             }
            },
            "type": "scatterternary"
           }
          ],
          "surface": [
           {
            "colorbar": {
             "outlinewidth": 0,
             "ticks": ""
            },
            "colorscale": [
             [
              0,
              "#0d0887"
             ],
             [
              0.1111111111111111,
              "#46039f"
             ],
             [
              0.2222222222222222,
              "#7201a8"
             ],
             [
              0.3333333333333333,
              "#9c179e"
             ],
             [
              0.4444444444444444,
              "#bd3786"
             ],
             [
              0.5555555555555556,
              "#d8576b"
             ],
             [
              0.6666666666666666,
              "#ed7953"
             ],
             [
              0.7777777777777778,
              "#fb9f3a"
             ],
             [
              0.8888888888888888,
              "#fdca26"
             ],
             [
              1,
              "#f0f921"
             ]
            ],
            "type": "surface"
           }
          ],
          "table": [
           {
            "cells": {
             "fill": {
              "color": "#EBF0F8"
             },
             "line": {
              "color": "white"
             }
            },
            "header": {
             "fill": {
              "color": "#C8D4E3"
             },
             "line": {
              "color": "white"
             }
            },
            "type": "table"
           }
          ]
         },
         "layout": {
          "annotationdefaults": {
           "arrowcolor": "#2a3f5f",
           "arrowhead": 0,
           "arrowwidth": 1
          },
          "autotypenumbers": "strict",
          "coloraxis": {
           "colorbar": {
            "outlinewidth": 0,
            "ticks": ""
           }
          },
          "colorscale": {
           "diverging": [
            [
             0,
             "#8e0152"
            ],
            [
             0.1,
             "#c51b7d"
            ],
            [
             0.2,
             "#de77ae"
            ],
            [
             0.3,
             "#f1b6da"
            ],
            [
             0.4,
             "#fde0ef"
            ],
            [
             0.5,
             "#f7f7f7"
            ],
            [
             0.6,
             "#e6f5d0"
            ],
            [
             0.7,
             "#b8e186"
            ],
            [
             0.8,
             "#7fbc41"
            ],
            [
             0.9,
             "#4d9221"
            ],
            [
             1,
             "#276419"
            ]
           ],
           "sequential": [
            [
             0,
             "#0d0887"
            ],
            [
             0.1111111111111111,
             "#46039f"
            ],
            [
             0.2222222222222222,
             "#7201a8"
            ],
            [
             0.3333333333333333,
             "#9c179e"
            ],
            [
             0.4444444444444444,
             "#bd3786"
            ],
            [
             0.5555555555555556,
             "#d8576b"
            ],
            [
             0.6666666666666666,
             "#ed7953"
            ],
            [
             0.7777777777777778,
             "#fb9f3a"
            ],
            [
             0.8888888888888888,
             "#fdca26"
            ],
            [
             1,
             "#f0f921"
            ]
           ],
           "sequentialminus": [
            [
             0,
             "#0d0887"
            ],
            [
             0.1111111111111111,
             "#46039f"
            ],
            [
             0.2222222222222222,
             "#7201a8"
            ],
            [
             0.3333333333333333,
             "#9c179e"
            ],
            [
             0.4444444444444444,
             "#bd3786"
            ],
            [
             0.5555555555555556,
             "#d8576b"
            ],
            [
             0.6666666666666666,
             "#ed7953"
            ],
            [
             0.7777777777777778,
             "#fb9f3a"
            ],
            [
             0.8888888888888888,
             "#fdca26"
            ],
            [
             1,
             "#f0f921"
            ]
           ]
          },
          "colorway": [
           "#636efa",
           "#EF553B",
           "#00cc96",
           "#ab63fa",
           "#FFA15A",
           "#19d3f3",
           "#FF6692",
           "#B6E880",
           "#FF97FF",
           "#FECB52"
          ],
          "font": {
           "color": "#2a3f5f"
          },
          "geo": {
           "bgcolor": "white",
           "lakecolor": "white",
           "landcolor": "#E5ECF6",
           "showlakes": true,
           "showland": true,
           "subunitcolor": "white"
          },
          "hoverlabel": {
           "align": "left"
          },
          "hovermode": "closest",
          "mapbox": {
           "style": "light"
          },
          "paper_bgcolor": "white",
          "plot_bgcolor": "#E5ECF6",
          "polar": {
           "angularaxis": {
            "gridcolor": "white",
            "linecolor": "white",
            "ticks": ""
           },
           "bgcolor": "#E5ECF6",
           "radialaxis": {
            "gridcolor": "white",
            "linecolor": "white",
            "ticks": ""
           }
          },
          "scene": {
           "xaxis": {
            "backgroundcolor": "#E5ECF6",
            "gridcolor": "white",
            "gridwidth": 2,
            "linecolor": "white",
            "showbackground": true,
            "ticks": "",
            "zerolinecolor": "white"
           },
           "yaxis": {
            "backgroundcolor": "#E5ECF6",
            "gridcolor": "white",
            "gridwidth": 2,
            "linecolor": "white",
            "showbackground": true,
            "ticks": "",
            "zerolinecolor": "white"
           },
           "zaxis": {
            "backgroundcolor": "#E5ECF6",
            "gridcolor": "white",
            "gridwidth": 2,
            "linecolor": "white",
            "showbackground": true,
            "ticks": "",
            "zerolinecolor": "white"
           }
          },
          "shapedefaults": {
           "line": {
            "color": "#2a3f5f"
           }
          },
          "ternary": {
           "aaxis": {
            "gridcolor": "white",
            "linecolor": "white",
            "ticks": ""
           },
           "baxis": {
            "gridcolor": "white",
            "linecolor": "white",
            "ticks": ""
           },
           "bgcolor": "#E5ECF6",
           "caxis": {
            "gridcolor": "white",
            "linecolor": "white",
            "ticks": ""
           }
          },
          "title": {
           "x": 0.05
          },
          "xaxis": {
           "automargin": true,
           "gridcolor": "white",
           "linecolor": "white",
           "ticks": "",
           "title": {
            "standoff": 15
           },
           "zerolinecolor": "white",
           "zerolinewidth": 2
          },
          "yaxis": {
           "automargin": true,
           "gridcolor": "white",
           "linecolor": "white",
           "ticks": "",
           "title": {
            "standoff": 15
           },
           "zerolinecolor": "white",
           "zerolinewidth": 2
          }
         }
        },
        "title": {
         "text": "Median Income Trends by Zip Code in Las Vegas (2018-2022)"
        },
        "xaxis": {
         "anchor": "y",
         "domain": [
          0,
          1
         ],
         "title": {
          "text": "Year"
         }
        },
        "yaxis": {
         "anchor": "x",
         "domain": [
          0,
          1
         ],
         "title": {
          "text": "Median Income (USD)"
         }
        }
       }
      },
      "text/html": [
       "<div>                            <div id=\"5dfcfe9c-3270-4425-a2de-e86354a97cc1\" class=\"plotly-graph-div\" style=\"height:525px; width:100%;\"></div>            <script type=\"text/javascript\">                require([\"plotly\"], function(Plotly) {                    window.PLOTLYENV=window.PLOTLYENV || {};                                    if (document.getElementById(\"5dfcfe9c-3270-4425-a2de-e86354a97cc1\")) {                    Plotly.newPlot(                        \"5dfcfe9c-3270-4425-a2de-e86354a97cc1\",                        [{\"customdata\":[[89002],[89011],[89012],[89014],[89015],[89030],[89032],[89044],[89052],[89074],[89081],[89084],[89085],[89086],[89102],[89103],[89104],[89107],[89108],[89109],[89113],[89115],[89117],[89118],[89119],[89120],[89121],[89122],[89123],[89128],[89129],[89130],[89131],[89134],[89135],[89138],[89139],[89141],[89142],[89143],[89144],[89145],[89146],[89147],[89148],[89149],[89156],[89158],[89169],[89178],[89179],[89183],[89002],[89011],[89012],[89014],[89015],[89030],[89032],[89044],[89052],[89074],[89081],[89084],[89085],[89086],[89102],[89103],[89104],[89107],[89108],[89109],[89113],[89115],[89117],[89118],[89119],[89120],[89121],[89122],[89123],[89128],[89129],[89130],[89131],[89134],[89135],[89138],[89139],[89141],[89142],[89143],[89144],[89145],[89146],[89147],[89148],[89149],[89156],[89158],[89169],[89178],[89179],[89183],[89002],[89011],[89012],[89014],[89015],[89030],[89032],[89044],[89052],[89074],[89081],[89084],[89085],[89086],[89102],[89103],[89104],[89107],[89108],[89109],[89113],[89115],[89117],[89118],[89119],[89120],[89121],[89122],[89123],[89128],[89129],[89130],[89131],[89134],[89135],[89138],[89139],[89141],[89142],[89143],[89144],[89145],[89146],[89147],[89148],[89149],[89156],[89158],[89169],[89178],[89179],[89183],[89002],[89011],[89012],[89014],[89015],[89030],[89032],[89044],[89052],[89074],[89081],[89084],[89085],[89086],[89102],[89103],[89104],[89107],[89108],[89109],[89113],[89115],[89117],[89118],[89119],[89120],[89121],[89122],[89123],[89128],[89129],[89130],[89131],[89134],[89135],[89138],[89139],[89141],[89142],[89143],[89144],[89145],[89146],[89147],[89148],[89149],[89156],[89158],[89169],[89178],[89179],[89183],[89002],[89011],[89012],[89014],[89015],[89030],[89032],[89044],[89052],[89074],[89081],[89084],[89085],[89086],[89102],[89103],[89104],[89107],[89108],[89109],[89113],[89115],[89117],[89118],[89119],[89120],[89121],[89122],[89123],[89128],[89129],[89130],[89131],[89134],[89135],[89138],[89139],[89141],[89142],[89143],[89144],[89145],[89146],[89147],[89148],[89149],[89156],[89158],[89169],[89178],[89179],[89183]],\"hovertemplate\":\"Year=%{x}<br>Median Income (USD)=%{y}<br>Zip Code=%{marker.color}<extra></extra>\",\"legendgroup\":\"\",\"marker\":{\"color\":[89002,89011,89012,89014,89015,89030,89032,89044,89052,89074,89081,89084,89085,89086,89102,89103,89104,89107,89108,89109,89113,89115,89117,89118,89119,89120,89121,89122,89123,89128,89129,89130,89131,89134,89135,89138,89139,89141,89142,89143,89144,89145,89146,89147,89148,89149,89156,89158,89169,89178,89179,89183,89002,89011,89012,89014,89015,89030,89032,89044,89052,89074,89081,89084,89085,89086,89102,89103,89104,89107,89108,89109,89113,89115,89117,89118,89119,89120,89121,89122,89123,89128,89129,89130,89131,89134,89135,89138,89139,89141,89142,89143,89144,89145,89146,89147,89148,89149,89156,89158,89169,89178,89179,89183,89002,89011,89012,89014,89015,89030,89032,89044,89052,89074,89081,89084,89085,89086,89102,89103,89104,89107,89108,89109,89113,89115,89117,89118,89119,89120,89121,89122,89123,89128,89129,89130,89131,89134,89135,89138,89139,89141,89142,89143,89144,89145,89146,89147,89148,89149,89156,89158,89169,89178,89179,89183,89002,89011,89012,89014,89015,89030,89032,89044,89052,89074,89081,89084,89085,89086,89102,89103,89104,89107,89108,89109,89113,89115,89117,89118,89119,89120,89121,89122,89123,89128,89129,89130,89131,89134,89135,89138,89139,89141,89142,89143,89144,89145,89146,89147,89148,89149,89156,89158,89169,89178,89179,89183,89002,89011,89012,89014,89015,89030,89032,89044,89052,89074,89081,89084,89085,89086,89102,89103,89104,89107,89108,89109,89113,89115,89117,89118,89119,89120,89121,89122,89123,89128,89129,89130,89131,89134,89135,89138,89139,89141,89142,89143,89144,89145,89146,89147,89148,89149,89156,89158,89169,89178,89179,89183],\"coloraxis\":\"coloraxis\",\"symbol\":\"circle\"},\"mode\":\"markers\",\"name\":\"\",\"orientation\":\"v\",\"showlegend\":false,\"x\":[\"2018\",\"2018\",\"2018\",\"2018\",\"2018\",\"2018\",\"2018\",\"2018\",\"2018\",\"2018\",\"2018\",\"2018\",\"2018\",\"2018\",\"2018\",\"2018\",\"2018\",\"2018\",\"2018\",\"2018\",\"2018\",\"2018\",\"2018\",\"2018\",\"2018\",\"2018\",\"2018\",\"2018\",\"2018\",\"2018\",\"2018\",\"2018\",\"2018\",\"2018\",\"2018\",\"2018\",\"2018\",\"2018\",\"2018\",\"2018\",\"2018\",\"2018\",\"2018\",\"2018\",\"2018\",\"2018\",\"2018\",\"2018\",\"2018\",\"2018\",\"2018\",\"2018\",\"2019\",\"2019\",\"2019\",\"2019\",\"2019\",\"2019\",\"2019\",\"2019\",\"2019\",\"2019\",\"2019\",\"2019\",\"2019\",\"2019\",\"2019\",\"2019\",\"2019\",\"2019\",\"2019\",\"2019\",\"2019\",\"2019\",\"2019\",\"2019\",\"2019\",\"2019\",\"2019\",\"2019\",\"2019\",\"2019\",\"2019\",\"2019\",\"2019\",\"2019\",\"2019\",\"2019\",\"2019\",\"2019\",\"2019\",\"2019\",\"2019\",\"2019\",\"2019\",\"2019\",\"2019\",\"2019\",\"2019\",\"2019\",\"2019\",\"2019\",\"2019\",\"2019\",\"2020\",\"2020\",\"2020\",\"2020\",\"2020\",\"2020\",\"2020\",\"2020\",\"2020\",\"2020\",\"2020\",\"2020\",\"2020\",\"2020\",\"2020\",\"2020\",\"2020\",\"2020\",\"2020\",\"2020\",\"2020\",\"2020\",\"2020\",\"2020\",\"2020\",\"2020\",\"2020\",\"2020\",\"2020\",\"2020\",\"2020\",\"2020\",\"2020\",\"2020\",\"2020\",\"2020\",\"2020\",\"2020\",\"2020\",\"2020\",\"2020\",\"2020\",\"2020\",\"2020\",\"2020\",\"2020\",\"2020\",\"2020\",\"2020\",\"2020\",\"2020\",\"2020\",\"2021\",\"2021\",\"2021\",\"2021\",\"2021\",\"2021\",\"2021\",\"2021\",\"2021\",\"2021\",\"2021\",\"2021\",\"2021\",\"2021\",\"2021\",\"2021\",\"2021\",\"2021\",\"2021\",\"2021\",\"2021\",\"2021\",\"2021\",\"2021\",\"2021\",\"2021\",\"2021\",\"2021\",\"2021\",\"2021\",\"2021\",\"2021\",\"2021\",\"2021\",\"2021\",\"2021\",\"2021\",\"2021\",\"2021\",\"2021\",\"2021\",\"2021\",\"2021\",\"2021\",\"2021\",\"2021\",\"2021\",\"2021\",\"2021\",\"2021\",\"2021\",\"2021\",\"2022\",\"2022\",\"2022\",\"2022\",\"2022\",\"2022\",\"2022\",\"2022\",\"2022\",\"2022\",\"2022\",\"2022\",\"2022\",\"2022\",\"2022\",\"2022\",\"2022\",\"2022\",\"2022\",\"2022\",\"2022\",\"2022\",\"2022\",\"2022\",\"2022\",\"2022\",\"2022\",\"2022\",\"2022\",\"2022\",\"2022\",\"2022\",\"2022\",\"2022\",\"2022\",\"2022\",\"2022\",\"2022\",\"2022\",\"2022\",\"2022\",\"2022\",\"2022\",\"2022\",\"2022\",\"2022\",\"2022\",\"2022\",\"2022\",\"2022\",\"2022\",\"2022\"],\"xaxis\":\"x\",\"y\":[79966.0,64981.0,74170.0,58369.0,55164.0,35028.0,59427.0,82144.0,80984.0,71805.0,65322.0,75571.0,121609.0,58577.0,35627.0,40261.0,35484.0,40605.0,46759.0,43206.0,72212.0,36050.0,57954.0,55444.0,34312.0,49267.0,39528.0,45708.0,66710.0,58575.0,71464.0,64480.0,93337.0,66904.0,89046.0,112972.0,75022.0,88242.0,48994.0,83650.0,86780.0,57822.0,48291.0,54722.0,73486.0,72318.0,47641.0,29414.0,82554.0,92634.0,65491.0,null,82778.0,70129.0,81992.0,61194.0,56569.0,36275.0,60294.0,89012.0,85021.0,76422.0,68787.0,80921.0,120194.0,61741.0,36729.0,42537.0,36448.0,44234.0,46165.0,42837.0,72479.0,39412.0,58608.0,57859.0,35705.0,51347.0,42530.0,46448.0,68691.0,57456.0,75719.0,68764.0,99145.0,69461.0,94821.0,120759.0,79197.0,89649.0,49180.0,85455.0,88750.0,59549.0,48210.0,58964.0,76359.0,73883.0,48920.0,30581.0,88517.0,99662.0,65988.0,null,83700.0,77100.0,79727.0,61752.0,57049.0,36993.0,60995.0,97917.0,86589.0,77935.0,71206.0,79766.0,98713.0,49046.0,38122.0,42833.0,38939.0,42728.0,49351.0,44890.0,76961.0,41268.0,60637.0,59911.0,38659.0,57365.0,43160.0,47950.0,71905.0,59045.0,79275.0,72308.0,100838.0,67184.0,100022.0,122054.0,79496.0,90342.0,51388.0,84385.0,92526.0,66431.0,50259.0,61186.0,78352.0,77957.0,52323.0,32114.0,90801.0,96460.0,65943.0,null,88425.0,81736.0,81896.0,65719.0,60301.0,41049.0,64659.0,99987.0,90064.0,81799.0,74297.0,86311.0,110863.0,52103.0,40565.0,43401.0,42583.0,43569.0,51161.0,39680.0,78636.0,43114.0,62059.0,64779.0,41298.0,58675.0,46004.0,49463.0,74538.0,63657.0,82439.0,78518.0,104688.0,70335.0,105087.0,140362.0,85248.0,98454.0,53658.0,86393.0,93078.0,66612.0,51438.0,63086.0,83224.0,88059.0,56315.0,117500.0,32050.0,92471.0,100840.0,69125.0,95346.0,85009.0,89177.0,69848.0,66195.0,42794.0,71262.0,107255.0,96944.0,86015.0,87378.0,93575.0,111577.0,56927.0,45724.0,46139.0,48355.0,50876.0,55935.0,49818.0,85504.0,47189.0,68206.0,65929.0,44939.0,68934.0,50757.0,55216.0,78195.0,66534.0,87620.0,81584.0,109956.0,76500.0,113377.0,157170.0,93003.0,105993.0,60245.0,92575.0,101000.0,67308.0,57581.0,68251.0,92362.0,96454.0,61856.0,110039.0,37200.0,101256.0,110356.0,76488.0],\"yaxis\":\"y\",\"type\":\"scatter\"}],                        {\"template\":{\"data\":{\"histogram2dcontour\":[{\"type\":\"histogram2dcontour\",\"colorbar\":{\"outlinewidth\":0,\"ticks\":\"\"},\"colorscale\":[[0.0,\"#0d0887\"],[0.1111111111111111,\"#46039f\"],[0.2222222222222222,\"#7201a8\"],[0.3333333333333333,\"#9c179e\"],[0.4444444444444444,\"#bd3786\"],[0.5555555555555556,\"#d8576b\"],[0.6666666666666666,\"#ed7953\"],[0.7777777777777778,\"#fb9f3a\"],[0.8888888888888888,\"#fdca26\"],[1.0,\"#f0f921\"]]}],\"choropleth\":[{\"type\":\"choropleth\",\"colorbar\":{\"outlinewidth\":0,\"ticks\":\"\"}}],\"histogram2d\":[{\"type\":\"histogram2d\",\"colorbar\":{\"outlinewidth\":0,\"ticks\":\"\"},\"colorscale\":[[0.0,\"#0d0887\"],[0.1111111111111111,\"#46039f\"],[0.2222222222222222,\"#7201a8\"],[0.3333333333333333,\"#9c179e\"],[0.4444444444444444,\"#bd3786\"],[0.5555555555555556,\"#d8576b\"],[0.6666666666666666,\"#ed7953\"],[0.7777777777777778,\"#fb9f3a\"],[0.8888888888888888,\"#fdca26\"],[1.0,\"#f0f921\"]]}],\"heatmap\":[{\"type\":\"heatmap\",\"colorbar\":{\"outlinewidth\":0,\"ticks\":\"\"},\"colorscale\":[[0.0,\"#0d0887\"],[0.1111111111111111,\"#46039f\"],[0.2222222222222222,\"#7201a8\"],[0.3333333333333333,\"#9c179e\"],[0.4444444444444444,\"#bd3786\"],[0.5555555555555556,\"#d8576b\"],[0.6666666666666666,\"#ed7953\"],[0.7777777777777778,\"#fb9f3a\"],[0.8888888888888888,\"#fdca26\"],[1.0,\"#f0f921\"]]}],\"heatmapgl\":[{\"type\":\"heatmapgl\",\"colorbar\":{\"outlinewidth\":0,\"ticks\":\"\"},\"colorscale\":[[0.0,\"#0d0887\"],[0.1111111111111111,\"#46039f\"],[0.2222222222222222,\"#7201a8\"],[0.3333333333333333,\"#9c179e\"],[0.4444444444444444,\"#bd3786\"],[0.5555555555555556,\"#d8576b\"],[0.6666666666666666,\"#ed7953\"],[0.7777777777777778,\"#fb9f3a\"],[0.8888888888888888,\"#fdca26\"],[1.0,\"#f0f921\"]]}],\"contourcarpet\":[{\"type\":\"contourcarpet\",\"colorbar\":{\"outlinewidth\":0,\"ticks\":\"\"}}],\"contour\":[{\"type\":\"contour\",\"colorbar\":{\"outlinewidth\":0,\"ticks\":\"\"},\"colorscale\":[[0.0,\"#0d0887\"],[0.1111111111111111,\"#46039f\"],[0.2222222222222222,\"#7201a8\"],[0.3333333333333333,\"#9c179e\"],[0.4444444444444444,\"#bd3786\"],[0.5555555555555556,\"#d8576b\"],[0.6666666666666666,\"#ed7953\"],[0.7777777777777778,\"#fb9f3a\"],[0.8888888888888888,\"#fdca26\"],[1.0,\"#f0f921\"]]}],\"surface\":[{\"type\":\"surface\",\"colorbar\":{\"outlinewidth\":0,\"ticks\":\"\"},\"colorscale\":[[0.0,\"#0d0887\"],[0.1111111111111111,\"#46039f\"],[0.2222222222222222,\"#7201a8\"],[0.3333333333333333,\"#9c179e\"],[0.4444444444444444,\"#bd3786\"],[0.5555555555555556,\"#d8576b\"],[0.6666666666666666,\"#ed7953\"],[0.7777777777777778,\"#fb9f3a\"],[0.8888888888888888,\"#fdca26\"],[1.0,\"#f0f921\"]]}],\"mesh3d\":[{\"type\":\"mesh3d\",\"colorbar\":{\"outlinewidth\":0,\"ticks\":\"\"}}],\"scatter\":[{\"fillpattern\":{\"fillmode\":\"overlay\",\"size\":10,\"solidity\":0.2},\"type\":\"scatter\"}],\"parcoords\":[{\"type\":\"parcoords\",\"line\":{\"colorbar\":{\"outlinewidth\":0,\"ticks\":\"\"}}}],\"scatterpolargl\":[{\"type\":\"scatterpolargl\",\"marker\":{\"colorbar\":{\"outlinewidth\":0,\"ticks\":\"\"}}}],\"bar\":[{\"error_x\":{\"color\":\"#2a3f5f\"},\"error_y\":{\"color\":\"#2a3f5f\"},\"marker\":{\"line\":{\"color\":\"#E5ECF6\",\"width\":0.5},\"pattern\":{\"fillmode\":\"overlay\",\"size\":10,\"solidity\":0.2}},\"type\":\"bar\"}],\"scattergeo\":[{\"type\":\"scattergeo\",\"marker\":{\"colorbar\":{\"outlinewidth\":0,\"ticks\":\"\"}}}],\"scatterpolar\":[{\"type\":\"scatterpolar\",\"marker\":{\"colorbar\":{\"outlinewidth\":0,\"ticks\":\"\"}}}],\"histogram\":[{\"marker\":{\"pattern\":{\"fillmode\":\"overlay\",\"size\":10,\"solidity\":0.2}},\"type\":\"histogram\"}],\"scattergl\":[{\"type\":\"scattergl\",\"marker\":{\"colorbar\":{\"outlinewidth\":0,\"ticks\":\"\"}}}],\"scatter3d\":[{\"type\":\"scatter3d\",\"line\":{\"colorbar\":{\"outlinewidth\":0,\"ticks\":\"\"}},\"marker\":{\"colorbar\":{\"outlinewidth\":0,\"ticks\":\"\"}}}],\"scattermapbox\":[{\"type\":\"scattermapbox\",\"marker\":{\"colorbar\":{\"outlinewidth\":0,\"ticks\":\"\"}}}],\"scatterternary\":[{\"type\":\"scatterternary\",\"marker\":{\"colorbar\":{\"outlinewidth\":0,\"ticks\":\"\"}}}],\"scattercarpet\":[{\"type\":\"scattercarpet\",\"marker\":{\"colorbar\":{\"outlinewidth\":0,\"ticks\":\"\"}}}],\"carpet\":[{\"aaxis\":{\"endlinecolor\":\"#2a3f5f\",\"gridcolor\":\"white\",\"linecolor\":\"white\",\"minorgridcolor\":\"white\",\"startlinecolor\":\"#2a3f5f\"},\"baxis\":{\"endlinecolor\":\"#2a3f5f\",\"gridcolor\":\"white\",\"linecolor\":\"white\",\"minorgridcolor\":\"white\",\"startlinecolor\":\"#2a3f5f\"},\"type\":\"carpet\"}],\"table\":[{\"cells\":{\"fill\":{\"color\":\"#EBF0F8\"},\"line\":{\"color\":\"white\"}},\"header\":{\"fill\":{\"color\":\"#C8D4E3\"},\"line\":{\"color\":\"white\"}},\"type\":\"table\"}],\"barpolar\":[{\"marker\":{\"line\":{\"color\":\"#E5ECF6\",\"width\":0.5},\"pattern\":{\"fillmode\":\"overlay\",\"size\":10,\"solidity\":0.2}},\"type\":\"barpolar\"}],\"pie\":[{\"automargin\":true,\"type\":\"pie\"}]},\"layout\":{\"autotypenumbers\":\"strict\",\"colorway\":[\"#636efa\",\"#EF553B\",\"#00cc96\",\"#ab63fa\",\"#FFA15A\",\"#19d3f3\",\"#FF6692\",\"#B6E880\",\"#FF97FF\",\"#FECB52\"],\"font\":{\"color\":\"#2a3f5f\"},\"hovermode\":\"closest\",\"hoverlabel\":{\"align\":\"left\"},\"paper_bgcolor\":\"white\",\"plot_bgcolor\":\"#E5ECF6\",\"polar\":{\"bgcolor\":\"#E5ECF6\",\"angularaxis\":{\"gridcolor\":\"white\",\"linecolor\":\"white\",\"ticks\":\"\"},\"radialaxis\":{\"gridcolor\":\"white\",\"linecolor\":\"white\",\"ticks\":\"\"}},\"ternary\":{\"bgcolor\":\"#E5ECF6\",\"aaxis\":{\"gridcolor\":\"white\",\"linecolor\":\"white\",\"ticks\":\"\"},\"baxis\":{\"gridcolor\":\"white\",\"linecolor\":\"white\",\"ticks\":\"\"},\"caxis\":{\"gridcolor\":\"white\",\"linecolor\":\"white\",\"ticks\":\"\"}},\"coloraxis\":{\"colorbar\":{\"outlinewidth\":0,\"ticks\":\"\"}},\"colorscale\":{\"sequential\":[[0.0,\"#0d0887\"],[0.1111111111111111,\"#46039f\"],[0.2222222222222222,\"#7201a8\"],[0.3333333333333333,\"#9c179e\"],[0.4444444444444444,\"#bd3786\"],[0.5555555555555556,\"#d8576b\"],[0.6666666666666666,\"#ed7953\"],[0.7777777777777778,\"#fb9f3a\"],[0.8888888888888888,\"#fdca26\"],[1.0,\"#f0f921\"]],\"sequentialminus\":[[0.0,\"#0d0887\"],[0.1111111111111111,\"#46039f\"],[0.2222222222222222,\"#7201a8\"],[0.3333333333333333,\"#9c179e\"],[0.4444444444444444,\"#bd3786\"],[0.5555555555555556,\"#d8576b\"],[0.6666666666666666,\"#ed7953\"],[0.7777777777777778,\"#fb9f3a\"],[0.8888888888888888,\"#fdca26\"],[1.0,\"#f0f921\"]],\"diverging\":[[0,\"#8e0152\"],[0.1,\"#c51b7d\"],[0.2,\"#de77ae\"],[0.3,\"#f1b6da\"],[0.4,\"#fde0ef\"],[0.5,\"#f7f7f7\"],[0.6,\"#e6f5d0\"],[0.7,\"#b8e186\"],[0.8,\"#7fbc41\"],[0.9,\"#4d9221\"],[1,\"#276419\"]]},\"xaxis\":{\"gridcolor\":\"white\",\"linecolor\":\"white\",\"ticks\":\"\",\"title\":{\"standoff\":15},\"zerolinecolor\":\"white\",\"automargin\":true,\"zerolinewidth\":2},\"yaxis\":{\"gridcolor\":\"white\",\"linecolor\":\"white\",\"ticks\":\"\",\"title\":{\"standoff\":15},\"zerolinecolor\":\"white\",\"automargin\":true,\"zerolinewidth\":2},\"scene\":{\"xaxis\":{\"backgroundcolor\":\"#E5ECF6\",\"gridcolor\":\"white\",\"linecolor\":\"white\",\"showbackground\":true,\"ticks\":\"\",\"zerolinecolor\":\"white\",\"gridwidth\":2},\"yaxis\":{\"backgroundcolor\":\"#E5ECF6\",\"gridcolor\":\"white\",\"linecolor\":\"white\",\"showbackground\":true,\"ticks\":\"\",\"zerolinecolor\":\"white\",\"gridwidth\":2},\"zaxis\":{\"backgroundcolor\":\"#E5ECF6\",\"gridcolor\":\"white\",\"linecolor\":\"white\",\"showbackground\":true,\"ticks\":\"\",\"zerolinecolor\":\"white\",\"gridwidth\":2}},\"shapedefaults\":{\"line\":{\"color\":\"#2a3f5f\"}},\"annotationdefaults\":{\"arrowcolor\":\"#2a3f5f\",\"arrowhead\":0,\"arrowwidth\":1},\"geo\":{\"bgcolor\":\"white\",\"landcolor\":\"#E5ECF6\",\"subunitcolor\":\"white\",\"showland\":true,\"showlakes\":true,\"lakecolor\":\"white\"},\"title\":{\"x\":0.05},\"mapbox\":{\"style\":\"light\"}}},\"xaxis\":{\"anchor\":\"y\",\"domain\":[0.0,1.0],\"title\":{\"text\":\"Year\"}},\"yaxis\":{\"anchor\":\"x\",\"domain\":[0.0,1.0],\"title\":{\"text\":\"Median Income (USD)\"}},\"coloraxis\":{\"colorbar\":{\"title\":{\"text\":\"Zip Code\"}},\"colorscale\":[[0.0,\"#0d0887\"],[0.1111111111111111,\"#46039f\"],[0.2222222222222222,\"#7201a8\"],[0.3333333333333333,\"#9c179e\"],[0.4444444444444444,\"#bd3786\"],[0.5555555555555556,\"#d8576b\"],[0.6666666666666666,\"#ed7953\"],[0.7777777777777778,\"#fb9f3a\"],[0.8888888888888888,\"#fdca26\"],[1.0,\"#f0f921\"]]},\"legend\":{\"tracegroupgap\":0},\"title\":{\"text\":\"Median Income Trends by Zip Code in Las Vegas (2018-2022)\"}},                        {\"responsive\": true}                    ).then(function(){\n",
       "                            \n",
       "var gd = document.getElementById('5dfcfe9c-3270-4425-a2de-e86354a97cc1');\n",
       "var x = new MutationObserver(function (mutations, observer) {{\n",
       "        var display = window.getComputedStyle(gd).display;\n",
       "        if (!display || display === 'none') {{\n",
       "            console.log([gd, 'removed!']);\n",
       "            Plotly.purge(gd);\n",
       "            observer.disconnect();\n",
       "        }}\n",
       "}});\n",
       "\n",
       "// Listen for the removal of the full notebook cells\n",
       "var notebookContainer = gd.closest('#notebook-container');\n",
       "if (notebookContainer) {{\n",
       "    x.observe(notebookContainer, {childList: true});\n",
       "}}\n",
       "\n",
       "// Listen for the clearing of the current output cell\n",
       "var outputEl = gd.closest('.output');\n",
       "if (outputEl) {{\n",
       "    x.observe(outputEl, {childList: true});\n",
       "}}\n",
       "\n",
       "                        })                };                });            </script>        </div>"
      ]
     },
     "metadata": {},
     "output_type": "display_data"
    }
   ],
   "source": [
    "median_income_without_nan = latest_long_df['Median Income'].fillna(latest_long_df['Median Income'].median())\n",
    "\n",
    "fig_scatter = px.scatter(latest_long_df, x='Year', y='Median Income', color='Zip Code',\n",
    "                         title='Median Income Trends by Zip Code in Las Vegas (2018-2022)',\n",
    "                         labels={'Median Income': 'Median Income (USD)', 'Year': 'Year'},\n",
    "                         hover_data=['Zip Code'])\n",
    "\n",
    "fig_scatter.show()\n"
   ]
  },
  {
   "cell_type": "code",
   "execution_count": 16,
   "id": "20c117d3",
   "metadata": {},
   "outputs": [],
   "source": [
    "import plotly.graph_objs as go\n",
    "\n",
    "fig = go.Figure()\n",
    "\n"
   ]
  },
  {
   "cell_type": "code",
   "execution_count": 17,
   "id": "64170674",
   "metadata": {},
   "outputs": [
    {
     "data": {
      "application/vnd.plotly.v1+json": {
       "config": {
        "plotlyServerURL": "https://plot.ly"
       },
       "data": [
        {
         "hoverinfo": "text",
         "mode": "markers",
         "name": "89002",
         "text": [
          "Zip Code: 89002<br>Year: 2018<br>Median Income: $79,966",
          "Zip Code: 89002<br>Year: 2019<br>Median Income: $82,778",
          "Zip Code: 89002<br>Year: 2020<br>Median Income: $83,700",
          "Zip Code: 89002<br>Year: 2021<br>Median Income: $88,425",
          "Zip Code: 89002<br>Year: 2022<br>Median Income: $95,346"
         ],
         "type": "scatter",
         "x": [
          "2018",
          "2019",
          "2020",
          "2021",
          "2022"
         ],
         "y": [
          79966,
          82778,
          83700,
          88425,
          95346
         ]
        },
        {
         "hoverinfo": "text",
         "mode": "markers",
         "name": "89011",
         "text": [
          "Zip Code: 89011<br>Year: 2018<br>Median Income: $64,981",
          "Zip Code: 89011<br>Year: 2019<br>Median Income: $70,129",
          "Zip Code: 89011<br>Year: 2020<br>Median Income: $77,100",
          "Zip Code: 89011<br>Year: 2021<br>Median Income: $81,736",
          "Zip Code: 89011<br>Year: 2022<br>Median Income: $85,009"
         ],
         "type": "scatter",
         "x": [
          "2018",
          "2019",
          "2020",
          "2021",
          "2022"
         ],
         "y": [
          64981,
          70129,
          77100,
          81736,
          85009
         ]
        },
        {
         "hoverinfo": "text",
         "mode": "markers",
         "name": "89012",
         "text": [
          "Zip Code: 89012<br>Year: 2018<br>Median Income: $74,170",
          "Zip Code: 89012<br>Year: 2019<br>Median Income: $81,992",
          "Zip Code: 89012<br>Year: 2020<br>Median Income: $79,727",
          "Zip Code: 89012<br>Year: 2021<br>Median Income: $81,896",
          "Zip Code: 89012<br>Year: 2022<br>Median Income: $89,177"
         ],
         "type": "scatter",
         "x": [
          "2018",
          "2019",
          "2020",
          "2021",
          "2022"
         ],
         "y": [
          74170,
          81992,
          79727,
          81896,
          89177
         ]
        },
        {
         "hoverinfo": "text",
         "mode": "markers",
         "name": "89014",
         "text": [
          "Zip Code: 89014<br>Year: 2018<br>Median Income: $58,369",
          "Zip Code: 89014<br>Year: 2019<br>Median Income: $61,194",
          "Zip Code: 89014<br>Year: 2020<br>Median Income: $61,752",
          "Zip Code: 89014<br>Year: 2021<br>Median Income: $65,719",
          "Zip Code: 89014<br>Year: 2022<br>Median Income: $69,848"
         ],
         "type": "scatter",
         "x": [
          "2018",
          "2019",
          "2020",
          "2021",
          "2022"
         ],
         "y": [
          58369,
          61194,
          61752,
          65719,
          69848
         ]
        },
        {
         "hoverinfo": "text",
         "mode": "markers",
         "name": "89015",
         "text": [
          "Zip Code: 89015<br>Year: 2018<br>Median Income: $55,164",
          "Zip Code: 89015<br>Year: 2019<br>Median Income: $56,569",
          "Zip Code: 89015<br>Year: 2020<br>Median Income: $57,049",
          "Zip Code: 89015<br>Year: 2021<br>Median Income: $60,301",
          "Zip Code: 89015<br>Year: 2022<br>Median Income: $66,195"
         ],
         "type": "scatter",
         "x": [
          "2018",
          "2019",
          "2020",
          "2021",
          "2022"
         ],
         "y": [
          55164,
          56569,
          57049,
          60301,
          66195
         ]
        },
        {
         "hoverinfo": "text",
         "mode": "markers",
         "name": "89030",
         "text": [
          "Zip Code: 89030<br>Year: 2018<br>Median Income: $35,028",
          "Zip Code: 89030<br>Year: 2019<br>Median Income: $36,275",
          "Zip Code: 89030<br>Year: 2020<br>Median Income: $36,993",
          "Zip Code: 89030<br>Year: 2021<br>Median Income: $41,049",
          "Zip Code: 89030<br>Year: 2022<br>Median Income: $42,794"
         ],
         "type": "scatter",
         "x": [
          "2018",
          "2019",
          "2020",
          "2021",
          "2022"
         ],
         "y": [
          35028,
          36275,
          36993,
          41049,
          42794
         ]
        },
        {
         "hoverinfo": "text",
         "mode": "markers",
         "name": "89032",
         "text": [
          "Zip Code: 89032<br>Year: 2018<br>Median Income: $59,427",
          "Zip Code: 89032<br>Year: 2019<br>Median Income: $60,294",
          "Zip Code: 89032<br>Year: 2020<br>Median Income: $60,995",
          "Zip Code: 89032<br>Year: 2021<br>Median Income: $64,659",
          "Zip Code: 89032<br>Year: 2022<br>Median Income: $71,262"
         ],
         "type": "scatter",
         "x": [
          "2018",
          "2019",
          "2020",
          "2021",
          "2022"
         ],
         "y": [
          59427,
          60294,
          60995,
          64659,
          71262
         ]
        },
        {
         "hoverinfo": "text",
         "mode": "markers",
         "name": "89044",
         "text": [
          "Zip Code: 89044<br>Year: 2018<br>Median Income: $82,144",
          "Zip Code: 89044<br>Year: 2019<br>Median Income: $89,012",
          "Zip Code: 89044<br>Year: 2020<br>Median Income: $97,917",
          "Zip Code: 89044<br>Year: 2021<br>Median Income: $99,987",
          "Zip Code: 89044<br>Year: 2022<br>Median Income: $107,255"
         ],
         "type": "scatter",
         "x": [
          "2018",
          "2019",
          "2020",
          "2021",
          "2022"
         ],
         "y": [
          82144,
          89012,
          97917,
          99987,
          107255
         ]
        },
        {
         "hoverinfo": "text",
         "mode": "markers",
         "name": "89052",
         "text": [
          "Zip Code: 89052<br>Year: 2018<br>Median Income: $80,984",
          "Zip Code: 89052<br>Year: 2019<br>Median Income: $85,021",
          "Zip Code: 89052<br>Year: 2020<br>Median Income: $86,589",
          "Zip Code: 89052<br>Year: 2021<br>Median Income: $90,064",
          "Zip Code: 89052<br>Year: 2022<br>Median Income: $96,944"
         ],
         "type": "scatter",
         "x": [
          "2018",
          "2019",
          "2020",
          "2021",
          "2022"
         ],
         "y": [
          80984,
          85021,
          86589,
          90064,
          96944
         ]
        },
        {
         "hoverinfo": "text",
         "mode": "markers",
         "name": "89074",
         "text": [
          "Zip Code: 89074<br>Year: 2018<br>Median Income: $71,805",
          "Zip Code: 89074<br>Year: 2019<br>Median Income: $76,422",
          "Zip Code: 89074<br>Year: 2020<br>Median Income: $77,935",
          "Zip Code: 89074<br>Year: 2021<br>Median Income: $81,799",
          "Zip Code: 89074<br>Year: 2022<br>Median Income: $86,015"
         ],
         "type": "scatter",
         "x": [
          "2018",
          "2019",
          "2020",
          "2021",
          "2022"
         ],
         "y": [
          71805,
          76422,
          77935,
          81799,
          86015
         ]
        },
        {
         "hoverinfo": "text",
         "mode": "markers",
         "name": "89081",
         "text": [
          "Zip Code: 89081<br>Year: 2018<br>Median Income: $65,322",
          "Zip Code: 89081<br>Year: 2019<br>Median Income: $68,787",
          "Zip Code: 89081<br>Year: 2020<br>Median Income: $71,206",
          "Zip Code: 89081<br>Year: 2021<br>Median Income: $74,297",
          "Zip Code: 89081<br>Year: 2022<br>Median Income: $87,378"
         ],
         "type": "scatter",
         "x": [
          "2018",
          "2019",
          "2020",
          "2021",
          "2022"
         ],
         "y": [
          65322,
          68787,
          71206,
          74297,
          87378
         ]
        },
        {
         "hoverinfo": "text",
         "mode": "markers",
         "name": "89084",
         "text": [
          "Zip Code: 89084<br>Year: 2018<br>Median Income: $75,571",
          "Zip Code: 89084<br>Year: 2019<br>Median Income: $80,921",
          "Zip Code: 89084<br>Year: 2020<br>Median Income: $79,766",
          "Zip Code: 89084<br>Year: 2021<br>Median Income: $86,311",
          "Zip Code: 89084<br>Year: 2022<br>Median Income: $93,575"
         ],
         "type": "scatter",
         "x": [
          "2018",
          "2019",
          "2020",
          "2021",
          "2022"
         ],
         "y": [
          75571,
          80921,
          79766,
          86311,
          93575
         ]
        },
        {
         "hoverinfo": "text",
         "mode": "markers",
         "name": "89085",
         "text": [
          "Zip Code: 89085<br>Year: 2018<br>Median Income: $121,609",
          "Zip Code: 89085<br>Year: 2019<br>Median Income: $120,194",
          "Zip Code: 89085<br>Year: 2020<br>Median Income: $98,713",
          "Zip Code: 89085<br>Year: 2021<br>Median Income: $110,863",
          "Zip Code: 89085<br>Year: 2022<br>Median Income: $111,577"
         ],
         "type": "scatter",
         "x": [
          "2018",
          "2019",
          "2020",
          "2021",
          "2022"
         ],
         "y": [
          121609,
          120194,
          98713,
          110863,
          111577
         ]
        },
        {
         "hoverinfo": "text",
         "mode": "markers",
         "name": "89086",
         "text": [
          "Zip Code: 89086<br>Year: 2018<br>Median Income: $58,577",
          "Zip Code: 89086<br>Year: 2019<br>Median Income: $61,741",
          "Zip Code: 89086<br>Year: 2020<br>Median Income: $49,046",
          "Zip Code: 89086<br>Year: 2021<br>Median Income: $52,103",
          "Zip Code: 89086<br>Year: 2022<br>Median Income: $56,927"
         ],
         "type": "scatter",
         "x": [
          "2018",
          "2019",
          "2020",
          "2021",
          "2022"
         ],
         "y": [
          58577,
          61741,
          49046,
          52103,
          56927
         ]
        },
        {
         "hoverinfo": "text",
         "mode": "markers",
         "name": "89102",
         "text": [
          "Zip Code: 89102<br>Year: 2018<br>Median Income: $35,627",
          "Zip Code: 89102<br>Year: 2019<br>Median Income: $36,729",
          "Zip Code: 89102<br>Year: 2020<br>Median Income: $38,122",
          "Zip Code: 89102<br>Year: 2021<br>Median Income: $40,565",
          "Zip Code: 89102<br>Year: 2022<br>Median Income: $45,724"
         ],
         "type": "scatter",
         "x": [
          "2018",
          "2019",
          "2020",
          "2021",
          "2022"
         ],
         "y": [
          35627,
          36729,
          38122,
          40565,
          45724
         ]
        },
        {
         "hoverinfo": "text",
         "mode": "markers",
         "name": "89103",
         "text": [
          "Zip Code: 89103<br>Year: 2018<br>Median Income: $40,261",
          "Zip Code: 89103<br>Year: 2019<br>Median Income: $42,537",
          "Zip Code: 89103<br>Year: 2020<br>Median Income: $42,833",
          "Zip Code: 89103<br>Year: 2021<br>Median Income: $43,401",
          "Zip Code: 89103<br>Year: 2022<br>Median Income: $46,139"
         ],
         "type": "scatter",
         "x": [
          "2018",
          "2019",
          "2020",
          "2021",
          "2022"
         ],
         "y": [
          40261,
          42537,
          42833,
          43401,
          46139
         ]
        },
        {
         "hoverinfo": "text",
         "mode": "markers",
         "name": "89104",
         "text": [
          "Zip Code: 89104<br>Year: 2018<br>Median Income: $35,484",
          "Zip Code: 89104<br>Year: 2019<br>Median Income: $36,448",
          "Zip Code: 89104<br>Year: 2020<br>Median Income: $38,939",
          "Zip Code: 89104<br>Year: 2021<br>Median Income: $42,583",
          "Zip Code: 89104<br>Year: 2022<br>Median Income: $48,355"
         ],
         "type": "scatter",
         "x": [
          "2018",
          "2019",
          "2020",
          "2021",
          "2022"
         ],
         "y": [
          35484,
          36448,
          38939,
          42583,
          48355
         ]
        },
        {
         "hoverinfo": "text",
         "mode": "markers",
         "name": "89107",
         "text": [
          "Zip Code: 89107<br>Year: 2018<br>Median Income: $40,605",
          "Zip Code: 89107<br>Year: 2019<br>Median Income: $44,234",
          "Zip Code: 89107<br>Year: 2020<br>Median Income: $42,728",
          "Zip Code: 89107<br>Year: 2021<br>Median Income: $43,569",
          "Zip Code: 89107<br>Year: 2022<br>Median Income: $50,876"
         ],
         "type": "scatter",
         "x": [
          "2018",
          "2019",
          "2020",
          "2021",
          "2022"
         ],
         "y": [
          40605,
          44234,
          42728,
          43569,
          50876
         ]
        },
        {
         "hoverinfo": "text",
         "mode": "markers",
         "name": "89108",
         "text": [
          "Zip Code: 89108<br>Year: 2018<br>Median Income: $46,759",
          "Zip Code: 89108<br>Year: 2019<br>Median Income: $46,165",
          "Zip Code: 89108<br>Year: 2020<br>Median Income: $49,351",
          "Zip Code: 89108<br>Year: 2021<br>Median Income: $51,161",
          "Zip Code: 89108<br>Year: 2022<br>Median Income: $55,935"
         ],
         "type": "scatter",
         "x": [
          "2018",
          "2019",
          "2020",
          "2021",
          "2022"
         ],
         "y": [
          46759,
          46165,
          49351,
          51161,
          55935
         ]
        },
        {
         "hoverinfo": "text",
         "mode": "markers",
         "name": "89109",
         "text": [
          "Zip Code: 89109<br>Year: 2018<br>Median Income: $43,206",
          "Zip Code: 89109<br>Year: 2019<br>Median Income: $42,837",
          "Zip Code: 89109<br>Year: 2020<br>Median Income: $44,890",
          "Zip Code: 89109<br>Year: 2021<br>Median Income: $39,680",
          "Zip Code: 89109<br>Year: 2022<br>Median Income: $49,818"
         ],
         "type": "scatter",
         "x": [
          "2018",
          "2019",
          "2020",
          "2021",
          "2022"
         ],
         "y": [
          43206,
          42837,
          44890,
          39680,
          49818
         ]
        },
        {
         "hoverinfo": "text",
         "mode": "markers",
         "name": "89113",
         "text": [
          "Zip Code: 89113<br>Year: 2018<br>Median Income: $72,212",
          "Zip Code: 89113<br>Year: 2019<br>Median Income: $72,479",
          "Zip Code: 89113<br>Year: 2020<br>Median Income: $76,961",
          "Zip Code: 89113<br>Year: 2021<br>Median Income: $78,636",
          "Zip Code: 89113<br>Year: 2022<br>Median Income: $85,504"
         ],
         "type": "scatter",
         "x": [
          "2018",
          "2019",
          "2020",
          "2021",
          "2022"
         ],
         "y": [
          72212,
          72479,
          76961,
          78636,
          85504
         ]
        },
        {
         "hoverinfo": "text",
         "mode": "markers",
         "name": "89115",
         "text": [
          "Zip Code: 89115<br>Year: 2018<br>Median Income: $36,050",
          "Zip Code: 89115<br>Year: 2019<br>Median Income: $39,412",
          "Zip Code: 89115<br>Year: 2020<br>Median Income: $41,268",
          "Zip Code: 89115<br>Year: 2021<br>Median Income: $43,114",
          "Zip Code: 89115<br>Year: 2022<br>Median Income: $47,189"
         ],
         "type": "scatter",
         "x": [
          "2018",
          "2019",
          "2020",
          "2021",
          "2022"
         ],
         "y": [
          36050,
          39412,
          41268,
          43114,
          47189
         ]
        },
        {
         "hoverinfo": "text",
         "mode": "markers",
         "name": "89117",
         "text": [
          "Zip Code: 89117<br>Year: 2018<br>Median Income: $57,954",
          "Zip Code: 89117<br>Year: 2019<br>Median Income: $58,608",
          "Zip Code: 89117<br>Year: 2020<br>Median Income: $60,637",
          "Zip Code: 89117<br>Year: 2021<br>Median Income: $62,059",
          "Zip Code: 89117<br>Year: 2022<br>Median Income: $68,206"
         ],
         "type": "scatter",
         "x": [
          "2018",
          "2019",
          "2020",
          "2021",
          "2022"
         ],
         "y": [
          57954,
          58608,
          60637,
          62059,
          68206
         ]
        },
        {
         "hoverinfo": "text",
         "mode": "markers",
         "name": "89118",
         "text": [
          "Zip Code: 89118<br>Year: 2018<br>Median Income: $55,444",
          "Zip Code: 89118<br>Year: 2019<br>Median Income: $57,859",
          "Zip Code: 89118<br>Year: 2020<br>Median Income: $59,911",
          "Zip Code: 89118<br>Year: 2021<br>Median Income: $64,779",
          "Zip Code: 89118<br>Year: 2022<br>Median Income: $65,929"
         ],
         "type": "scatter",
         "x": [
          "2018",
          "2019",
          "2020",
          "2021",
          "2022"
         ],
         "y": [
          55444,
          57859,
          59911,
          64779,
          65929
         ]
        },
        {
         "hoverinfo": "text",
         "mode": "markers",
         "name": "89119",
         "text": [
          "Zip Code: 89119<br>Year: 2018<br>Median Income: $34,312",
          "Zip Code: 89119<br>Year: 2019<br>Median Income: $35,705",
          "Zip Code: 89119<br>Year: 2020<br>Median Income: $38,659",
          "Zip Code: 89119<br>Year: 2021<br>Median Income: $41,298",
          "Zip Code: 89119<br>Year: 2022<br>Median Income: $44,939"
         ],
         "type": "scatter",
         "x": [
          "2018",
          "2019",
          "2020",
          "2021",
          "2022"
         ],
         "y": [
          34312,
          35705,
          38659,
          41298,
          44939
         ]
        },
        {
         "hoverinfo": "text",
         "mode": "markers",
         "name": "89120",
         "text": [
          "Zip Code: 89120<br>Year: 2018<br>Median Income: $49,267",
          "Zip Code: 89120<br>Year: 2019<br>Median Income: $51,347",
          "Zip Code: 89120<br>Year: 2020<br>Median Income: $57,365",
          "Zip Code: 89120<br>Year: 2021<br>Median Income: $58,675",
          "Zip Code: 89120<br>Year: 2022<br>Median Income: $68,934"
         ],
         "type": "scatter",
         "x": [
          "2018",
          "2019",
          "2020",
          "2021",
          "2022"
         ],
         "y": [
          49267,
          51347,
          57365,
          58675,
          68934
         ]
        },
        {
         "hoverinfo": "text",
         "mode": "markers",
         "name": "89121",
         "text": [
          "Zip Code: 89121<br>Year: 2018<br>Median Income: $39,528",
          "Zip Code: 89121<br>Year: 2019<br>Median Income: $42,530",
          "Zip Code: 89121<br>Year: 2020<br>Median Income: $43,160",
          "Zip Code: 89121<br>Year: 2021<br>Median Income: $46,004",
          "Zip Code: 89121<br>Year: 2022<br>Median Income: $50,757"
         ],
         "type": "scatter",
         "x": [
          "2018",
          "2019",
          "2020",
          "2021",
          "2022"
         ],
         "y": [
          39528,
          42530,
          43160,
          46004,
          50757
         ]
        },
        {
         "hoverinfo": "text",
         "mode": "markers",
         "name": "89122",
         "text": [
          "Zip Code: 89122<br>Year: 2018<br>Median Income: $45,708",
          "Zip Code: 89122<br>Year: 2019<br>Median Income: $46,448",
          "Zip Code: 89122<br>Year: 2020<br>Median Income: $47,950",
          "Zip Code: 89122<br>Year: 2021<br>Median Income: $49,463",
          "Zip Code: 89122<br>Year: 2022<br>Median Income: $55,216"
         ],
         "type": "scatter",
         "x": [
          "2018",
          "2019",
          "2020",
          "2021",
          "2022"
         ],
         "y": [
          45708,
          46448,
          47950,
          49463,
          55216
         ]
        },
        {
         "hoverinfo": "text",
         "mode": "markers",
         "name": "89123",
         "text": [
          "Zip Code: 89123<br>Year: 2018<br>Median Income: $66,710",
          "Zip Code: 89123<br>Year: 2019<br>Median Income: $68,691",
          "Zip Code: 89123<br>Year: 2020<br>Median Income: $71,905",
          "Zip Code: 89123<br>Year: 2021<br>Median Income: $74,538",
          "Zip Code: 89123<br>Year: 2022<br>Median Income: $78,195"
         ],
         "type": "scatter",
         "x": [
          "2018",
          "2019",
          "2020",
          "2021",
          "2022"
         ],
         "y": [
          66710,
          68691,
          71905,
          74538,
          78195
         ]
        },
        {
         "hoverinfo": "text",
         "mode": "markers",
         "name": "89128",
         "text": [
          "Zip Code: 89128<br>Year: 2018<br>Median Income: $58,575",
          "Zip Code: 89128<br>Year: 2019<br>Median Income: $57,456",
          "Zip Code: 89128<br>Year: 2020<br>Median Income: $59,045",
          "Zip Code: 89128<br>Year: 2021<br>Median Income: $63,657",
          "Zip Code: 89128<br>Year: 2022<br>Median Income: $66,534"
         ],
         "type": "scatter",
         "x": [
          "2018",
          "2019",
          "2020",
          "2021",
          "2022"
         ],
         "y": [
          58575,
          57456,
          59045,
          63657,
          66534
         ]
        },
        {
         "hoverinfo": "text",
         "mode": "markers",
         "name": "89129",
         "text": [
          "Zip Code: 89129<br>Year: 2018<br>Median Income: $71,464",
          "Zip Code: 89129<br>Year: 2019<br>Median Income: $75,719",
          "Zip Code: 89129<br>Year: 2020<br>Median Income: $79,275",
          "Zip Code: 89129<br>Year: 2021<br>Median Income: $82,439",
          "Zip Code: 89129<br>Year: 2022<br>Median Income: $87,620"
         ],
         "type": "scatter",
         "x": [
          "2018",
          "2019",
          "2020",
          "2021",
          "2022"
         ],
         "y": [
          71464,
          75719,
          79275,
          82439,
          87620
         ]
        },
        {
         "hoverinfo": "text",
         "mode": "markers",
         "name": "89130",
         "text": [
          "Zip Code: 89130<br>Year: 2018<br>Median Income: $64,480",
          "Zip Code: 89130<br>Year: 2019<br>Median Income: $68,764",
          "Zip Code: 89130<br>Year: 2020<br>Median Income: $72,308",
          "Zip Code: 89130<br>Year: 2021<br>Median Income: $78,518",
          "Zip Code: 89130<br>Year: 2022<br>Median Income: $81,584"
         ],
         "type": "scatter",
         "x": [
          "2018",
          "2019",
          "2020",
          "2021",
          "2022"
         ],
         "y": [
          64480,
          68764,
          72308,
          78518,
          81584
         ]
        },
        {
         "hoverinfo": "text",
         "mode": "markers",
         "name": "89131",
         "text": [
          "Zip Code: 89131<br>Year: 2018<br>Median Income: $93,337",
          "Zip Code: 89131<br>Year: 2019<br>Median Income: $99,145",
          "Zip Code: 89131<br>Year: 2020<br>Median Income: $100,838",
          "Zip Code: 89131<br>Year: 2021<br>Median Income: $104,688",
          "Zip Code: 89131<br>Year: 2022<br>Median Income: $109,956"
         ],
         "type": "scatter",
         "x": [
          "2018",
          "2019",
          "2020",
          "2021",
          "2022"
         ],
         "y": [
          93337,
          99145,
          100838,
          104688,
          109956
         ]
        },
        {
         "hoverinfo": "text",
         "mode": "markers",
         "name": "89134",
         "text": [
          "Zip Code: 89134<br>Year: 2018<br>Median Income: $66,904",
          "Zip Code: 89134<br>Year: 2019<br>Median Income: $69,461",
          "Zip Code: 89134<br>Year: 2020<br>Median Income: $67,184",
          "Zip Code: 89134<br>Year: 2021<br>Median Income: $70,335",
          "Zip Code: 89134<br>Year: 2022<br>Median Income: $76,500"
         ],
         "type": "scatter",
         "x": [
          "2018",
          "2019",
          "2020",
          "2021",
          "2022"
         ],
         "y": [
          66904,
          69461,
          67184,
          70335,
          76500
         ]
        },
        {
         "hoverinfo": "text",
         "mode": "markers",
         "name": "89135",
         "text": [
          "Zip Code: 89135<br>Year: 2018<br>Median Income: $89,046",
          "Zip Code: 89135<br>Year: 2019<br>Median Income: $94,821",
          "Zip Code: 89135<br>Year: 2020<br>Median Income: $100,022",
          "Zip Code: 89135<br>Year: 2021<br>Median Income: $105,087",
          "Zip Code: 89135<br>Year: 2022<br>Median Income: $113,377"
         ],
         "type": "scatter",
         "x": [
          "2018",
          "2019",
          "2020",
          "2021",
          "2022"
         ],
         "y": [
          89046,
          94821,
          100022,
          105087,
          113377
         ]
        },
        {
         "hoverinfo": "text",
         "mode": "markers",
         "name": "89138",
         "text": [
          "Zip Code: 89138<br>Year: 2018<br>Median Income: $112,972",
          "Zip Code: 89138<br>Year: 2019<br>Median Income: $120,759",
          "Zip Code: 89138<br>Year: 2020<br>Median Income: $122,054",
          "Zip Code: 89138<br>Year: 2021<br>Median Income: $140,362",
          "Zip Code: 89138<br>Year: 2022<br>Median Income: $157,170"
         ],
         "type": "scatter",
         "x": [
          "2018",
          "2019",
          "2020",
          "2021",
          "2022"
         ],
         "y": [
          112972,
          120759,
          122054,
          140362,
          157170
         ]
        },
        {
         "hoverinfo": "text",
         "mode": "markers",
         "name": "89139",
         "text": [
          "Zip Code: 89139<br>Year: 2018<br>Median Income: $75,022",
          "Zip Code: 89139<br>Year: 2019<br>Median Income: $79,197",
          "Zip Code: 89139<br>Year: 2020<br>Median Income: $79,496",
          "Zip Code: 89139<br>Year: 2021<br>Median Income: $85,248",
          "Zip Code: 89139<br>Year: 2022<br>Median Income: $93,003"
         ],
         "type": "scatter",
         "x": [
          "2018",
          "2019",
          "2020",
          "2021",
          "2022"
         ],
         "y": [
          75022,
          79197,
          79496,
          85248,
          93003
         ]
        },
        {
         "hoverinfo": "text",
         "mode": "markers",
         "name": "89141",
         "text": [
          "Zip Code: 89141<br>Year: 2018<br>Median Income: $88,242",
          "Zip Code: 89141<br>Year: 2019<br>Median Income: $89,649",
          "Zip Code: 89141<br>Year: 2020<br>Median Income: $90,342",
          "Zip Code: 89141<br>Year: 2021<br>Median Income: $98,454",
          "Zip Code: 89141<br>Year: 2022<br>Median Income: $105,993"
         ],
         "type": "scatter",
         "x": [
          "2018",
          "2019",
          "2020",
          "2021",
          "2022"
         ],
         "y": [
          88242,
          89649,
          90342,
          98454,
          105993
         ]
        },
        {
         "hoverinfo": "text",
         "mode": "markers",
         "name": "89142",
         "text": [
          "Zip Code: 89142<br>Year: 2018<br>Median Income: $48,994",
          "Zip Code: 89142<br>Year: 2019<br>Median Income: $49,180",
          "Zip Code: 89142<br>Year: 2020<br>Median Income: $51,388",
          "Zip Code: 89142<br>Year: 2021<br>Median Income: $53,658",
          "Zip Code: 89142<br>Year: 2022<br>Median Income: $60,245"
         ],
         "type": "scatter",
         "x": [
          "2018",
          "2019",
          "2020",
          "2021",
          "2022"
         ],
         "y": [
          48994,
          49180,
          51388,
          53658,
          60245
         ]
        },
        {
         "hoverinfo": "text",
         "mode": "markers",
         "name": "89143",
         "text": [
          "Zip Code: 89143<br>Year: 2018<br>Median Income: $83,650",
          "Zip Code: 89143<br>Year: 2019<br>Median Income: $85,455",
          "Zip Code: 89143<br>Year: 2020<br>Median Income: $84,385",
          "Zip Code: 89143<br>Year: 2021<br>Median Income: $86,393",
          "Zip Code: 89143<br>Year: 2022<br>Median Income: $92,575"
         ],
         "type": "scatter",
         "x": [
          "2018",
          "2019",
          "2020",
          "2021",
          "2022"
         ],
         "y": [
          83650,
          85455,
          84385,
          86393,
          92575
         ]
        },
        {
         "hoverinfo": "text",
         "mode": "markers",
         "name": "89144",
         "text": [
          "Zip Code: 89144<br>Year: 2018<br>Median Income: $86,780",
          "Zip Code: 89144<br>Year: 2019<br>Median Income: $88,750",
          "Zip Code: 89144<br>Year: 2020<br>Median Income: $92,526",
          "Zip Code: 89144<br>Year: 2021<br>Median Income: $93,078",
          "Zip Code: 89144<br>Year: 2022<br>Median Income: $101,000"
         ],
         "type": "scatter",
         "x": [
          "2018",
          "2019",
          "2020",
          "2021",
          "2022"
         ],
         "y": [
          86780,
          88750,
          92526,
          93078,
          101000
         ]
        },
        {
         "hoverinfo": "text",
         "mode": "markers",
         "name": "89145",
         "text": [
          "Zip Code: 89145<br>Year: 2018<br>Median Income: $57,822",
          "Zip Code: 89145<br>Year: 2019<br>Median Income: $59,549",
          "Zip Code: 89145<br>Year: 2020<br>Median Income: $66,431",
          "Zip Code: 89145<br>Year: 2021<br>Median Income: $66,612",
          "Zip Code: 89145<br>Year: 2022<br>Median Income: $67,308"
         ],
         "type": "scatter",
         "x": [
          "2018",
          "2019",
          "2020",
          "2021",
          "2022"
         ],
         "y": [
          57822,
          59549,
          66431,
          66612,
          67308
         ]
        },
        {
         "hoverinfo": "text",
         "mode": "markers",
         "name": "89146",
         "text": [
          "Zip Code: 89146<br>Year: 2018<br>Median Income: $48,291",
          "Zip Code: 89146<br>Year: 2019<br>Median Income: $48,210",
          "Zip Code: 89146<br>Year: 2020<br>Median Income: $50,259",
          "Zip Code: 89146<br>Year: 2021<br>Median Income: $51,438",
          "Zip Code: 89146<br>Year: 2022<br>Median Income: $57,581"
         ],
         "type": "scatter",
         "x": [
          "2018",
          "2019",
          "2020",
          "2021",
          "2022"
         ],
         "y": [
          48291,
          48210,
          50259,
          51438,
          57581
         ]
        },
        {
         "hoverinfo": "text",
         "mode": "markers",
         "name": "89147",
         "text": [
          "Zip Code: 89147<br>Year: 2018<br>Median Income: $54,722",
          "Zip Code: 89147<br>Year: 2019<br>Median Income: $58,964",
          "Zip Code: 89147<br>Year: 2020<br>Median Income: $61,186",
          "Zip Code: 89147<br>Year: 2021<br>Median Income: $63,086",
          "Zip Code: 89147<br>Year: 2022<br>Median Income: $68,251"
         ],
         "type": "scatter",
         "x": [
          "2018",
          "2019",
          "2020",
          "2021",
          "2022"
         ],
         "y": [
          54722,
          58964,
          61186,
          63086,
          68251
         ]
        },
        {
         "hoverinfo": "text",
         "mode": "markers",
         "name": "89148",
         "text": [
          "Zip Code: 89148<br>Year: 2018<br>Median Income: $73,486",
          "Zip Code: 89148<br>Year: 2019<br>Median Income: $76,359",
          "Zip Code: 89148<br>Year: 2020<br>Median Income: $78,352",
          "Zip Code: 89148<br>Year: 2021<br>Median Income: $83,224",
          "Zip Code: 89148<br>Year: 2022<br>Median Income: $92,362"
         ],
         "type": "scatter",
         "x": [
          "2018",
          "2019",
          "2020",
          "2021",
          "2022"
         ],
         "y": [
          73486,
          76359,
          78352,
          83224,
          92362
         ]
        },
        {
         "hoverinfo": "text",
         "mode": "markers",
         "name": "89149",
         "text": [
          "Zip Code: 89149<br>Year: 2018<br>Median Income: $72,318",
          "Zip Code: 89149<br>Year: 2019<br>Median Income: $73,883",
          "Zip Code: 89149<br>Year: 2020<br>Median Income: $77,957",
          "Zip Code: 89149<br>Year: 2021<br>Median Income: $88,059",
          "Zip Code: 89149<br>Year: 2022<br>Median Income: $96,454"
         ],
         "type": "scatter",
         "x": [
          "2018",
          "2019",
          "2020",
          "2021",
          "2022"
         ],
         "y": [
          72318,
          73883,
          77957,
          88059,
          96454
         ]
        },
        {
         "hoverinfo": "text",
         "mode": "markers",
         "name": "89156",
         "text": [
          "Zip Code: 89156<br>Year: 2018<br>Median Income: $47,641",
          "Zip Code: 89156<br>Year: 2019<br>Median Income: $48,920",
          "Zip Code: 89156<br>Year: 2020<br>Median Income: $52,323",
          "Zip Code: 89156<br>Year: 2021<br>Median Income: $56,315",
          "Zip Code: 89156<br>Year: 2022<br>Median Income: $61,856"
         ],
         "type": "scatter",
         "x": [
          "2018",
          "2019",
          "2020",
          "2021",
          "2022"
         ],
         "y": [
          47641,
          48920,
          52323,
          56315,
          61856
         ]
        },
        {
         "hoverinfo": "text",
         "mode": "markers",
         "name": "89158",
         "text": [
          "Zip Code: 89158<br>Year: 2018<br>Median Income: $29,414",
          "Zip Code: 89158<br>Year: 2019<br>Median Income: $30,581",
          "Zip Code: 89158<br>Year: 2020<br>Median Income: $32,114",
          "Zip Code: 89158<br>Year: 2021<br>Median Income: $117,500",
          "Zip Code: 89158<br>Year: 2022<br>Median Income: $110,039"
         ],
         "type": "scatter",
         "x": [
          "2018",
          "2019",
          "2020",
          "2021",
          "2022"
         ],
         "y": [
          29414,
          30581,
          32114,
          117500,
          110039
         ]
        },
        {
         "hoverinfo": "text",
         "mode": "markers",
         "name": "89169",
         "text": [
          "Zip Code: 89169<br>Year: 2018<br>Median Income: $82,554",
          "Zip Code: 89169<br>Year: 2019<br>Median Income: $88,517",
          "Zip Code: 89169<br>Year: 2020<br>Median Income: $90,801",
          "Zip Code: 89169<br>Year: 2021<br>Median Income: $32,050",
          "Zip Code: 89169<br>Year: 2022<br>Median Income: $37,200"
         ],
         "type": "scatter",
         "x": [
          "2018",
          "2019",
          "2020",
          "2021",
          "2022"
         ],
         "y": [
          82554,
          88517,
          90801,
          32050,
          37200
         ]
        },
        {
         "hoverinfo": "text",
         "mode": "markers",
         "name": "89178",
         "text": [
          "Zip Code: 89178<br>Year: 2018<br>Median Income: $92,634",
          "Zip Code: 89178<br>Year: 2019<br>Median Income: $99,662",
          "Zip Code: 89178<br>Year: 2020<br>Median Income: $96,460",
          "Zip Code: 89178<br>Year: 2021<br>Median Income: $92,471",
          "Zip Code: 89178<br>Year: 2022<br>Median Income: $101,256"
         ],
         "type": "scatter",
         "x": [
          "2018",
          "2019",
          "2020",
          "2021",
          "2022"
         ],
         "y": [
          92634,
          99662,
          96460,
          92471,
          101256
         ]
        },
        {
         "hoverinfo": "text",
         "mode": "markers",
         "name": "89179",
         "text": [
          "Zip Code: 89179<br>Year: 2018<br>Median Income: $65,491",
          "Zip Code: 89179<br>Year: 2019<br>Median Income: $65,988",
          "Zip Code: 89179<br>Year: 2020<br>Median Income: $65,943",
          "Zip Code: 89179<br>Year: 2021<br>Median Income: $100,840",
          "Zip Code: 89179<br>Year: 2022<br>Median Income: $110,356"
         ],
         "type": "scatter",
         "x": [
          "2018",
          "2019",
          "2020",
          "2021",
          "2022"
         ],
         "y": [
          65491,
          65988,
          65943,
          100840,
          110356
         ]
        },
        {
         "hoverinfo": "text",
         "mode": "markers",
         "name": "89183",
         "text": [
          "Zip Code: 89183<br>Year: 2018<br>Median Income: $nan",
          "Zip Code: 89183<br>Year: 2019<br>Median Income: $nan",
          "Zip Code: 89183<br>Year: 2020<br>Median Income: $nan",
          "Zip Code: 89183<br>Year: 2021<br>Median Income: $69,125",
          "Zip Code: 89183<br>Year: 2022<br>Median Income: $76,488"
         ],
         "type": "scatter",
         "x": [
          "2018",
          "2019",
          "2020",
          "2021",
          "2022"
         ],
         "y": [
          null,
          null,
          null,
          69125,
          76488
         ]
        }
       ],
       "layout": {
        "legend": {
         "title": {
          "text": "Zip Code"
         }
        },
        "template": {
         "data": {
          "bar": [
           {
            "error_x": {
             "color": "#2a3f5f"
            },
            "error_y": {
             "color": "#2a3f5f"
            },
            "marker": {
             "line": {
              "color": "#E5ECF6",
              "width": 0.5
             },
             "pattern": {
              "fillmode": "overlay",
              "size": 10,
              "solidity": 0.2
             }
            },
            "type": "bar"
           }
          ],
          "barpolar": [
           {
            "marker": {
             "line": {
              "color": "#E5ECF6",
              "width": 0.5
             },
             "pattern": {
              "fillmode": "overlay",
              "size": 10,
              "solidity": 0.2
             }
            },
            "type": "barpolar"
           }
          ],
          "carpet": [
           {
            "aaxis": {
             "endlinecolor": "#2a3f5f",
             "gridcolor": "white",
             "linecolor": "white",
             "minorgridcolor": "white",
             "startlinecolor": "#2a3f5f"
            },
            "baxis": {
             "endlinecolor": "#2a3f5f",
             "gridcolor": "white",
             "linecolor": "white",
             "minorgridcolor": "white",
             "startlinecolor": "#2a3f5f"
            },
            "type": "carpet"
           }
          ],
          "choropleth": [
           {
            "colorbar": {
             "outlinewidth": 0,
             "ticks": ""
            },
            "type": "choropleth"
           }
          ],
          "contour": [
           {
            "colorbar": {
             "outlinewidth": 0,
             "ticks": ""
            },
            "colorscale": [
             [
              0,
              "#0d0887"
             ],
             [
              0.1111111111111111,
              "#46039f"
             ],
             [
              0.2222222222222222,
              "#7201a8"
             ],
             [
              0.3333333333333333,
              "#9c179e"
             ],
             [
              0.4444444444444444,
              "#bd3786"
             ],
             [
              0.5555555555555556,
              "#d8576b"
             ],
             [
              0.6666666666666666,
              "#ed7953"
             ],
             [
              0.7777777777777778,
              "#fb9f3a"
             ],
             [
              0.8888888888888888,
              "#fdca26"
             ],
             [
              1,
              "#f0f921"
             ]
            ],
            "type": "contour"
           }
          ],
          "contourcarpet": [
           {
            "colorbar": {
             "outlinewidth": 0,
             "ticks": ""
            },
            "type": "contourcarpet"
           }
          ],
          "heatmap": [
           {
            "colorbar": {
             "outlinewidth": 0,
             "ticks": ""
            },
            "colorscale": [
             [
              0,
              "#0d0887"
             ],
             [
              0.1111111111111111,
              "#46039f"
             ],
             [
              0.2222222222222222,
              "#7201a8"
             ],
             [
              0.3333333333333333,
              "#9c179e"
             ],
             [
              0.4444444444444444,
              "#bd3786"
             ],
             [
              0.5555555555555556,
              "#d8576b"
             ],
             [
              0.6666666666666666,
              "#ed7953"
             ],
             [
              0.7777777777777778,
              "#fb9f3a"
             ],
             [
              0.8888888888888888,
              "#fdca26"
             ],
             [
              1,
              "#f0f921"
             ]
            ],
            "type": "heatmap"
           }
          ],
          "heatmapgl": [
           {
            "colorbar": {
             "outlinewidth": 0,
             "ticks": ""
            },
            "colorscale": [
             [
              0,
              "#0d0887"
             ],
             [
              0.1111111111111111,
              "#46039f"
             ],
             [
              0.2222222222222222,
              "#7201a8"
             ],
             [
              0.3333333333333333,
              "#9c179e"
             ],
             [
              0.4444444444444444,
              "#bd3786"
             ],
             [
              0.5555555555555556,
              "#d8576b"
             ],
             [
              0.6666666666666666,
              "#ed7953"
             ],
             [
              0.7777777777777778,
              "#fb9f3a"
             ],
             [
              0.8888888888888888,
              "#fdca26"
             ],
             [
              1,
              "#f0f921"
             ]
            ],
            "type": "heatmapgl"
           }
          ],
          "histogram": [
           {
            "marker": {
             "pattern": {
              "fillmode": "overlay",
              "size": 10,
              "solidity": 0.2
             }
            },
            "type": "histogram"
           }
          ],
          "histogram2d": [
           {
            "colorbar": {
             "outlinewidth": 0,
             "ticks": ""
            },
            "colorscale": [
             [
              0,
              "#0d0887"
             ],
             [
              0.1111111111111111,
              "#46039f"
             ],
             [
              0.2222222222222222,
              "#7201a8"
             ],
             [
              0.3333333333333333,
              "#9c179e"
             ],
             [
              0.4444444444444444,
              "#bd3786"
             ],
             [
              0.5555555555555556,
              "#d8576b"
             ],
             [
              0.6666666666666666,
              "#ed7953"
             ],
             [
              0.7777777777777778,
              "#fb9f3a"
             ],
             [
              0.8888888888888888,
              "#fdca26"
             ],
             [
              1,
              "#f0f921"
             ]
            ],
            "type": "histogram2d"
           }
          ],
          "histogram2dcontour": [
           {
            "colorbar": {
             "outlinewidth": 0,
             "ticks": ""
            },
            "colorscale": [
             [
              0,
              "#0d0887"
             ],
             [
              0.1111111111111111,
              "#46039f"
             ],
             [
              0.2222222222222222,
              "#7201a8"
             ],
             [
              0.3333333333333333,
              "#9c179e"
             ],
             [
              0.4444444444444444,
              "#bd3786"
             ],
             [
              0.5555555555555556,
              "#d8576b"
             ],
             [
              0.6666666666666666,
              "#ed7953"
             ],
             [
              0.7777777777777778,
              "#fb9f3a"
             ],
             [
              0.8888888888888888,
              "#fdca26"
             ],
             [
              1,
              "#f0f921"
             ]
            ],
            "type": "histogram2dcontour"
           }
          ],
          "mesh3d": [
           {
            "colorbar": {
             "outlinewidth": 0,
             "ticks": ""
            },
            "type": "mesh3d"
           }
          ],
          "parcoords": [
           {
            "line": {
             "colorbar": {
              "outlinewidth": 0,
              "ticks": ""
             }
            },
            "type": "parcoords"
           }
          ],
          "pie": [
           {
            "automargin": true,
            "type": "pie"
           }
          ],
          "scatter": [
           {
            "fillpattern": {
             "fillmode": "overlay",
             "size": 10,
             "solidity": 0.2
            },
            "type": "scatter"
           }
          ],
          "scatter3d": [
           {
            "line": {
             "colorbar": {
              "outlinewidth": 0,
              "ticks": ""
             }
            },
            "marker": {
             "colorbar": {
              "outlinewidth": 0,
              "ticks": ""
             }
            },
            "type": "scatter3d"
           }
          ],
          "scattercarpet": [
           {
            "marker": {
             "colorbar": {
              "outlinewidth": 0,
              "ticks": ""
             }
            },
            "type": "scattercarpet"
           }
          ],
          "scattergeo": [
           {
            "marker": {
             "colorbar": {
              "outlinewidth": 0,
              "ticks": ""
             }
            },
            "type": "scattergeo"
           }
          ],
          "scattergl": [
           {
            "marker": {
             "colorbar": {
              "outlinewidth": 0,
              "ticks": ""
             }
            },
            "type": "scattergl"
           }
          ],
          "scattermapbox": [
           {
            "marker": {
             "colorbar": {
              "outlinewidth": 0,
              "ticks": ""
             }
            },
            "type": "scattermapbox"
           }
          ],
          "scatterpolar": [
           {
            "marker": {
             "colorbar": {
              "outlinewidth": 0,
              "ticks": ""
             }
            },
            "type": "scatterpolar"
           }
          ],
          "scatterpolargl": [
           {
            "marker": {
             "colorbar": {
              "outlinewidth": 0,
              "ticks": ""
             }
            },
            "type": "scatterpolargl"
           }
          ],
          "scatterternary": [
           {
            "marker": {
             "colorbar": {
              "outlinewidth": 0,
              "ticks": ""
             }
            },
            "type": "scatterternary"
           }
          ],
          "surface": [
           {
            "colorbar": {
             "outlinewidth": 0,
             "ticks": ""
            },
            "colorscale": [
             [
              0,
              "#0d0887"
             ],
             [
              0.1111111111111111,
              "#46039f"
             ],
             [
              0.2222222222222222,
              "#7201a8"
             ],
             [
              0.3333333333333333,
              "#9c179e"
             ],
             [
              0.4444444444444444,
              "#bd3786"
             ],
             [
              0.5555555555555556,
              "#d8576b"
             ],
             [
              0.6666666666666666,
              "#ed7953"
             ],
             [
              0.7777777777777778,
              "#fb9f3a"
             ],
             [
              0.8888888888888888,
              "#fdca26"
             ],
             [
              1,
              "#f0f921"
             ]
            ],
            "type": "surface"
           }
          ],
          "table": [
           {
            "cells": {
             "fill": {
              "color": "#EBF0F8"
             },
             "line": {
              "color": "white"
             }
            },
            "header": {
             "fill": {
              "color": "#C8D4E3"
             },
             "line": {
              "color": "white"
             }
            },
            "type": "table"
           }
          ]
         },
         "layout": {
          "annotationdefaults": {
           "arrowcolor": "#2a3f5f",
           "arrowhead": 0,
           "arrowwidth": 1
          },
          "autotypenumbers": "strict",
          "coloraxis": {
           "colorbar": {
            "outlinewidth": 0,
            "ticks": ""
           }
          },
          "colorscale": {
           "diverging": [
            [
             0,
             "#8e0152"
            ],
            [
             0.1,
             "#c51b7d"
            ],
            [
             0.2,
             "#de77ae"
            ],
            [
             0.3,
             "#f1b6da"
            ],
            [
             0.4,
             "#fde0ef"
            ],
            [
             0.5,
             "#f7f7f7"
            ],
            [
             0.6,
             "#e6f5d0"
            ],
            [
             0.7,
             "#b8e186"
            ],
            [
             0.8,
             "#7fbc41"
            ],
            [
             0.9,
             "#4d9221"
            ],
            [
             1,
             "#276419"
            ]
           ],
           "sequential": [
            [
             0,
             "#0d0887"
            ],
            [
             0.1111111111111111,
             "#46039f"
            ],
            [
             0.2222222222222222,
             "#7201a8"
            ],
            [
             0.3333333333333333,
             "#9c179e"
            ],
            [
             0.4444444444444444,
             "#bd3786"
            ],
            [
             0.5555555555555556,
             "#d8576b"
            ],
            [
             0.6666666666666666,
             "#ed7953"
            ],
            [
             0.7777777777777778,
             "#fb9f3a"
            ],
            [
             0.8888888888888888,
             "#fdca26"
            ],
            [
             1,
             "#f0f921"
            ]
           ],
           "sequentialminus": [
            [
             0,
             "#0d0887"
            ],
            [
             0.1111111111111111,
             "#46039f"
            ],
            [
             0.2222222222222222,
             "#7201a8"
            ],
            [
             0.3333333333333333,
             "#9c179e"
            ],
            [
             0.4444444444444444,
             "#bd3786"
            ],
            [
             0.5555555555555556,
             "#d8576b"
            ],
            [
             0.6666666666666666,
             "#ed7953"
            ],
            [
             0.7777777777777778,
             "#fb9f3a"
            ],
            [
             0.8888888888888888,
             "#fdca26"
            ],
            [
             1,
             "#f0f921"
            ]
           ]
          },
          "colorway": [
           "#636efa",
           "#EF553B",
           "#00cc96",
           "#ab63fa",
           "#FFA15A",
           "#19d3f3",
           "#FF6692",
           "#B6E880",
           "#FF97FF",
           "#FECB52"
          ],
          "font": {
           "color": "#2a3f5f"
          },
          "geo": {
           "bgcolor": "white",
           "lakecolor": "white",
           "landcolor": "#E5ECF6",
           "showlakes": true,
           "showland": true,
           "subunitcolor": "white"
          },
          "hoverlabel": {
           "align": "left"
          },
          "hovermode": "closest",
          "mapbox": {
           "style": "light"
          },
          "paper_bgcolor": "white",
          "plot_bgcolor": "#E5ECF6",
          "polar": {
           "angularaxis": {
            "gridcolor": "white",
            "linecolor": "white",
            "ticks": ""
           },
           "bgcolor": "#E5ECF6",
           "radialaxis": {
            "gridcolor": "white",
            "linecolor": "white",
            "ticks": ""
           }
          },
          "scene": {
           "xaxis": {
            "backgroundcolor": "#E5ECF6",
            "gridcolor": "white",
            "gridwidth": 2,
            "linecolor": "white",
            "showbackground": true,
            "ticks": "",
            "zerolinecolor": "white"
           },
           "yaxis": {
            "backgroundcolor": "#E5ECF6",
            "gridcolor": "white",
            "gridwidth": 2,
            "linecolor": "white",
            "showbackground": true,
            "ticks": "",
            "zerolinecolor": "white"
           },
           "zaxis": {
            "backgroundcolor": "#E5ECF6",
            "gridcolor": "white",
            "gridwidth": 2,
            "linecolor": "white",
            "showbackground": true,
            "ticks": "",
            "zerolinecolor": "white"
           }
          },
          "shapedefaults": {
           "line": {
            "color": "#2a3f5f"
           }
          },
          "ternary": {
           "aaxis": {
            "gridcolor": "white",
            "linecolor": "white",
            "ticks": ""
           },
           "baxis": {
            "gridcolor": "white",
            "linecolor": "white",
            "ticks": ""
           },
           "bgcolor": "#E5ECF6",
           "caxis": {
            "gridcolor": "white",
            "linecolor": "white",
            "ticks": ""
           }
          },
          "title": {
           "x": 0.05
          },
          "xaxis": {
           "automargin": true,
           "gridcolor": "white",
           "linecolor": "white",
           "ticks": "",
           "title": {
            "standoff": 15
           },
           "zerolinecolor": "white",
           "zerolinewidth": 2
          },
          "yaxis": {
           "automargin": true,
           "gridcolor": "white",
           "linecolor": "white",
           "ticks": "",
           "title": {
            "standoff": 15
           },
           "zerolinecolor": "white",
           "zerolinewidth": 2
          }
         }
        },
        "title": {
         "text": "Median Income by Zip Code in Las Vegas (2018-2022)"
        },
        "xaxis": {
         "title": {
          "text": "Year"
         }
        },
        "yaxis": {
         "title": {
          "text": "Median Income (USD)"
         }
        }
       }
      },
      "text/html": [
       "<div>                            <div id=\"c7debd4b-3696-47a4-805c-7457333afa2f\" class=\"plotly-graph-div\" style=\"height:525px; width:100%;\"></div>            <script type=\"text/javascript\">                require([\"plotly\"], function(Plotly) {                    window.PLOTLYENV=window.PLOTLYENV || {};                                    if (document.getElementById(\"c7debd4b-3696-47a4-805c-7457333afa2f\")) {                    Plotly.newPlot(                        \"c7debd4b-3696-47a4-805c-7457333afa2f\",                        [{\"hoverinfo\":\"text\",\"mode\":\"markers\",\"name\":\"89002\",\"text\":[\"Zip Code: 89002<br>Year: 2018<br>Median Income: $79,966\",\"Zip Code: 89002<br>Year: 2019<br>Median Income: $82,778\",\"Zip Code: 89002<br>Year: 2020<br>Median Income: $83,700\",\"Zip Code: 89002<br>Year: 2021<br>Median Income: $88,425\",\"Zip Code: 89002<br>Year: 2022<br>Median Income: $95,346\"],\"x\":[\"2018\",\"2019\",\"2020\",\"2021\",\"2022\"],\"y\":[79966.0,82778.0,83700.0,88425.0,95346.0],\"type\":\"scatter\"},{\"hoverinfo\":\"text\",\"mode\":\"markers\",\"name\":\"89011\",\"text\":[\"Zip Code: 89011<br>Year: 2018<br>Median Income: $64,981\",\"Zip Code: 89011<br>Year: 2019<br>Median Income: $70,129\",\"Zip Code: 89011<br>Year: 2020<br>Median Income: $77,100\",\"Zip Code: 89011<br>Year: 2021<br>Median Income: $81,736\",\"Zip Code: 89011<br>Year: 2022<br>Median Income: $85,009\"],\"x\":[\"2018\",\"2019\",\"2020\",\"2021\",\"2022\"],\"y\":[64981.0,70129.0,77100.0,81736.0,85009.0],\"type\":\"scatter\"},{\"hoverinfo\":\"text\",\"mode\":\"markers\",\"name\":\"89012\",\"text\":[\"Zip Code: 89012<br>Year: 2018<br>Median Income: $74,170\",\"Zip Code: 89012<br>Year: 2019<br>Median Income: $81,992\",\"Zip Code: 89012<br>Year: 2020<br>Median Income: $79,727\",\"Zip Code: 89012<br>Year: 2021<br>Median Income: $81,896\",\"Zip Code: 89012<br>Year: 2022<br>Median Income: $89,177\"],\"x\":[\"2018\",\"2019\",\"2020\",\"2021\",\"2022\"],\"y\":[74170.0,81992.0,79727.0,81896.0,89177.0],\"type\":\"scatter\"},{\"hoverinfo\":\"text\",\"mode\":\"markers\",\"name\":\"89014\",\"text\":[\"Zip Code: 89014<br>Year: 2018<br>Median Income: $58,369\",\"Zip Code: 89014<br>Year: 2019<br>Median Income: $61,194\",\"Zip Code: 89014<br>Year: 2020<br>Median Income: $61,752\",\"Zip Code: 89014<br>Year: 2021<br>Median Income: $65,719\",\"Zip Code: 89014<br>Year: 2022<br>Median Income: $69,848\"],\"x\":[\"2018\",\"2019\",\"2020\",\"2021\",\"2022\"],\"y\":[58369.0,61194.0,61752.0,65719.0,69848.0],\"type\":\"scatter\"},{\"hoverinfo\":\"text\",\"mode\":\"markers\",\"name\":\"89015\",\"text\":[\"Zip Code: 89015<br>Year: 2018<br>Median Income: $55,164\",\"Zip Code: 89015<br>Year: 2019<br>Median Income: $56,569\",\"Zip Code: 89015<br>Year: 2020<br>Median Income: $57,049\",\"Zip Code: 89015<br>Year: 2021<br>Median Income: $60,301\",\"Zip Code: 89015<br>Year: 2022<br>Median Income: $66,195\"],\"x\":[\"2018\",\"2019\",\"2020\",\"2021\",\"2022\"],\"y\":[55164.0,56569.0,57049.0,60301.0,66195.0],\"type\":\"scatter\"},{\"hoverinfo\":\"text\",\"mode\":\"markers\",\"name\":\"89030\",\"text\":[\"Zip Code: 89030<br>Year: 2018<br>Median Income: $35,028\",\"Zip Code: 89030<br>Year: 2019<br>Median Income: $36,275\",\"Zip Code: 89030<br>Year: 2020<br>Median Income: $36,993\",\"Zip Code: 89030<br>Year: 2021<br>Median Income: $41,049\",\"Zip Code: 89030<br>Year: 2022<br>Median Income: $42,794\"],\"x\":[\"2018\",\"2019\",\"2020\",\"2021\",\"2022\"],\"y\":[35028.0,36275.0,36993.0,41049.0,42794.0],\"type\":\"scatter\"},{\"hoverinfo\":\"text\",\"mode\":\"markers\",\"name\":\"89032\",\"text\":[\"Zip Code: 89032<br>Year: 2018<br>Median Income: $59,427\",\"Zip Code: 89032<br>Year: 2019<br>Median Income: $60,294\",\"Zip Code: 89032<br>Year: 2020<br>Median Income: $60,995\",\"Zip Code: 89032<br>Year: 2021<br>Median Income: $64,659\",\"Zip Code: 89032<br>Year: 2022<br>Median Income: $71,262\"],\"x\":[\"2018\",\"2019\",\"2020\",\"2021\",\"2022\"],\"y\":[59427.0,60294.0,60995.0,64659.0,71262.0],\"type\":\"scatter\"},{\"hoverinfo\":\"text\",\"mode\":\"markers\",\"name\":\"89044\",\"text\":[\"Zip Code: 89044<br>Year: 2018<br>Median Income: $82,144\",\"Zip Code: 89044<br>Year: 2019<br>Median Income: $89,012\",\"Zip Code: 89044<br>Year: 2020<br>Median Income: $97,917\",\"Zip Code: 89044<br>Year: 2021<br>Median Income: $99,987\",\"Zip Code: 89044<br>Year: 2022<br>Median Income: $107,255\"],\"x\":[\"2018\",\"2019\",\"2020\",\"2021\",\"2022\"],\"y\":[82144.0,89012.0,97917.0,99987.0,107255.0],\"type\":\"scatter\"},{\"hoverinfo\":\"text\",\"mode\":\"markers\",\"name\":\"89052\",\"text\":[\"Zip Code: 89052<br>Year: 2018<br>Median Income: $80,984\",\"Zip Code: 89052<br>Year: 2019<br>Median Income: $85,021\",\"Zip Code: 89052<br>Year: 2020<br>Median Income: $86,589\",\"Zip Code: 89052<br>Year: 2021<br>Median Income: $90,064\",\"Zip Code: 89052<br>Year: 2022<br>Median Income: $96,944\"],\"x\":[\"2018\",\"2019\",\"2020\",\"2021\",\"2022\"],\"y\":[80984.0,85021.0,86589.0,90064.0,96944.0],\"type\":\"scatter\"},{\"hoverinfo\":\"text\",\"mode\":\"markers\",\"name\":\"89074\",\"text\":[\"Zip Code: 89074<br>Year: 2018<br>Median Income: $71,805\",\"Zip Code: 89074<br>Year: 2019<br>Median Income: $76,422\",\"Zip Code: 89074<br>Year: 2020<br>Median Income: $77,935\",\"Zip Code: 89074<br>Year: 2021<br>Median Income: $81,799\",\"Zip Code: 89074<br>Year: 2022<br>Median Income: $86,015\"],\"x\":[\"2018\",\"2019\",\"2020\",\"2021\",\"2022\"],\"y\":[71805.0,76422.0,77935.0,81799.0,86015.0],\"type\":\"scatter\"},{\"hoverinfo\":\"text\",\"mode\":\"markers\",\"name\":\"89081\",\"text\":[\"Zip Code: 89081<br>Year: 2018<br>Median Income: $65,322\",\"Zip Code: 89081<br>Year: 2019<br>Median Income: $68,787\",\"Zip Code: 89081<br>Year: 2020<br>Median Income: $71,206\",\"Zip Code: 89081<br>Year: 2021<br>Median Income: $74,297\",\"Zip Code: 89081<br>Year: 2022<br>Median Income: $87,378\"],\"x\":[\"2018\",\"2019\",\"2020\",\"2021\",\"2022\"],\"y\":[65322.0,68787.0,71206.0,74297.0,87378.0],\"type\":\"scatter\"},{\"hoverinfo\":\"text\",\"mode\":\"markers\",\"name\":\"89084\",\"text\":[\"Zip Code: 89084<br>Year: 2018<br>Median Income: $75,571\",\"Zip Code: 89084<br>Year: 2019<br>Median Income: $80,921\",\"Zip Code: 89084<br>Year: 2020<br>Median Income: $79,766\",\"Zip Code: 89084<br>Year: 2021<br>Median Income: $86,311\",\"Zip Code: 89084<br>Year: 2022<br>Median Income: $93,575\"],\"x\":[\"2018\",\"2019\",\"2020\",\"2021\",\"2022\"],\"y\":[75571.0,80921.0,79766.0,86311.0,93575.0],\"type\":\"scatter\"},{\"hoverinfo\":\"text\",\"mode\":\"markers\",\"name\":\"89085\",\"text\":[\"Zip Code: 89085<br>Year: 2018<br>Median Income: $121,609\",\"Zip Code: 89085<br>Year: 2019<br>Median Income: $120,194\",\"Zip Code: 89085<br>Year: 2020<br>Median Income: $98,713\",\"Zip Code: 89085<br>Year: 2021<br>Median Income: $110,863\",\"Zip Code: 89085<br>Year: 2022<br>Median Income: $111,577\"],\"x\":[\"2018\",\"2019\",\"2020\",\"2021\",\"2022\"],\"y\":[121609.0,120194.0,98713.0,110863.0,111577.0],\"type\":\"scatter\"},{\"hoverinfo\":\"text\",\"mode\":\"markers\",\"name\":\"89086\",\"text\":[\"Zip Code: 89086<br>Year: 2018<br>Median Income: $58,577\",\"Zip Code: 89086<br>Year: 2019<br>Median Income: $61,741\",\"Zip Code: 89086<br>Year: 2020<br>Median Income: $49,046\",\"Zip Code: 89086<br>Year: 2021<br>Median Income: $52,103\",\"Zip Code: 89086<br>Year: 2022<br>Median Income: $56,927\"],\"x\":[\"2018\",\"2019\",\"2020\",\"2021\",\"2022\"],\"y\":[58577.0,61741.0,49046.0,52103.0,56927.0],\"type\":\"scatter\"},{\"hoverinfo\":\"text\",\"mode\":\"markers\",\"name\":\"89102\",\"text\":[\"Zip Code: 89102<br>Year: 2018<br>Median Income: $35,627\",\"Zip Code: 89102<br>Year: 2019<br>Median Income: $36,729\",\"Zip Code: 89102<br>Year: 2020<br>Median Income: $38,122\",\"Zip Code: 89102<br>Year: 2021<br>Median Income: $40,565\",\"Zip Code: 89102<br>Year: 2022<br>Median Income: $45,724\"],\"x\":[\"2018\",\"2019\",\"2020\",\"2021\",\"2022\"],\"y\":[35627.0,36729.0,38122.0,40565.0,45724.0],\"type\":\"scatter\"},{\"hoverinfo\":\"text\",\"mode\":\"markers\",\"name\":\"89103\",\"text\":[\"Zip Code: 89103<br>Year: 2018<br>Median Income: $40,261\",\"Zip Code: 89103<br>Year: 2019<br>Median Income: $42,537\",\"Zip Code: 89103<br>Year: 2020<br>Median Income: $42,833\",\"Zip Code: 89103<br>Year: 2021<br>Median Income: $43,401\",\"Zip Code: 89103<br>Year: 2022<br>Median Income: $46,139\"],\"x\":[\"2018\",\"2019\",\"2020\",\"2021\",\"2022\"],\"y\":[40261.0,42537.0,42833.0,43401.0,46139.0],\"type\":\"scatter\"},{\"hoverinfo\":\"text\",\"mode\":\"markers\",\"name\":\"89104\",\"text\":[\"Zip Code: 89104<br>Year: 2018<br>Median Income: $35,484\",\"Zip Code: 89104<br>Year: 2019<br>Median Income: $36,448\",\"Zip Code: 89104<br>Year: 2020<br>Median Income: $38,939\",\"Zip Code: 89104<br>Year: 2021<br>Median Income: $42,583\",\"Zip Code: 89104<br>Year: 2022<br>Median Income: $48,355\"],\"x\":[\"2018\",\"2019\",\"2020\",\"2021\",\"2022\"],\"y\":[35484.0,36448.0,38939.0,42583.0,48355.0],\"type\":\"scatter\"},{\"hoverinfo\":\"text\",\"mode\":\"markers\",\"name\":\"89107\",\"text\":[\"Zip Code: 89107<br>Year: 2018<br>Median Income: $40,605\",\"Zip Code: 89107<br>Year: 2019<br>Median Income: $44,234\",\"Zip Code: 89107<br>Year: 2020<br>Median Income: $42,728\",\"Zip Code: 89107<br>Year: 2021<br>Median Income: $43,569\",\"Zip Code: 89107<br>Year: 2022<br>Median Income: $50,876\"],\"x\":[\"2018\",\"2019\",\"2020\",\"2021\",\"2022\"],\"y\":[40605.0,44234.0,42728.0,43569.0,50876.0],\"type\":\"scatter\"},{\"hoverinfo\":\"text\",\"mode\":\"markers\",\"name\":\"89108\",\"text\":[\"Zip Code: 89108<br>Year: 2018<br>Median Income: $46,759\",\"Zip Code: 89108<br>Year: 2019<br>Median Income: $46,165\",\"Zip Code: 89108<br>Year: 2020<br>Median Income: $49,351\",\"Zip Code: 89108<br>Year: 2021<br>Median Income: $51,161\",\"Zip Code: 89108<br>Year: 2022<br>Median Income: $55,935\"],\"x\":[\"2018\",\"2019\",\"2020\",\"2021\",\"2022\"],\"y\":[46759.0,46165.0,49351.0,51161.0,55935.0],\"type\":\"scatter\"},{\"hoverinfo\":\"text\",\"mode\":\"markers\",\"name\":\"89109\",\"text\":[\"Zip Code: 89109<br>Year: 2018<br>Median Income: $43,206\",\"Zip Code: 89109<br>Year: 2019<br>Median Income: $42,837\",\"Zip Code: 89109<br>Year: 2020<br>Median Income: $44,890\",\"Zip Code: 89109<br>Year: 2021<br>Median Income: $39,680\",\"Zip Code: 89109<br>Year: 2022<br>Median Income: $49,818\"],\"x\":[\"2018\",\"2019\",\"2020\",\"2021\",\"2022\"],\"y\":[43206.0,42837.0,44890.0,39680.0,49818.0],\"type\":\"scatter\"},{\"hoverinfo\":\"text\",\"mode\":\"markers\",\"name\":\"89113\",\"text\":[\"Zip Code: 89113<br>Year: 2018<br>Median Income: $72,212\",\"Zip Code: 89113<br>Year: 2019<br>Median Income: $72,479\",\"Zip Code: 89113<br>Year: 2020<br>Median Income: $76,961\",\"Zip Code: 89113<br>Year: 2021<br>Median Income: $78,636\",\"Zip Code: 89113<br>Year: 2022<br>Median Income: $85,504\"],\"x\":[\"2018\",\"2019\",\"2020\",\"2021\",\"2022\"],\"y\":[72212.0,72479.0,76961.0,78636.0,85504.0],\"type\":\"scatter\"},{\"hoverinfo\":\"text\",\"mode\":\"markers\",\"name\":\"89115\",\"text\":[\"Zip Code: 89115<br>Year: 2018<br>Median Income: $36,050\",\"Zip Code: 89115<br>Year: 2019<br>Median Income: $39,412\",\"Zip Code: 89115<br>Year: 2020<br>Median Income: $41,268\",\"Zip Code: 89115<br>Year: 2021<br>Median Income: $43,114\",\"Zip Code: 89115<br>Year: 2022<br>Median Income: $47,189\"],\"x\":[\"2018\",\"2019\",\"2020\",\"2021\",\"2022\"],\"y\":[36050.0,39412.0,41268.0,43114.0,47189.0],\"type\":\"scatter\"},{\"hoverinfo\":\"text\",\"mode\":\"markers\",\"name\":\"89117\",\"text\":[\"Zip Code: 89117<br>Year: 2018<br>Median Income: $57,954\",\"Zip Code: 89117<br>Year: 2019<br>Median Income: $58,608\",\"Zip Code: 89117<br>Year: 2020<br>Median Income: $60,637\",\"Zip Code: 89117<br>Year: 2021<br>Median Income: $62,059\",\"Zip Code: 89117<br>Year: 2022<br>Median Income: $68,206\"],\"x\":[\"2018\",\"2019\",\"2020\",\"2021\",\"2022\"],\"y\":[57954.0,58608.0,60637.0,62059.0,68206.0],\"type\":\"scatter\"},{\"hoverinfo\":\"text\",\"mode\":\"markers\",\"name\":\"89118\",\"text\":[\"Zip Code: 89118<br>Year: 2018<br>Median Income: $55,444\",\"Zip Code: 89118<br>Year: 2019<br>Median Income: $57,859\",\"Zip Code: 89118<br>Year: 2020<br>Median Income: $59,911\",\"Zip Code: 89118<br>Year: 2021<br>Median Income: $64,779\",\"Zip Code: 89118<br>Year: 2022<br>Median Income: $65,929\"],\"x\":[\"2018\",\"2019\",\"2020\",\"2021\",\"2022\"],\"y\":[55444.0,57859.0,59911.0,64779.0,65929.0],\"type\":\"scatter\"},{\"hoverinfo\":\"text\",\"mode\":\"markers\",\"name\":\"89119\",\"text\":[\"Zip Code: 89119<br>Year: 2018<br>Median Income: $34,312\",\"Zip Code: 89119<br>Year: 2019<br>Median Income: $35,705\",\"Zip Code: 89119<br>Year: 2020<br>Median Income: $38,659\",\"Zip Code: 89119<br>Year: 2021<br>Median Income: $41,298\",\"Zip Code: 89119<br>Year: 2022<br>Median Income: $44,939\"],\"x\":[\"2018\",\"2019\",\"2020\",\"2021\",\"2022\"],\"y\":[34312.0,35705.0,38659.0,41298.0,44939.0],\"type\":\"scatter\"},{\"hoverinfo\":\"text\",\"mode\":\"markers\",\"name\":\"89120\",\"text\":[\"Zip Code: 89120<br>Year: 2018<br>Median Income: $49,267\",\"Zip Code: 89120<br>Year: 2019<br>Median Income: $51,347\",\"Zip Code: 89120<br>Year: 2020<br>Median Income: $57,365\",\"Zip Code: 89120<br>Year: 2021<br>Median Income: $58,675\",\"Zip Code: 89120<br>Year: 2022<br>Median Income: $68,934\"],\"x\":[\"2018\",\"2019\",\"2020\",\"2021\",\"2022\"],\"y\":[49267.0,51347.0,57365.0,58675.0,68934.0],\"type\":\"scatter\"},{\"hoverinfo\":\"text\",\"mode\":\"markers\",\"name\":\"89121\",\"text\":[\"Zip Code: 89121<br>Year: 2018<br>Median Income: $39,528\",\"Zip Code: 89121<br>Year: 2019<br>Median Income: $42,530\",\"Zip Code: 89121<br>Year: 2020<br>Median Income: $43,160\",\"Zip Code: 89121<br>Year: 2021<br>Median Income: $46,004\",\"Zip Code: 89121<br>Year: 2022<br>Median Income: $50,757\"],\"x\":[\"2018\",\"2019\",\"2020\",\"2021\",\"2022\"],\"y\":[39528.0,42530.0,43160.0,46004.0,50757.0],\"type\":\"scatter\"},{\"hoverinfo\":\"text\",\"mode\":\"markers\",\"name\":\"89122\",\"text\":[\"Zip Code: 89122<br>Year: 2018<br>Median Income: $45,708\",\"Zip Code: 89122<br>Year: 2019<br>Median Income: $46,448\",\"Zip Code: 89122<br>Year: 2020<br>Median Income: $47,950\",\"Zip Code: 89122<br>Year: 2021<br>Median Income: $49,463\",\"Zip Code: 89122<br>Year: 2022<br>Median Income: $55,216\"],\"x\":[\"2018\",\"2019\",\"2020\",\"2021\",\"2022\"],\"y\":[45708.0,46448.0,47950.0,49463.0,55216.0],\"type\":\"scatter\"},{\"hoverinfo\":\"text\",\"mode\":\"markers\",\"name\":\"89123\",\"text\":[\"Zip Code: 89123<br>Year: 2018<br>Median Income: $66,710\",\"Zip Code: 89123<br>Year: 2019<br>Median Income: $68,691\",\"Zip Code: 89123<br>Year: 2020<br>Median Income: $71,905\",\"Zip Code: 89123<br>Year: 2021<br>Median Income: $74,538\",\"Zip Code: 89123<br>Year: 2022<br>Median Income: $78,195\"],\"x\":[\"2018\",\"2019\",\"2020\",\"2021\",\"2022\"],\"y\":[66710.0,68691.0,71905.0,74538.0,78195.0],\"type\":\"scatter\"},{\"hoverinfo\":\"text\",\"mode\":\"markers\",\"name\":\"89128\",\"text\":[\"Zip Code: 89128<br>Year: 2018<br>Median Income: $58,575\",\"Zip Code: 89128<br>Year: 2019<br>Median Income: $57,456\",\"Zip Code: 89128<br>Year: 2020<br>Median Income: $59,045\",\"Zip Code: 89128<br>Year: 2021<br>Median Income: $63,657\",\"Zip Code: 89128<br>Year: 2022<br>Median Income: $66,534\"],\"x\":[\"2018\",\"2019\",\"2020\",\"2021\",\"2022\"],\"y\":[58575.0,57456.0,59045.0,63657.0,66534.0],\"type\":\"scatter\"},{\"hoverinfo\":\"text\",\"mode\":\"markers\",\"name\":\"89129\",\"text\":[\"Zip Code: 89129<br>Year: 2018<br>Median Income: $71,464\",\"Zip Code: 89129<br>Year: 2019<br>Median Income: $75,719\",\"Zip Code: 89129<br>Year: 2020<br>Median Income: $79,275\",\"Zip Code: 89129<br>Year: 2021<br>Median Income: $82,439\",\"Zip Code: 89129<br>Year: 2022<br>Median Income: $87,620\"],\"x\":[\"2018\",\"2019\",\"2020\",\"2021\",\"2022\"],\"y\":[71464.0,75719.0,79275.0,82439.0,87620.0],\"type\":\"scatter\"},{\"hoverinfo\":\"text\",\"mode\":\"markers\",\"name\":\"89130\",\"text\":[\"Zip Code: 89130<br>Year: 2018<br>Median Income: $64,480\",\"Zip Code: 89130<br>Year: 2019<br>Median Income: $68,764\",\"Zip Code: 89130<br>Year: 2020<br>Median Income: $72,308\",\"Zip Code: 89130<br>Year: 2021<br>Median Income: $78,518\",\"Zip Code: 89130<br>Year: 2022<br>Median Income: $81,584\"],\"x\":[\"2018\",\"2019\",\"2020\",\"2021\",\"2022\"],\"y\":[64480.0,68764.0,72308.0,78518.0,81584.0],\"type\":\"scatter\"},{\"hoverinfo\":\"text\",\"mode\":\"markers\",\"name\":\"89131\",\"text\":[\"Zip Code: 89131<br>Year: 2018<br>Median Income: $93,337\",\"Zip Code: 89131<br>Year: 2019<br>Median Income: $99,145\",\"Zip Code: 89131<br>Year: 2020<br>Median Income: $100,838\",\"Zip Code: 89131<br>Year: 2021<br>Median Income: $104,688\",\"Zip Code: 89131<br>Year: 2022<br>Median Income: $109,956\"],\"x\":[\"2018\",\"2019\",\"2020\",\"2021\",\"2022\"],\"y\":[93337.0,99145.0,100838.0,104688.0,109956.0],\"type\":\"scatter\"},{\"hoverinfo\":\"text\",\"mode\":\"markers\",\"name\":\"89134\",\"text\":[\"Zip Code: 89134<br>Year: 2018<br>Median Income: $66,904\",\"Zip Code: 89134<br>Year: 2019<br>Median Income: $69,461\",\"Zip Code: 89134<br>Year: 2020<br>Median Income: $67,184\",\"Zip Code: 89134<br>Year: 2021<br>Median Income: $70,335\",\"Zip Code: 89134<br>Year: 2022<br>Median Income: $76,500\"],\"x\":[\"2018\",\"2019\",\"2020\",\"2021\",\"2022\"],\"y\":[66904.0,69461.0,67184.0,70335.0,76500.0],\"type\":\"scatter\"},{\"hoverinfo\":\"text\",\"mode\":\"markers\",\"name\":\"89135\",\"text\":[\"Zip Code: 89135<br>Year: 2018<br>Median Income: $89,046\",\"Zip Code: 89135<br>Year: 2019<br>Median Income: $94,821\",\"Zip Code: 89135<br>Year: 2020<br>Median Income: $100,022\",\"Zip Code: 89135<br>Year: 2021<br>Median Income: $105,087\",\"Zip Code: 89135<br>Year: 2022<br>Median Income: $113,377\"],\"x\":[\"2018\",\"2019\",\"2020\",\"2021\",\"2022\"],\"y\":[89046.0,94821.0,100022.0,105087.0,113377.0],\"type\":\"scatter\"},{\"hoverinfo\":\"text\",\"mode\":\"markers\",\"name\":\"89138\",\"text\":[\"Zip Code: 89138<br>Year: 2018<br>Median Income: $112,972\",\"Zip Code: 89138<br>Year: 2019<br>Median Income: $120,759\",\"Zip Code: 89138<br>Year: 2020<br>Median Income: $122,054\",\"Zip Code: 89138<br>Year: 2021<br>Median Income: $140,362\",\"Zip Code: 89138<br>Year: 2022<br>Median Income: $157,170\"],\"x\":[\"2018\",\"2019\",\"2020\",\"2021\",\"2022\"],\"y\":[112972.0,120759.0,122054.0,140362.0,157170.0],\"type\":\"scatter\"},{\"hoverinfo\":\"text\",\"mode\":\"markers\",\"name\":\"89139\",\"text\":[\"Zip Code: 89139<br>Year: 2018<br>Median Income: $75,022\",\"Zip Code: 89139<br>Year: 2019<br>Median Income: $79,197\",\"Zip Code: 89139<br>Year: 2020<br>Median Income: $79,496\",\"Zip Code: 89139<br>Year: 2021<br>Median Income: $85,248\",\"Zip Code: 89139<br>Year: 2022<br>Median Income: $93,003\"],\"x\":[\"2018\",\"2019\",\"2020\",\"2021\",\"2022\"],\"y\":[75022.0,79197.0,79496.0,85248.0,93003.0],\"type\":\"scatter\"},{\"hoverinfo\":\"text\",\"mode\":\"markers\",\"name\":\"89141\",\"text\":[\"Zip Code: 89141<br>Year: 2018<br>Median Income: $88,242\",\"Zip Code: 89141<br>Year: 2019<br>Median Income: $89,649\",\"Zip Code: 89141<br>Year: 2020<br>Median Income: $90,342\",\"Zip Code: 89141<br>Year: 2021<br>Median Income: $98,454\",\"Zip Code: 89141<br>Year: 2022<br>Median Income: $105,993\"],\"x\":[\"2018\",\"2019\",\"2020\",\"2021\",\"2022\"],\"y\":[88242.0,89649.0,90342.0,98454.0,105993.0],\"type\":\"scatter\"},{\"hoverinfo\":\"text\",\"mode\":\"markers\",\"name\":\"89142\",\"text\":[\"Zip Code: 89142<br>Year: 2018<br>Median Income: $48,994\",\"Zip Code: 89142<br>Year: 2019<br>Median Income: $49,180\",\"Zip Code: 89142<br>Year: 2020<br>Median Income: $51,388\",\"Zip Code: 89142<br>Year: 2021<br>Median Income: $53,658\",\"Zip Code: 89142<br>Year: 2022<br>Median Income: $60,245\"],\"x\":[\"2018\",\"2019\",\"2020\",\"2021\",\"2022\"],\"y\":[48994.0,49180.0,51388.0,53658.0,60245.0],\"type\":\"scatter\"},{\"hoverinfo\":\"text\",\"mode\":\"markers\",\"name\":\"89143\",\"text\":[\"Zip Code: 89143<br>Year: 2018<br>Median Income: $83,650\",\"Zip Code: 89143<br>Year: 2019<br>Median Income: $85,455\",\"Zip Code: 89143<br>Year: 2020<br>Median Income: $84,385\",\"Zip Code: 89143<br>Year: 2021<br>Median Income: $86,393\",\"Zip Code: 89143<br>Year: 2022<br>Median Income: $92,575\"],\"x\":[\"2018\",\"2019\",\"2020\",\"2021\",\"2022\"],\"y\":[83650.0,85455.0,84385.0,86393.0,92575.0],\"type\":\"scatter\"},{\"hoverinfo\":\"text\",\"mode\":\"markers\",\"name\":\"89144\",\"text\":[\"Zip Code: 89144<br>Year: 2018<br>Median Income: $86,780\",\"Zip Code: 89144<br>Year: 2019<br>Median Income: $88,750\",\"Zip Code: 89144<br>Year: 2020<br>Median Income: $92,526\",\"Zip Code: 89144<br>Year: 2021<br>Median Income: $93,078\",\"Zip Code: 89144<br>Year: 2022<br>Median Income: $101,000\"],\"x\":[\"2018\",\"2019\",\"2020\",\"2021\",\"2022\"],\"y\":[86780.0,88750.0,92526.0,93078.0,101000.0],\"type\":\"scatter\"},{\"hoverinfo\":\"text\",\"mode\":\"markers\",\"name\":\"89145\",\"text\":[\"Zip Code: 89145<br>Year: 2018<br>Median Income: $57,822\",\"Zip Code: 89145<br>Year: 2019<br>Median Income: $59,549\",\"Zip Code: 89145<br>Year: 2020<br>Median Income: $66,431\",\"Zip Code: 89145<br>Year: 2021<br>Median Income: $66,612\",\"Zip Code: 89145<br>Year: 2022<br>Median Income: $67,308\"],\"x\":[\"2018\",\"2019\",\"2020\",\"2021\",\"2022\"],\"y\":[57822.0,59549.0,66431.0,66612.0,67308.0],\"type\":\"scatter\"},{\"hoverinfo\":\"text\",\"mode\":\"markers\",\"name\":\"89146\",\"text\":[\"Zip Code: 89146<br>Year: 2018<br>Median Income: $48,291\",\"Zip Code: 89146<br>Year: 2019<br>Median Income: $48,210\",\"Zip Code: 89146<br>Year: 2020<br>Median Income: $50,259\",\"Zip Code: 89146<br>Year: 2021<br>Median Income: $51,438\",\"Zip Code: 89146<br>Year: 2022<br>Median Income: $57,581\"],\"x\":[\"2018\",\"2019\",\"2020\",\"2021\",\"2022\"],\"y\":[48291.0,48210.0,50259.0,51438.0,57581.0],\"type\":\"scatter\"},{\"hoverinfo\":\"text\",\"mode\":\"markers\",\"name\":\"89147\",\"text\":[\"Zip Code: 89147<br>Year: 2018<br>Median Income: $54,722\",\"Zip Code: 89147<br>Year: 2019<br>Median Income: $58,964\",\"Zip Code: 89147<br>Year: 2020<br>Median Income: $61,186\",\"Zip Code: 89147<br>Year: 2021<br>Median Income: $63,086\",\"Zip Code: 89147<br>Year: 2022<br>Median Income: $68,251\"],\"x\":[\"2018\",\"2019\",\"2020\",\"2021\",\"2022\"],\"y\":[54722.0,58964.0,61186.0,63086.0,68251.0],\"type\":\"scatter\"},{\"hoverinfo\":\"text\",\"mode\":\"markers\",\"name\":\"89148\",\"text\":[\"Zip Code: 89148<br>Year: 2018<br>Median Income: $73,486\",\"Zip Code: 89148<br>Year: 2019<br>Median Income: $76,359\",\"Zip Code: 89148<br>Year: 2020<br>Median Income: $78,352\",\"Zip Code: 89148<br>Year: 2021<br>Median Income: $83,224\",\"Zip Code: 89148<br>Year: 2022<br>Median Income: $92,362\"],\"x\":[\"2018\",\"2019\",\"2020\",\"2021\",\"2022\"],\"y\":[73486.0,76359.0,78352.0,83224.0,92362.0],\"type\":\"scatter\"},{\"hoverinfo\":\"text\",\"mode\":\"markers\",\"name\":\"89149\",\"text\":[\"Zip Code: 89149<br>Year: 2018<br>Median Income: $72,318\",\"Zip Code: 89149<br>Year: 2019<br>Median Income: $73,883\",\"Zip Code: 89149<br>Year: 2020<br>Median Income: $77,957\",\"Zip Code: 89149<br>Year: 2021<br>Median Income: $88,059\",\"Zip Code: 89149<br>Year: 2022<br>Median Income: $96,454\"],\"x\":[\"2018\",\"2019\",\"2020\",\"2021\",\"2022\"],\"y\":[72318.0,73883.0,77957.0,88059.0,96454.0],\"type\":\"scatter\"},{\"hoverinfo\":\"text\",\"mode\":\"markers\",\"name\":\"89156\",\"text\":[\"Zip Code: 89156<br>Year: 2018<br>Median Income: $47,641\",\"Zip Code: 89156<br>Year: 2019<br>Median Income: $48,920\",\"Zip Code: 89156<br>Year: 2020<br>Median Income: $52,323\",\"Zip Code: 89156<br>Year: 2021<br>Median Income: $56,315\",\"Zip Code: 89156<br>Year: 2022<br>Median Income: $61,856\"],\"x\":[\"2018\",\"2019\",\"2020\",\"2021\",\"2022\"],\"y\":[47641.0,48920.0,52323.0,56315.0,61856.0],\"type\":\"scatter\"},{\"hoverinfo\":\"text\",\"mode\":\"markers\",\"name\":\"89158\",\"text\":[\"Zip Code: 89158<br>Year: 2018<br>Median Income: $29,414\",\"Zip Code: 89158<br>Year: 2019<br>Median Income: $30,581\",\"Zip Code: 89158<br>Year: 2020<br>Median Income: $32,114\",\"Zip Code: 89158<br>Year: 2021<br>Median Income: $117,500\",\"Zip Code: 89158<br>Year: 2022<br>Median Income: $110,039\"],\"x\":[\"2018\",\"2019\",\"2020\",\"2021\",\"2022\"],\"y\":[29414.0,30581.0,32114.0,117500.0,110039.0],\"type\":\"scatter\"},{\"hoverinfo\":\"text\",\"mode\":\"markers\",\"name\":\"89169\",\"text\":[\"Zip Code: 89169<br>Year: 2018<br>Median Income: $82,554\",\"Zip Code: 89169<br>Year: 2019<br>Median Income: $88,517\",\"Zip Code: 89169<br>Year: 2020<br>Median Income: $90,801\",\"Zip Code: 89169<br>Year: 2021<br>Median Income: $32,050\",\"Zip Code: 89169<br>Year: 2022<br>Median Income: $37,200\"],\"x\":[\"2018\",\"2019\",\"2020\",\"2021\",\"2022\"],\"y\":[82554.0,88517.0,90801.0,32050.0,37200.0],\"type\":\"scatter\"},{\"hoverinfo\":\"text\",\"mode\":\"markers\",\"name\":\"89178\",\"text\":[\"Zip Code: 89178<br>Year: 2018<br>Median Income: $92,634\",\"Zip Code: 89178<br>Year: 2019<br>Median Income: $99,662\",\"Zip Code: 89178<br>Year: 2020<br>Median Income: $96,460\",\"Zip Code: 89178<br>Year: 2021<br>Median Income: $92,471\",\"Zip Code: 89178<br>Year: 2022<br>Median Income: $101,256\"],\"x\":[\"2018\",\"2019\",\"2020\",\"2021\",\"2022\"],\"y\":[92634.0,99662.0,96460.0,92471.0,101256.0],\"type\":\"scatter\"},{\"hoverinfo\":\"text\",\"mode\":\"markers\",\"name\":\"89179\",\"text\":[\"Zip Code: 89179<br>Year: 2018<br>Median Income: $65,491\",\"Zip Code: 89179<br>Year: 2019<br>Median Income: $65,988\",\"Zip Code: 89179<br>Year: 2020<br>Median Income: $65,943\",\"Zip Code: 89179<br>Year: 2021<br>Median Income: $100,840\",\"Zip Code: 89179<br>Year: 2022<br>Median Income: $110,356\"],\"x\":[\"2018\",\"2019\",\"2020\",\"2021\",\"2022\"],\"y\":[65491.0,65988.0,65943.0,100840.0,110356.0],\"type\":\"scatter\"},{\"hoverinfo\":\"text\",\"mode\":\"markers\",\"name\":\"89183\",\"text\":[\"Zip Code: 89183<br>Year: 2018<br>Median Income: $nan\",\"Zip Code: 89183<br>Year: 2019<br>Median Income: $nan\",\"Zip Code: 89183<br>Year: 2020<br>Median Income: $nan\",\"Zip Code: 89183<br>Year: 2021<br>Median Income: $69,125\",\"Zip Code: 89183<br>Year: 2022<br>Median Income: $76,488\"],\"x\":[\"2018\",\"2019\",\"2020\",\"2021\",\"2022\"],\"y\":[null,null,null,69125.0,76488.0],\"type\":\"scatter\"}],                        {\"template\":{\"data\":{\"histogram2dcontour\":[{\"type\":\"histogram2dcontour\",\"colorbar\":{\"outlinewidth\":0,\"ticks\":\"\"},\"colorscale\":[[0.0,\"#0d0887\"],[0.1111111111111111,\"#46039f\"],[0.2222222222222222,\"#7201a8\"],[0.3333333333333333,\"#9c179e\"],[0.4444444444444444,\"#bd3786\"],[0.5555555555555556,\"#d8576b\"],[0.6666666666666666,\"#ed7953\"],[0.7777777777777778,\"#fb9f3a\"],[0.8888888888888888,\"#fdca26\"],[1.0,\"#f0f921\"]]}],\"choropleth\":[{\"type\":\"choropleth\",\"colorbar\":{\"outlinewidth\":0,\"ticks\":\"\"}}],\"histogram2d\":[{\"type\":\"histogram2d\",\"colorbar\":{\"outlinewidth\":0,\"ticks\":\"\"},\"colorscale\":[[0.0,\"#0d0887\"],[0.1111111111111111,\"#46039f\"],[0.2222222222222222,\"#7201a8\"],[0.3333333333333333,\"#9c179e\"],[0.4444444444444444,\"#bd3786\"],[0.5555555555555556,\"#d8576b\"],[0.6666666666666666,\"#ed7953\"],[0.7777777777777778,\"#fb9f3a\"],[0.8888888888888888,\"#fdca26\"],[1.0,\"#f0f921\"]]}],\"heatmap\":[{\"type\":\"heatmap\",\"colorbar\":{\"outlinewidth\":0,\"ticks\":\"\"},\"colorscale\":[[0.0,\"#0d0887\"],[0.1111111111111111,\"#46039f\"],[0.2222222222222222,\"#7201a8\"],[0.3333333333333333,\"#9c179e\"],[0.4444444444444444,\"#bd3786\"],[0.5555555555555556,\"#d8576b\"],[0.6666666666666666,\"#ed7953\"],[0.7777777777777778,\"#fb9f3a\"],[0.8888888888888888,\"#fdca26\"],[1.0,\"#f0f921\"]]}],\"heatmapgl\":[{\"type\":\"heatmapgl\",\"colorbar\":{\"outlinewidth\":0,\"ticks\":\"\"},\"colorscale\":[[0.0,\"#0d0887\"],[0.1111111111111111,\"#46039f\"],[0.2222222222222222,\"#7201a8\"],[0.3333333333333333,\"#9c179e\"],[0.4444444444444444,\"#bd3786\"],[0.5555555555555556,\"#d8576b\"],[0.6666666666666666,\"#ed7953\"],[0.7777777777777778,\"#fb9f3a\"],[0.8888888888888888,\"#fdca26\"],[1.0,\"#f0f921\"]]}],\"contourcarpet\":[{\"type\":\"contourcarpet\",\"colorbar\":{\"outlinewidth\":0,\"ticks\":\"\"}}],\"contour\":[{\"type\":\"contour\",\"colorbar\":{\"outlinewidth\":0,\"ticks\":\"\"},\"colorscale\":[[0.0,\"#0d0887\"],[0.1111111111111111,\"#46039f\"],[0.2222222222222222,\"#7201a8\"],[0.3333333333333333,\"#9c179e\"],[0.4444444444444444,\"#bd3786\"],[0.5555555555555556,\"#d8576b\"],[0.6666666666666666,\"#ed7953\"],[0.7777777777777778,\"#fb9f3a\"],[0.8888888888888888,\"#fdca26\"],[1.0,\"#f0f921\"]]}],\"surface\":[{\"type\":\"surface\",\"colorbar\":{\"outlinewidth\":0,\"ticks\":\"\"},\"colorscale\":[[0.0,\"#0d0887\"],[0.1111111111111111,\"#46039f\"],[0.2222222222222222,\"#7201a8\"],[0.3333333333333333,\"#9c179e\"],[0.4444444444444444,\"#bd3786\"],[0.5555555555555556,\"#d8576b\"],[0.6666666666666666,\"#ed7953\"],[0.7777777777777778,\"#fb9f3a\"],[0.8888888888888888,\"#fdca26\"],[1.0,\"#f0f921\"]]}],\"mesh3d\":[{\"type\":\"mesh3d\",\"colorbar\":{\"outlinewidth\":0,\"ticks\":\"\"}}],\"scatter\":[{\"fillpattern\":{\"fillmode\":\"overlay\",\"size\":10,\"solidity\":0.2},\"type\":\"scatter\"}],\"parcoords\":[{\"type\":\"parcoords\",\"line\":{\"colorbar\":{\"outlinewidth\":0,\"ticks\":\"\"}}}],\"scatterpolargl\":[{\"type\":\"scatterpolargl\",\"marker\":{\"colorbar\":{\"outlinewidth\":0,\"ticks\":\"\"}}}],\"bar\":[{\"error_x\":{\"color\":\"#2a3f5f\"},\"error_y\":{\"color\":\"#2a3f5f\"},\"marker\":{\"line\":{\"color\":\"#E5ECF6\",\"width\":0.5},\"pattern\":{\"fillmode\":\"overlay\",\"size\":10,\"solidity\":0.2}},\"type\":\"bar\"}],\"scattergeo\":[{\"type\":\"scattergeo\",\"marker\":{\"colorbar\":{\"outlinewidth\":0,\"ticks\":\"\"}}}],\"scatterpolar\":[{\"type\":\"scatterpolar\",\"marker\":{\"colorbar\":{\"outlinewidth\":0,\"ticks\":\"\"}}}],\"histogram\":[{\"marker\":{\"pattern\":{\"fillmode\":\"overlay\",\"size\":10,\"solidity\":0.2}},\"type\":\"histogram\"}],\"scattergl\":[{\"type\":\"scattergl\",\"marker\":{\"colorbar\":{\"outlinewidth\":0,\"ticks\":\"\"}}}],\"scatter3d\":[{\"type\":\"scatter3d\",\"line\":{\"colorbar\":{\"outlinewidth\":0,\"ticks\":\"\"}},\"marker\":{\"colorbar\":{\"outlinewidth\":0,\"ticks\":\"\"}}}],\"scattermapbox\":[{\"type\":\"scattermapbox\",\"marker\":{\"colorbar\":{\"outlinewidth\":0,\"ticks\":\"\"}}}],\"scatterternary\":[{\"type\":\"scatterternary\",\"marker\":{\"colorbar\":{\"outlinewidth\":0,\"ticks\":\"\"}}}],\"scattercarpet\":[{\"type\":\"scattercarpet\",\"marker\":{\"colorbar\":{\"outlinewidth\":0,\"ticks\":\"\"}}}],\"carpet\":[{\"aaxis\":{\"endlinecolor\":\"#2a3f5f\",\"gridcolor\":\"white\",\"linecolor\":\"white\",\"minorgridcolor\":\"white\",\"startlinecolor\":\"#2a3f5f\"},\"baxis\":{\"endlinecolor\":\"#2a3f5f\",\"gridcolor\":\"white\",\"linecolor\":\"white\",\"minorgridcolor\":\"white\",\"startlinecolor\":\"#2a3f5f\"},\"type\":\"carpet\"}],\"table\":[{\"cells\":{\"fill\":{\"color\":\"#EBF0F8\"},\"line\":{\"color\":\"white\"}},\"header\":{\"fill\":{\"color\":\"#C8D4E3\"},\"line\":{\"color\":\"white\"}},\"type\":\"table\"}],\"barpolar\":[{\"marker\":{\"line\":{\"color\":\"#E5ECF6\",\"width\":0.5},\"pattern\":{\"fillmode\":\"overlay\",\"size\":10,\"solidity\":0.2}},\"type\":\"barpolar\"}],\"pie\":[{\"automargin\":true,\"type\":\"pie\"}]},\"layout\":{\"autotypenumbers\":\"strict\",\"colorway\":[\"#636efa\",\"#EF553B\",\"#00cc96\",\"#ab63fa\",\"#FFA15A\",\"#19d3f3\",\"#FF6692\",\"#B6E880\",\"#FF97FF\",\"#FECB52\"],\"font\":{\"color\":\"#2a3f5f\"},\"hovermode\":\"closest\",\"hoverlabel\":{\"align\":\"left\"},\"paper_bgcolor\":\"white\",\"plot_bgcolor\":\"#E5ECF6\",\"polar\":{\"bgcolor\":\"#E5ECF6\",\"angularaxis\":{\"gridcolor\":\"white\",\"linecolor\":\"white\",\"ticks\":\"\"},\"radialaxis\":{\"gridcolor\":\"white\",\"linecolor\":\"white\",\"ticks\":\"\"}},\"ternary\":{\"bgcolor\":\"#E5ECF6\",\"aaxis\":{\"gridcolor\":\"white\",\"linecolor\":\"white\",\"ticks\":\"\"},\"baxis\":{\"gridcolor\":\"white\",\"linecolor\":\"white\",\"ticks\":\"\"},\"caxis\":{\"gridcolor\":\"white\",\"linecolor\":\"white\",\"ticks\":\"\"}},\"coloraxis\":{\"colorbar\":{\"outlinewidth\":0,\"ticks\":\"\"}},\"colorscale\":{\"sequential\":[[0.0,\"#0d0887\"],[0.1111111111111111,\"#46039f\"],[0.2222222222222222,\"#7201a8\"],[0.3333333333333333,\"#9c179e\"],[0.4444444444444444,\"#bd3786\"],[0.5555555555555556,\"#d8576b\"],[0.6666666666666666,\"#ed7953\"],[0.7777777777777778,\"#fb9f3a\"],[0.8888888888888888,\"#fdca26\"],[1.0,\"#f0f921\"]],\"sequentialminus\":[[0.0,\"#0d0887\"],[0.1111111111111111,\"#46039f\"],[0.2222222222222222,\"#7201a8\"],[0.3333333333333333,\"#9c179e\"],[0.4444444444444444,\"#bd3786\"],[0.5555555555555556,\"#d8576b\"],[0.6666666666666666,\"#ed7953\"],[0.7777777777777778,\"#fb9f3a\"],[0.8888888888888888,\"#fdca26\"],[1.0,\"#f0f921\"]],\"diverging\":[[0,\"#8e0152\"],[0.1,\"#c51b7d\"],[0.2,\"#de77ae\"],[0.3,\"#f1b6da\"],[0.4,\"#fde0ef\"],[0.5,\"#f7f7f7\"],[0.6,\"#e6f5d0\"],[0.7,\"#b8e186\"],[0.8,\"#7fbc41\"],[0.9,\"#4d9221\"],[1,\"#276419\"]]},\"xaxis\":{\"gridcolor\":\"white\",\"linecolor\":\"white\",\"ticks\":\"\",\"title\":{\"standoff\":15},\"zerolinecolor\":\"white\",\"automargin\":true,\"zerolinewidth\":2},\"yaxis\":{\"gridcolor\":\"white\",\"linecolor\":\"white\",\"ticks\":\"\",\"title\":{\"standoff\":15},\"zerolinecolor\":\"white\",\"automargin\":true,\"zerolinewidth\":2},\"scene\":{\"xaxis\":{\"backgroundcolor\":\"#E5ECF6\",\"gridcolor\":\"white\",\"linecolor\":\"white\",\"showbackground\":true,\"ticks\":\"\",\"zerolinecolor\":\"white\",\"gridwidth\":2},\"yaxis\":{\"backgroundcolor\":\"#E5ECF6\",\"gridcolor\":\"white\",\"linecolor\":\"white\",\"showbackground\":true,\"ticks\":\"\",\"zerolinecolor\":\"white\",\"gridwidth\":2},\"zaxis\":{\"backgroundcolor\":\"#E5ECF6\",\"gridcolor\":\"white\",\"linecolor\":\"white\",\"showbackground\":true,\"ticks\":\"\",\"zerolinecolor\":\"white\",\"gridwidth\":2}},\"shapedefaults\":{\"line\":{\"color\":\"#2a3f5f\"}},\"annotationdefaults\":{\"arrowcolor\":\"#2a3f5f\",\"arrowhead\":0,\"arrowwidth\":1},\"geo\":{\"bgcolor\":\"white\",\"landcolor\":\"#E5ECF6\",\"subunitcolor\":\"white\",\"showland\":true,\"showlakes\":true,\"lakecolor\":\"white\"},\"title\":{\"x\":0.05},\"mapbox\":{\"style\":\"light\"}}},\"xaxis\":{\"title\":{\"text\":\"Year\"}},\"yaxis\":{\"title\":{\"text\":\"Median Income (USD)\"}},\"title\":{\"text\":\"Median Income by Zip Code in Las Vegas (2018-2022)\"},\"legend\":{\"title\":{\"text\":\"Zip Code\"}}},                        {\"responsive\": true}                    ).then(function(){\n",
       "                            \n",
       "var gd = document.getElementById('c7debd4b-3696-47a4-805c-7457333afa2f');\n",
       "var x = new MutationObserver(function (mutations, observer) {{\n",
       "        var display = window.getComputedStyle(gd).display;\n",
       "        if (!display || display === 'none') {{\n",
       "            console.log([gd, 'removed!']);\n",
       "            Plotly.purge(gd);\n",
       "            observer.disconnect();\n",
       "        }}\n",
       "}});\n",
       "\n",
       "// Listen for the removal of the full notebook cells\n",
       "var notebookContainer = gd.closest('#notebook-container');\n",
       "if (notebookContainer) {{\n",
       "    x.observe(notebookContainer, {childList: true});\n",
       "}}\n",
       "\n",
       "// Listen for the clearing of the current output cell\n",
       "var outputEl = gd.closest('.output');\n",
       "if (outputEl) {{\n",
       "    x.observe(outputEl, {childList: true});\n",
       "}}\n",
       "\n",
       "                        })                };                });            </script>        </div>"
      ]
     },
     "metadata": {},
     "output_type": "display_data"
    }
   ],
   "source": [
    "for zip_code in latest_long_df['Zip Code'].unique():\n",
    "    df_filtered = latest_long_df[latest_long_df['Zip Code'] == zip_code]\n",
    "    fig.add_trace(go.Scatter(x=df_filtered['Year'], y=df_filtered['Median Income'],mode='markers',       \n",
    "                             name=str(zip_code),\n",
    "        text=df_filtered.apply(lambda row: f\"Zip Code: {int(row['Zip Code'])}<br>Year: {row['Year']}<br>Median Income: ${row['Median Income']:,.0f}\", axis=1),\n",
    "        hoverinfo='text'\n",
    "    ))\n",
    "\n",
    "fig.update_layout(xaxis_title='Year',\n",
    "                          yaxis_title='Median Income (USD)',title='Median Income by Zip Code in Las Vegas (2018-2022)',\n",
    "                          legend_title='Zip Code')\n",
    "\n",
    "fig.show()\n"
   ]
  },
  {
   "cell_type": "code",
   "execution_count": null,
   "id": "c7c939ef",
   "metadata": {},
   "outputs": [],
   "source": []
  },
  {
   "cell_type": "code",
   "execution_count": null,
   "id": "5d604e1b",
   "metadata": {},
   "outputs": [],
   "source": []
  }
 ],
 "metadata": {
  "kernelspec": {
   "display_name": "Python 3 (ipykernel)",
   "language": "python",
   "name": "python3"
  },
  "language_info": {
   "codemirror_mode": {
    "name": "ipython",
    "version": 3
   },
   "file_extension": ".py",
   "mimetype": "text/x-python",
   "name": "python",
   "nbconvert_exporter": "python",
   "pygments_lexer": "ipython3",
   "version": "3.10.13"
  }
 },
 "nbformat": 4,
 "nbformat_minor": 5
}
